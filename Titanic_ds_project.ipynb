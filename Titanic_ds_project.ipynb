{
 "cells": [
  {
   "cell_type": "code",
   "execution_count": null,
   "id": "237ba2b2",
   "metadata": {},
   "outputs": [],
   "source": [
    "from sklearn import datasets\n",
    "from sklearn.linear_model import LogisticRegression\n",
    "import numpy as np\n",
    "import pandas as pd"
   ]
  },
  {
   "cell_type": "code",
   "execution_count": null,
   "id": "fe626ee4",
   "metadata": {},
   "outputs": [],
   "source": [
    "df=pd.read_csv('0000000000002429_training_titanic_x_y_train.csv')\n",
    "df['Cabin'].fillna('K',inplace=True)\n",
    "df.fillna(0,inplace=True)\n",
    "def ConvertSex(s):\n",
    "    if s=='male':\n",
    "        return 0\n",
    "    else :\n",
    "        return 1\n",
    "def ConvertEmbarked(s):\n",
    "    if s=='C':\n",
    "        return 0\n",
    "    elif s=='Q':\n",
    "        return 1\n",
    "    else :\n",
    "        return 2\n",
    "def ConvertCabin(s):\n",
    "    if 'A' in s:\n",
    "        return 1\n",
    "    elif 'B' in s:\n",
    "        return 2\n",
    "    elif 'C' in s:\n",
    "        return 3\n",
    "    elif 'D' in s:\n",
    "        return 4\n",
    "    elif 'E' in s:\n",
    "        return 5\n",
    "    elif 'F' in s:\n",
    "        return 6\n",
    "    elif 'G' in s:\n",
    "        return 7\n",
    "    elif 'T' in s:\n",
    "        return 8\n",
    "    else :\n",
    "        return 0\n",
    "\n",
    "df.drop(columns=['Name','Ticket'],inplace=True)\n",
    "df['Sex']=df.Sex.apply(ConvertSex)\n",
    "df['Cabin']=df.Cabin.apply(ConvertCabin)\n",
    "df['Embarked']=df.Embarked.apply(ConvertEmbarked)\n",
    "df"
   ]
  },
  {
   "cell_type": "code",
   "execution_count": null,
   "id": "ef562318",
   "metadata": {},
   "outputs": [],
   "source": [
    "df2=pd.read_csv('0000000000002429_test_titanic_x_test.csv')\n",
    "df2['Cabin'].fillna('K',inplace=True)\n",
    "df2.fillna(0,inplace=True)\n",
    "def ConvertSex(s):\n",
    "    if s=='male':\n",
    "        return 0\n",
    "    else :\n",
    "        return 1\n",
    "def ConvertEmbarked(s):\n",
    "    if s=='C':\n",
    "        return 0\n",
    "    elif s=='Q':\n",
    "        return 1\n",
    "    else :\n",
    "        return 2\n",
    "def ConvertCabin(s):\n",
    "    if 'A' in s:\n",
    "        return 1\n",
    "    elif 'B' in s:\n",
    "        return 2\n",
    "    elif 'C' in s:\n",
    "        return 3\n",
    "    elif 'D' in s:\n",
    "        return 4\n",
    "    elif 'E' in s:\n",
    "        return 5\n",
    "    elif 'F' in s:\n",
    "        return 6\n",
    "    elif 'G' in s:\n",
    "        return 7\n",
    "    elif 'T' in s:\n",
    "        return 8\n",
    "    else :\n",
    "        return 0\n",
    "    \n",
    "    \n",
    "    \n",
    "\n",
    "df2.drop(columns=['Name','Ticket'],inplace=True)\n",
    "df2['Sex']=df2.Sex.apply(ConvertSex)\n",
    "df2['Cabin']=df2.Cabin.apply(ConvertCabin)\n",
    "df2['Embarked']=df2.Embarked.apply(ConvertEmbarked)\n",
    "df2"
   ]
  },
  {
   "cell_type": "code",
   "execution_count": null,
   "id": "b7fa9110",
   "metadata": {},
   "outputs": [],
   "source": [
    "#gettin titanic_data and test data\n",
    "X_test=df2.values\n",
    "train_data=df.values"
   ]
  },
  {
   "cell_type": "code",
   "execution_count": null,
   "id": "38464b95",
   "metadata": {},
   "outputs": [],
   "source": [
    "#X_train,Y_train - for training our algorithm && X_test is for testing ,Y_test is to check it with Y_predicted to check efficiency \n",
    "x_tr=train_data[:,:-1]\n",
    "y_tr=train_data[:,-1]\n",
    "#reshaping X_test\n",
    "X_test.shape\n"
   ]
  },
  {
   "cell_type": "code",
   "execution_count": null,
   "id": "72f8945d",
   "metadata": {},
   "outputs": [],
   "source": [
    "classification_algo=LogisticRegression(multi_class='multinomial',penalty='l2',solver='newton-cg',)"
   ]
  },
  {
   "cell_type": "code",
   "execution_count": null,
   "id": "cb8c6f29",
   "metadata": {},
   "outputs": [],
   "source": [
    "classification_algo.fit(x_tr,y_tr)"
   ]
  },
  {
   "cell_type": "code",
   "execution_count": null,
   "id": "2417dad6",
   "metadata": {},
   "outputs": [],
   "source": [
    "y_pred=classification_algo.predict(X_test)"
   ]
  },
  {
   "cell_type": "code",
   "execution_count": null,
   "id": "8c1675ce",
   "metadata": {},
   "outputs": [],
   "source": [
    "np.savetxt('tit_prediction.csv',y_pred, delimiter=',')"
   ]
  },
  {
   "cell_type": "code",
   "execution_count": null,
   "id": "3d827b71",
   "metadata": {},
   "outputs": [],
   "source": [
    "list1=classification_algo.predict_proba(X_test)\n",
    "list1"
   ]
  },
  {
   "cell_type": "code",
   "execution_count": null,
   "id": "ea70596d",
   "metadata": {},
   "outputs": [],
   "source": []
  }
 ],
 "metadata": {
  "kernelspec": {
   "display_name": "Python 3 (ipykernel)",
   "language": "python",
   "name": "python3"
  },
  "language_info": {
   "codemirror_mode": {
    "name": "ipython",
    "version": 3
   },
   "file_extension": ".py",
   "mimetype": "text/x-python",
   "name": "python",
   "nbconvert_exporter": "python",
   "pygments_lexer": "ipython3",
   "version": "3.9.7"
  }
 },
 "nbformat": 4,
 "nbformat_minor": 5
}
