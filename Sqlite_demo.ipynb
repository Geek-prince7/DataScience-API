{
 "cells": [
  {
   "cell_type": "code",
   "execution_count": 1,
   "id": "f3725f84",
   "metadata": {},
   "outputs": [],
   "source": [
    "import sqlite3"
   ]
  },
  {
   "cell_type": "code",
   "execution_count": 2,
   "id": "3d325f0a",
   "metadata": {},
   "outputs": [
    {
     "data": {
      "text/plain": [
       "<sqlite3.Connection at 0x2707e020120>"
      ]
     },
     "execution_count": 2,
     "metadata": {},
     "output_type": "execute_result"
    }
   ],
   "source": [
    "db=sqlite3.connect('school.sqlite')\n",
    "db"
   ]
  },
  {
   "cell_type": "code",
   "execution_count": 3,
   "id": "9c06b6a6",
   "metadata": {},
   "outputs": [
    {
     "data": {
      "text/plain": [
       "<sqlite3.Cursor at 0x2707e039500>"
      ]
     },
     "execution_count": 3,
     "metadata": {},
     "output_type": "execute_result"
    }
   ],
   "source": [
    "cur=db.cursor()\n",
    "cur"
   ]
  },
  {
   "cell_type": "code",
   "execution_count": 4,
   "id": "ebb7cd22",
   "metadata": {},
   "outputs": [
    {
     "data": {
      "text/plain": [
       "<sqlite3.Cursor at 0x2707e039500>"
      ]
     },
     "execution_count": 4,
     "metadata": {},
     "output_type": "execute_result"
    }
   ],
   "source": [
    "sql_query='create table student(rollno int Primary key,name Text,age int)'\n",
    "cur.execute(sql_query)"
   ]
  },
  {
   "cell_type": "code",
   "execution_count": 5,
   "id": "80ce0f4e",
   "metadata": {},
   "outputs": [
    {
     "data": {
      "text/plain": [
       "<sqlite3.Cursor at 0x2707e039500>"
      ]
     },
     "execution_count": 5,
     "metadata": {},
     "output_type": "execute_result"
    }
   ],
   "source": [
    "cur.execute('Insert into student values (101,\"Prince\",1)')"
   ]
  },
  {
   "cell_type": "code",
   "execution_count": 6,
   "id": "873f1f7e",
   "metadata": {},
   "outputs": [],
   "source": [
    "db.commit()"
   ]
  },
  {
   "cell_type": "code",
   "execution_count": 7,
   "id": "f67a1b8b",
   "metadata": {},
   "outputs": [
    {
     "data": {
      "text/plain": [
       "<sqlite3.Cursor at 0x2707e039500>"
      ]
     },
     "execution_count": 7,
     "metadata": {},
     "output_type": "execute_result"
    }
   ],
   "source": [
    "cur.execute('Insert into student values (102,\"Tony\",4)')\n"
   ]
  },
  {
   "cell_type": "code",
   "execution_count": 8,
   "id": "1ff0e589",
   "metadata": {},
   "outputs": [],
   "source": [
    "db.commit()"
   ]
  },
  {
   "cell_type": "code",
   "execution_count": 9,
   "id": "e389a526",
   "metadata": {},
   "outputs": [],
   "source": [
    "db.close()"
   ]
  },
  {
   "cell_type": "code",
   "execution_count": 10,
   "id": "a94ad9e0",
   "metadata": {},
   "outputs": [],
   "source": [
    "########################################################################\n",
    "import sqlite3"
   ]
  },
  {
   "cell_type": "code",
   "execution_count": 11,
   "id": "95757038",
   "metadata": {},
   "outputs": [],
   "source": [
    "db=sqlite3.connect('employee_detail.sqlite')"
   ]
  },
  {
   "cell_type": "code",
   "execution_count": 12,
   "id": "91f4e65d",
   "metadata": {},
   "outputs": [],
   "source": [
    "cur=db.cursor()"
   ]
  },
  {
   "cell_type": "code",
   "execution_count": 13,
   "id": "2d7b7b11",
   "metadata": {},
   "outputs": [
    {
     "data": {
      "text/plain": [
       "<sqlite3.Cursor at 0x2707e05b490>"
      ]
     },
     "execution_count": 13,
     "metadata": {},
     "output_type": "execute_result"
    }
   ],
   "source": [
    "cur.execute('create table employees (emp_id int Primary key,Name Text,age int,department Text,salary int)')"
   ]
  },
  {
   "cell_type": "code",
   "execution_count": 14,
   "id": "32d36b7b",
   "metadata": {},
   "outputs": [
    {
     "data": {
      "text/plain": [
       "<sqlite3.Cursor at 0x2707e05b490>"
      ]
     },
     "execution_count": 14,
     "metadata": {},
     "output_type": "execute_result"
    }
   ],
   "source": [
    "cur.execute('Insert into employees values(100,\"Rishav\",25,\"Marketing\",50000)')"
   ]
  },
  {
   "cell_type": "code",
   "execution_count": 15,
   "id": "7756e5e3",
   "metadata": {},
   "outputs": [],
   "source": [
    "db.commit()"
   ]
  },
  {
   "cell_type": "code",
   "execution_count": 16,
   "id": "ef7cd1a7",
   "metadata": {},
   "outputs": [],
   "source": [
    "cur.execute('Insert into employees values(101,\"Abhishek\",26,\"Operation\",60000)')\n",
    "cur.execute('Insert into employees values(102,\"Aman\",24,\"Human Resource\",75000)')\n",
    "db.commit()"
   ]
  },
  {
   "cell_type": "code",
   "execution_count": 17,
   "id": "3be75277",
   "metadata": {},
   "outputs": [
    {
     "name": "stdout",
     "output_type": "stream",
     "text": [
      "Prince\n",
      "23\n",
      "007\n",
      "100000000\n",
      "Entrepreneur\n"
     ]
    }
   ],
   "source": [
    "def insertinTable(name,age,salary,emp_id,dept):\n",
    "    cur.execute('Insert into employees values(?,?,?,?,?)',(emp_id,name,age,dept,salary))\n",
    "    db.commit()\n",
    "name=str(input())\n",
    "age=int(input())\n",
    "emp_id=int(input())\n",
    "salary=int(input())\n",
    "dept=str(input())\n",
    "insertinTable(name,age,salary,emp_id,dept)"
   ]
  },
  {
   "cell_type": "code",
   "execution_count": 20,
   "id": "817809d9",
   "metadata": {},
   "outputs": [],
   "source": [
    "db.close()"
   ]
  },
  {
   "cell_type": "code",
   "execution_count": 22,
   "id": "2f21edc9",
   "metadata": {},
   "outputs": [],
   "source": [
    "###################################################################\n",
    "#using school database\n",
    "db=sqlite3.connect('school.sqlite')\n",
    "cur=db.cursor()"
   ]
  },
  {
   "cell_type": "code",
   "execution_count": 26,
   "id": "95f36069",
   "metadata": {},
   "outputs": [],
   "source": [
    "#to insert multiple rows \n",
    "value=[(103,\"Bruce\",29),(104,\"Steve\",31),(105,\"Scott\",27),(106,\"Peter\",24),(107,\"stephen\",29),(108,\"Barton\",27)]\n",
    "cur.executemany('insert into student values(?,?,?)',value)\n",
    "db.commit()"
   ]
  },
  {
   "cell_type": "code",
   "execution_count": 31,
   "id": "24cd3d54",
   "metadata": {},
   "outputs": [],
   "source": [
    "cur.execute('Update student set age=25 where rollno=106')\n",
    "db.commit()"
   ]
  },
  {
   "cell_type": "code",
   "execution_count": 35,
   "id": "0330d696",
   "metadata": {},
   "outputs": [],
   "source": [
    "#as an argument\n",
    "new_age=(50,) #in form of tupple\n",
    "cur.execute('Update student set age=? where rollno=108',new_age)\n",
    "db.commit()\n",
    "db.close()"
   ]
  },
  {
   "cell_type": "code",
   "execution_count": 36,
   "id": "9ef6a0df",
   "metadata": {},
   "outputs": [
    {
     "data": {
      "text/plain": [
       "<sqlite3.Cursor at 0x2707e0fd7a0>"
      ]
     },
     "execution_count": 36,
     "metadata": {},
     "output_type": "execute_result"
    }
   ],
   "source": [
    "##################\n",
    "db=sqlite3.connect('employee_detail.sqlite')\n",
    "cur=db.cursor()\n",
    "cur.execute('delete from employees where emp_id=101')\n"
   ]
  },
  {
   "cell_type": "code",
   "execution_count": 37,
   "id": "0c0b00b0",
   "metadata": {},
   "outputs": [],
   "source": [
    "db.commit()"
   ]
  },
  {
   "cell_type": "code",
   "execution_count": 43,
   "id": "77345c8a",
   "metadata": {},
   "outputs": [],
   "source": [
    "emp_id=[(100,),(7,)]\n",
    "cur.executemany('delete from employees where emp_id=?',emp_id)\n",
    "db.commit()\n",
    "cur.execute('Insert into employees values(100,\"Rishav\",25,\"Marketing\",50000)')\n",
    "db.commit()\n",
    "db.close()"
   ]
  },
  {
   "cell_type": "code",
   "execution_count": 61,
   "id": "55dd2e36",
   "metadata": {},
   "outputs": [
    {
     "ename": "OperationalError",
     "evalue": "table Employee_Detail already exists",
     "output_type": "error",
     "traceback": [
      "\u001b[1;31m---------------------------------------------------------------------------\u001b[0m",
      "\u001b[1;31mOperationalError\u001b[0m                          Traceback (most recent call last)",
      "\u001b[1;32m<ipython-input-61-6d9dee48cc82>\u001b[0m in \u001b[0;36m<module>\u001b[1;34m\u001b[0m\n\u001b[0;32m     13\u001b[0m \u001b[0mdb\u001b[0m\u001b[1;33m=\u001b[0m\u001b[0msqlite3\u001b[0m\u001b[1;33m.\u001b[0m\u001b[0mconnect\u001b[0m\u001b[1;33m(\u001b[0m\u001b[1;34m'Employee.sqlite'\u001b[0m\u001b[1;33m)\u001b[0m\u001b[1;33m\u001b[0m\u001b[1;33m\u001b[0m\u001b[0m\n\u001b[0;32m     14\u001b[0m \u001b[0mcur\u001b[0m\u001b[1;33m=\u001b[0m\u001b[0mdb\u001b[0m\u001b[1;33m.\u001b[0m\u001b[0mcursor\u001b[0m\u001b[1;33m(\u001b[0m\u001b[1;33m)\u001b[0m\u001b[1;33m\u001b[0m\u001b[1;33m\u001b[0m\u001b[0m\n\u001b[1;32m---> 15\u001b[1;33m \u001b[0mcur\u001b[0m\u001b[1;33m.\u001b[0m\u001b[0mexecute\u001b[0m\u001b[1;33m(\u001b[0m\u001b[1;34m'create table Employee_Detail(emp_id int Primary key,Name Text,Age int,Department Text,Salary int) '\u001b[0m\u001b[1;33m)\u001b[0m\u001b[1;33m\u001b[0m\u001b[1;33m\u001b[0m\u001b[0m\n\u001b[0m\u001b[0;32m     16\u001b[0m \u001b[1;33m\u001b[0m\u001b[0m\n\u001b[0;32m     17\u001b[0m \u001b[0mcur\u001b[0m\u001b[1;33m.\u001b[0m\u001b[0mexecutemany\u001b[0m\u001b[1;33m(\u001b[0m\u001b[1;34m'insert into Employee_Detail values(?,?,?,?,?)'\u001b[0m\u001b[1;33m,\u001b[0m\u001b[0ml1\u001b[0m\u001b[1;33m)\u001b[0m\u001b[1;33m\u001b[0m\u001b[1;33m\u001b[0m\u001b[0m\n",
      "\u001b[1;31mOperationalError\u001b[0m: table Employee_Detail already exists"
     ]
    }
   ],
   "source": [
    "#####################################################\n",
    "employee_id=[101,102,103,104,105,106,107,108,109,110,111,112]\n",
    "name=['Aadarsh','Aarti','Siddharth','Aman','Amit','Shivansh','Vaibhav','Himanshu','Raman','Kunal','Adhira','Tanya']\n",
    "age=[25,27,25,24,30,26,23,26,25,26,29,24]\n",
    "department=['Marketing','Operations','Finance','Human Resource','Marketing','IT','Finance','IT','Operations','Marketing','Human Resource','Marketing']\n",
    "salary=[50000,60000,85000,75000,50000,90000,85000,90000,60000,50000,75000,50000]\n",
    "\n",
    "l1=[]\n",
    "for i in range(12):\n",
    "    tupp=(employee_id[i],name[i],age[i],department[i],salary[i])\n",
    "    l1.append(tupp)\n",
    "import sqlite3\n",
    "db=sqlite3.connect('Employee.sqlite')\n",
    "cur=db.cursor()\n",
    "cur.execute('create table Employee_Detail(emp_id int Primary key,Name Text,Age int,Department Text,Salary int) ')\n",
    "\n",
    "cur.executemany('insert into Employee_Detail values(?,?,?,?,?)',l1)\n",
    "db.commit()\n",
    "print(\"Done\")\n",
    "cur.execute('select emp_id from Employee_Detail where department=\"Finance\"')\n",
    "l2=cur.fetchall()\n",
    "for i in range(len(l2)):\n",
    "    print(l2[i][0])\n",
    "\n"
   ]
  },
  {
   "cell_type": "code",
   "execution_count": 47,
   "id": "30ff21f3",
   "metadata": {},
   "outputs": [
    {
     "name": "stdout",
     "output_type": "stream",
     "text": [
      "(101, 'Prince', 23)\n",
      "(102, 'Tony', 4)\n",
      "(103, 'Bruce', 29)\n",
      "(104, 'Steve', 31)\n",
      "(105, 'Scott', 27)\n",
      "(106, 'Peter', 25)\n",
      "(107, 'stephen', 29)\n",
      "(108, 'Barton', 50)\n"
     ]
    }
   ],
   "source": [
    "########################fetching data\n",
    "db=sqlite3.connect('school.sqlite')\n",
    "cur=db.cursor()\n",
    "cur.execute('select * from student')\n",
    "\n",
    "\n",
    "#method 1\n",
    "for row in cur:\n",
    "    print(row)"
   ]
  },
  {
   "cell_type": "code",
   "execution_count": 51,
   "id": "78413a44",
   "metadata": {},
   "outputs": [
    {
     "name": "stdout",
     "output_type": "stream",
     "text": [
      "(101, 'Prince', 23)\n",
      "(102, 'Tony', 4)\n"
     ]
    }
   ],
   "source": [
    "#method 2 by using fetchone(),fetchmany(),fetchall()\n",
    "#fetchone()\n",
    "cur.execute('select * from student')\n",
    "print(cur.fetchone()) #fetching one row -1st row\n",
    "print(cur.fetchone()) #fetching one row- 2nd row\n",
    "\n",
    "\n"
   ]
  },
  {
   "cell_type": "code",
   "execution_count": 54,
   "id": "a03c6597",
   "metadata": {},
   "outputs": [
    {
     "name": "stdout",
     "output_type": "stream",
     "text": [
      "[(101, 'Prince', 23), (102, 'Tony', 4), (103, 'Bruce', 29)]\n",
      "[(104, 'Steve', 31), (105, 'Scott', 27), (106, 'Peter', 25), (107, 'stephen', 29)]\n"
     ]
    }
   ],
   "source": [
    "#fetchmany(n) by default n is 1\n",
    "cur.execute('select * from student')\n",
    "print(cur.fetchmany(3)) #fetching starting 3 rows\n",
    "print(cur.fetchmany(4)) #fetching another 4 row \n",
    "#we can also save them in list"
   ]
  },
  {
   "cell_type": "code",
   "execution_count": 57,
   "id": "8c6a948e",
   "metadata": {},
   "outputs": [
    {
     "name": "stdout",
     "output_type": "stream",
     "text": [
      "[(101, 'Prince', 23), (102, 'Tony', 4), (103, 'Bruce', 29), (104, 'Steve', 31), (105, 'Scott', 27), (106, 'Peter', 25), (107, 'stephen', 29), (108, 'Barton', 50)]\n"
     ]
    },
    {
     "data": {
      "text/plain": [
       "[(103, 'Bruce', 29), (108, 'Barton', 50)]"
      ]
     },
     "execution_count": 57,
     "metadata": {},
     "output_type": "execute_result"
    }
   ],
   "source": [
    "#fetchall() -fetch all the rows\n",
    "cur.execute('select * from student')\n",
    "print(cur.fetchall()) #fetch all the rows\n",
    "cur.execute('select * from student where name like \"B%\"')\n",
    "l1=cur.fetchall() #list of tupples where a tupple represent data of a row\n",
    "l1"
   ]
  },
  {
   "cell_type": "code",
   "execution_count": 59,
   "id": "f3ef21c6",
   "metadata": {},
   "outputs": [],
   "source": [
    "db.close()"
   ]
  },
  {
   "cell_type": "code",
   "execution_count": 69,
   "id": "d1502c6e",
   "metadata": {},
   "outputs": [
    {
     "name": "stdout",
     "output_type": "stream",
     "text": [
      "Finance 2\n",
      "Human Resource 2\n",
      "IT 2\n",
      "Marketing 4\n",
      "Operations 2\n"
     ]
    },
    {
     "data": {
      "text/plain": [
       "[('Finance', 2),\n",
       " ('Human Resource', 2),\n",
       " ('IT', 2),\n",
       " ('Marketing', 4),\n",
       " ('Operations', 2)]"
      ]
     },
     "execution_count": 69,
     "metadata": {},
     "output_type": "execute_result"
    }
   ],
   "source": [
    "cur.execute('select distinct Department,count(Department) from Employee_Detail group by Department')\n",
    "l1=cur.fetchall()\n",
    "for i in range(len(l1)):\n",
    "    print(l1[i][0],l1[i][1])\n"
   ]
  },
  {
   "cell_type": "code",
   "execution_count": 70,
   "id": "2d7c38d6",
   "metadata": {},
   "outputs": [],
   "source": [
    "db.close()"
   ]
  },
  {
   "cell_type": "code",
   "execution_count": 71,
   "id": "c14cbb31",
   "metadata": {},
   "outputs": [
    {
     "data": {
      "text/html": [
       "<div>\n",
       "<style scoped>\n",
       "    .dataframe tbody tr th:only-of-type {\n",
       "        vertical-align: middle;\n",
       "    }\n",
       "\n",
       "    .dataframe tbody tr th {\n",
       "        vertical-align: top;\n",
       "    }\n",
       "\n",
       "    .dataframe thead th {\n",
       "        text-align: right;\n",
       "    }\n",
       "</style>\n",
       "<table border=\"1\" class=\"dataframe\">\n",
       "  <thead>\n",
       "    <tr style=\"text-align: right;\">\n",
       "      <th></th>\n",
       "      <th>rollno</th>\n",
       "      <th>name</th>\n",
       "      <th>age</th>\n",
       "    </tr>\n",
       "  </thead>\n",
       "  <tbody>\n",
       "    <tr>\n",
       "      <th>0</th>\n",
       "      <td>101</td>\n",
       "      <td>Prince</td>\n",
       "      <td>23</td>\n",
       "    </tr>\n",
       "    <tr>\n",
       "      <th>1</th>\n",
       "      <td>102</td>\n",
       "      <td>Tony</td>\n",
       "      <td>4</td>\n",
       "    </tr>\n",
       "    <tr>\n",
       "      <th>2</th>\n",
       "      <td>103</td>\n",
       "      <td>Bruce</td>\n",
       "      <td>29</td>\n",
       "    </tr>\n",
       "    <tr>\n",
       "      <th>3</th>\n",
       "      <td>104</td>\n",
       "      <td>Steve</td>\n",
       "      <td>31</td>\n",
       "    </tr>\n",
       "    <tr>\n",
       "      <th>4</th>\n",
       "      <td>105</td>\n",
       "      <td>Scott</td>\n",
       "      <td>27</td>\n",
       "    </tr>\n",
       "    <tr>\n",
       "      <th>5</th>\n",
       "      <td>106</td>\n",
       "      <td>Peter</td>\n",
       "      <td>25</td>\n",
       "    </tr>\n",
       "    <tr>\n",
       "      <th>6</th>\n",
       "      <td>107</td>\n",
       "      <td>stephen</td>\n",
       "      <td>29</td>\n",
       "    </tr>\n",
       "    <tr>\n",
       "      <th>7</th>\n",
       "      <td>108</td>\n",
       "      <td>Barton</td>\n",
       "      <td>50</td>\n",
       "    </tr>\n",
       "  </tbody>\n",
       "</table>\n",
       "</div>"
      ],
      "text/plain": [
       "   rollno     name  age\n",
       "0     101   Prince   23\n",
       "1     102     Tony    4\n",
       "2     103    Bruce   29\n",
       "3     104    Steve   31\n",
       "4     105    Scott   27\n",
       "5     106    Peter   25\n",
       "6     107  stephen   29\n",
       "7     108   Barton   50"
      ]
     },
     "execution_count": 71,
     "metadata": {},
     "output_type": "execute_result"
    }
   ],
   "source": [
    "#sqlite with pandas\n",
    "db=sqlite3.connect('school.sqlite')\n",
    "#we dont need cursor object while using dataframe\n",
    "import pandas as pd\n",
    "df=pd.read_sql_query(\"select * from student\",db)\n",
    "df\n"
   ]
  },
  {
   "cell_type": "code",
   "execution_count": 72,
   "id": "390586b6",
   "metadata": {},
   "outputs": [
    {
     "data": {
      "text/html": [
       "<div>\n",
       "<style scoped>\n",
       "    .dataframe tbody tr th:only-of-type {\n",
       "        vertical-align: middle;\n",
       "    }\n",
       "\n",
       "    .dataframe tbody tr th {\n",
       "        vertical-align: top;\n",
       "    }\n",
       "\n",
       "    .dataframe thead th {\n",
       "        text-align: right;\n",
       "    }\n",
       "</style>\n",
       "<table border=\"1\" class=\"dataframe\">\n",
       "  <thead>\n",
       "    <tr style=\"text-align: right;\">\n",
       "      <th></th>\n",
       "      <th>ID</th>\n",
       "      <th>Name</th>\n",
       "      <th>Course</th>\n",
       "      <th>Salary</th>\n",
       "    </tr>\n",
       "  </thead>\n",
       "  <tbody>\n",
       "    <tr>\n",
       "      <th>0</th>\n",
       "      <td>101</td>\n",
       "      <td>Prince Dubey</td>\n",
       "      <td>CSE</td>\n",
       "      <td>1000000000</td>\n",
       "    </tr>\n",
       "    <tr>\n",
       "      <th>1</th>\n",
       "      <td>102</td>\n",
       "      <td>Tony</td>\n",
       "      <td>Maths</td>\n",
       "      <td>100000</td>\n",
       "    </tr>\n",
       "    <tr>\n",
       "      <th>2</th>\n",
       "      <td>103</td>\n",
       "      <td>Steve</td>\n",
       "      <td>chemistry</td>\n",
       "      <td>30000</td>\n",
       "    </tr>\n",
       "  </tbody>\n",
       "</table>\n",
       "</div>"
      ],
      "text/plain": [
       "    ID          Name     Course      Salary\n",
       "0  101  Prince Dubey        CSE  1000000000\n",
       "1  102          Tony      Maths      100000\n",
       "2  103         Steve  chemistry       30000"
      ]
     },
     "execution_count": 72,
     "metadata": {},
     "output_type": "execute_result"
    }
   ],
   "source": [
    "df1=pd.DataFrame([[101,\"Prince Dubey\",\"CSE\",1000000000],[102,\"Tony\",\"Maths\",100000],[103,\"Steve\",\"chemistry\",30000]],columns=[\"ID\",\"Name\",\"Course\",\"Salary\"])\n",
    "df1"
   ]
  },
  {
   "cell_type": "code",
   "execution_count": 73,
   "id": "c9a6a29d",
   "metadata": {},
   "outputs": [],
   "source": [
    "#to conver df1 in table and add in database\n",
    "df1.to_sql(\"faculty\",db)"
   ]
  },
  {
   "cell_type": "code",
   "execution_count": 76,
   "id": "929d85fd",
   "metadata": {},
   "outputs": [
    {
     "data": {
      "text/html": [
       "<div>\n",
       "<style scoped>\n",
       "    .dataframe tbody tr th:only-of-type {\n",
       "        vertical-align: middle;\n",
       "    }\n",
       "\n",
       "    .dataframe tbody tr th {\n",
       "        vertical-align: top;\n",
       "    }\n",
       "\n",
       "    .dataframe thead th {\n",
       "        text-align: right;\n",
       "    }\n",
       "</style>\n",
       "<table border=\"1\" class=\"dataframe\">\n",
       "  <thead>\n",
       "    <tr style=\"text-align: right;\">\n",
       "      <th></th>\n",
       "      <th>rollno</th>\n",
       "      <th>name</th>\n",
       "      <th>age</th>\n",
       "      <th>Test</th>\n",
       "    </tr>\n",
       "  </thead>\n",
       "  <tbody>\n",
       "    <tr>\n",
       "      <th>0</th>\n",
       "      <td>101</td>\n",
       "      <td>Prince</td>\n",
       "      <td>23</td>\n",
       "      <td>Pass</td>\n",
       "    </tr>\n",
       "    <tr>\n",
       "      <th>1</th>\n",
       "      <td>102</td>\n",
       "      <td>Tony</td>\n",
       "      <td>4</td>\n",
       "      <td>Pass</td>\n",
       "    </tr>\n",
       "    <tr>\n",
       "      <th>2</th>\n",
       "      <td>103</td>\n",
       "      <td>Bruce</td>\n",
       "      <td>29</td>\n",
       "      <td>Pass</td>\n",
       "    </tr>\n",
       "    <tr>\n",
       "      <th>3</th>\n",
       "      <td>104</td>\n",
       "      <td>Steve</td>\n",
       "      <td>31</td>\n",
       "      <td>Pass</td>\n",
       "    </tr>\n",
       "    <tr>\n",
       "      <th>4</th>\n",
       "      <td>105</td>\n",
       "      <td>Scott</td>\n",
       "      <td>27</td>\n",
       "      <td>Pass</td>\n",
       "    </tr>\n",
       "    <tr>\n",
       "      <th>5</th>\n",
       "      <td>106</td>\n",
       "      <td>Peter</td>\n",
       "      <td>25</td>\n",
       "      <td>Pass</td>\n",
       "    </tr>\n",
       "    <tr>\n",
       "      <th>6</th>\n",
       "      <td>107</td>\n",
       "      <td>stephen</td>\n",
       "      <td>29</td>\n",
       "      <td>Pass</td>\n",
       "    </tr>\n",
       "    <tr>\n",
       "      <th>7</th>\n",
       "      <td>108</td>\n",
       "      <td>Barton</td>\n",
       "      <td>50</td>\n",
       "      <td>Pass</td>\n",
       "    </tr>\n",
       "  </tbody>\n",
       "</table>\n",
       "</div>"
      ],
      "text/plain": [
       "   rollno     name  age  Test\n",
       "0     101   Prince   23  Pass\n",
       "1     102     Tony    4  Pass\n",
       "2     103    Bruce   29  Pass\n",
       "3     104    Steve   31  Pass\n",
       "4     105    Scott   27  Pass\n",
       "5     106    Peter   25  Pass\n",
       "6     107  stephen   29  Pass\n",
       "7     108   Barton   50  Pass"
      ]
     },
     "execution_count": 76,
     "metadata": {},
     "output_type": "execute_result"
    }
   ],
   "source": [
    "#to add a new column and reflect back in database\n",
    "df[\"Test\"]=\"Pass\"\n",
    "\n",
    "df.to_sql(\"student\",db,if_exists=\"replace\")\n",
    "df"
   ]
  },
  {
   "cell_type": "code",
   "execution_count": 79,
   "id": "b80fc06a",
   "metadata": {},
   "outputs": [
    {
     "data": {
      "text/html": [
       "<div>\n",
       "<style scoped>\n",
       "    .dataframe tbody tr th:only-of-type {\n",
       "        vertical-align: middle;\n",
       "    }\n",
       "\n",
       "    .dataframe tbody tr th {\n",
       "        vertical-align: top;\n",
       "    }\n",
       "\n",
       "    .dataframe thead th {\n",
       "        text-align: right;\n",
       "    }\n",
       "</style>\n",
       "<table border=\"1\" class=\"dataframe\">\n",
       "  <thead>\n",
       "    <tr style=\"text-align: right;\">\n",
       "      <th></th>\n",
       "      <th>rollno</th>\n",
       "      <th>name</th>\n",
       "      <th>age</th>\n",
       "      <th>Test</th>\n",
       "    </tr>\n",
       "  </thead>\n",
       "  <tbody>\n",
       "    <tr>\n",
       "      <th>0</th>\n",
       "      <td>101</td>\n",
       "      <td>Prince</td>\n",
       "      <td>23</td>\n",
       "      <td>Pass</td>\n",
       "    </tr>\n",
       "    <tr>\n",
       "      <th>1</th>\n",
       "      <td>102</td>\n",
       "      <td>Tony</td>\n",
       "      <td>4</td>\n",
       "      <td>Pass</td>\n",
       "    </tr>\n",
       "    <tr>\n",
       "      <th>2</th>\n",
       "      <td>103</td>\n",
       "      <td>Bruce</td>\n",
       "      <td>29</td>\n",
       "      <td>Pass</td>\n",
       "    </tr>\n",
       "    <tr>\n",
       "      <th>3</th>\n",
       "      <td>104</td>\n",
       "      <td>Steve</td>\n",
       "      <td>31</td>\n",
       "      <td>Pass</td>\n",
       "    </tr>\n",
       "    <tr>\n",
       "      <th>4</th>\n",
       "      <td>105</td>\n",
       "      <td>Scott</td>\n",
       "      <td>27</td>\n",
       "      <td>Pass</td>\n",
       "    </tr>\n",
       "    <tr>\n",
       "      <th>5</th>\n",
       "      <td>106</td>\n",
       "      <td>Peter</td>\n",
       "      <td>25</td>\n",
       "      <td>Pass</td>\n",
       "    </tr>\n",
       "    <tr>\n",
       "      <th>6</th>\n",
       "      <td>107</td>\n",
       "      <td>stephen</td>\n",
       "      <td>29</td>\n",
       "      <td>Pass</td>\n",
       "    </tr>\n",
       "    <tr>\n",
       "      <th>7</th>\n",
       "      <td>108</td>\n",
       "      <td>Barton</td>\n",
       "      <td>50</td>\n",
       "      <td>Pass</td>\n",
       "    </tr>\n",
       "    <tr>\n",
       "      <th>8</th>\n",
       "      <td>109</td>\n",
       "      <td>Thor</td>\n",
       "      <td>1500</td>\n",
       "      <td>Compartment</td>\n",
       "    </tr>\n",
       "    <tr>\n",
       "      <th>9</th>\n",
       "      <td>109</td>\n",
       "      <td>Thor</td>\n",
       "      <td>1500</td>\n",
       "      <td>Compartment</td>\n",
       "    </tr>\n",
       "  </tbody>\n",
       "</table>\n",
       "</div>"
      ],
      "text/plain": [
       "   rollno     name   age         Test\n",
       "0     101   Prince    23         Pass\n",
       "1     102     Tony     4         Pass\n",
       "2     103    Bruce    29         Pass\n",
       "3     104    Steve    31         Pass\n",
       "4     105    Scott    27         Pass\n",
       "5     106    Peter    25         Pass\n",
       "6     107  stephen    29         Pass\n",
       "7     108   Barton    50         Pass\n",
       "8     109     Thor  1500  Compartment\n",
       "9     109     Thor  1500  Compartment"
      ]
     },
     "execution_count": 79,
     "metadata": {},
     "output_type": "execute_result"
    }
   ],
   "source": [
    "#add a row at the at index\n",
    "df.loc[len(df.index)]=[109,\"Thor\",1500,\"Compartment\"]\n",
    "df.to_sql(\"student\",db,if_exists=\"replace\")\n",
    "df"
   ]
  },
  {
   "cell_type": "code",
   "execution_count": 119,
   "id": "5e3a1c1e",
   "metadata": {},
   "outputs": [
    {
     "name": "stdout",
     "output_type": "stream",
     "text": [
      "Drama 77\n",
      "Adventure 43\n",
      "Action 33\n",
      "Comedy 31\n",
      "Biography 21\n",
      "Sci-Fi 18\n",
      "Thriller 14\n",
      "Romance 13\n",
      "Animation 13\n",
      "Crime 11\n",
      "Mystery 7\n",
      "Fantasy 7\n",
      "History 6\n",
      "Sport 3\n",
      "Music 3\n",
      "Family 3\n",
      "Western 2\n",
      "War 2\n",
      "Horror 2\n",
      "Musical 1\n"
     ]
    }
   ],
   "source": [
    "##########################################################\n",
    "import sqlite3\n",
    "import pandas as pd\n",
    "\n",
    "db=sqlite3.connect('IMDB.sqlite')\n",
    "\n",
    "df=pd.read_sql_query(\"select distinct genre,count(genre) from genre group by genre order by count(genre) dESC\",db)\n",
    "index=df[df[\"genre\"]==\"\"].index.values\n",
    "df.drop(index[0],inplace=True)\n",
    "d={}\n",
    "#or i in df.index:\n",
    "#   print(df.iloc[i][0],df.iloc[i,1])\n",
    "genre=list(df[\"genre\"])\n",
    "count_g=list(df[\"count(genre)\"])\n",
    "\n",
    "for i in range(len(genre)):\n",
    "    print(genre[i],count_g[i])\n",
    "\n"
   ]
  },
  {
   "cell_type": "code",
   "execution_count": 132,
   "id": "53c55ee4",
   "metadata": {},
   "outputs": [
    {
     "data": {
      "text/plain": [
       "8.1"
      ]
     },
     "execution_count": 132,
     "metadata": {},
     "output_type": "execute_result"
    }
   ],
   "source": [
    "#############################################################################\n",
    "df=pd.read_sql_query(\"select earning.Movie_id,rating,Domestic,Worldwide from earning join IMDB on earning.Movie_id=IMDB.Movie_id\",db)\n",
    "df[\"total\"]=df[\"Domestic\"]+df[\"Worldwide\"]\n",
    "maxi=df[\"total\"].max()\n",
    "ind=df[df[\"total\"]==maxi].index.values\n",
    "print(df.iloc[ind[0],1])\n"
   ]
  },
  {
   "cell_type": "code",
   "execution_count": 169,
   "id": "936f85ea",
   "metadata": {},
   "outputs": [
    {
     "name": "stdout",
     "output_type": "stream",
     "text": [
      "Inception (2010) 8.8\n"
     ]
    }
   ],
   "source": [
    "############################################3\n",
    "df=pd.read_sql_query(\"select title,rating,TotalVotes from IMDB\",db)\n",
    "maxi=df[\"TotalVotes\"].max()\n",
    "ind=df[df[\"TotalVotes\"]==maxi].index.values\n",
    "print(df.iloc[ind[0],0],df.iloc[ind[0],1])\n",
    "\n"
   ]
  },
  {
   "cell_type": "code",
   "execution_count": 183,
   "id": "dd989735",
   "metadata": {},
   "outputs": [
    {
     "name": "stdout",
     "output_type": "stream",
     "text": [
      "The Wolf of Wall Street (2013) 180\n"
     ]
    }
   ],
   "source": [
    "df=pd.read_sql_query(\"select title,Runtime from IMDB\",db)\n",
    "def getNumeric(rt):\n",
    "    if rt==\"\":\n",
    "        return 0\n",
    "    return int(str(rt).split()[0].strip())\n",
    "df[\"Runtime\"]=df[\"Runtime\"].apply(getNumeric)\n",
    "maxi=df[\"Runtime\"].max()\n",
    "l1=df[df[\"Runtime\"]==maxi].values\n",
    "print(l1[0][0],l1[0][1])"
   ]
  },
  {
   "cell_type": "code",
   "execution_count": 189,
   "id": "22c0ed95",
   "metadata": {},
   "outputs": [
    {
     "name": "stdout",
     "output_type": "stream",
     "text": [
      "Star Wars: The Force Awakens (2015)\n"
     ]
    }
   ],
   "source": [
    "#########################################################3\n",
    "df=pd.read_sql_query(\"select Title,Domestic,Worldwide,Budget from earning join IMDB on earning.Movie_id=IMDB.Movie_id\",db)\n",
    "def getNumeric(bg):\n",
    "    if bg==\"\":\n",
    "        return 0\n",
    "    return int(float(bg))\n",
    "df[\"Budget\"]=df[\"Budget\"].apply(getNumeric)\n",
    "df[\"Profit\"]=df[\"Domestic\"]+df[\"Worldwide\"]-df[\"Budget\"]\n",
    "maxi=df[\"Profit\"].max()\n",
    "l1=df[df[\"Profit\"]==maxi].values\n",
    "print(l1[0][0])"
   ]
  },
  {
   "cell_type": "code",
   "execution_count": 192,
   "id": "4da8d882",
   "metadata": {},
   "outputs": [
    {
     "name": "stdout",
     "output_type": "stream",
     "text": [
      "Short Term 12 (2013)\n"
     ]
    }
   ],
   "source": [
    "###################################################################\n",
    "df=pd.read_sql_query(\"select Title,Domestic,Worldwide,Budget from earning join IMDB on earning.Movie_id=IMDB.Movie_id\",db)\n",
    "def getNumeric(bg):\n",
    "    if bg==\"\":\n",
    "        return 10**9\n",
    "    return int(float(bg))\n",
    "df[\"Budget\"]=df[\"Budget\"].apply(getNumeric)\n",
    "df[\"Profit\"]=df[\"Domestic\"]+df[\"Worldwide\"]-df[\"Budget\"]\n",
    "mini=df[\"Budget\"].min()\n",
    "l1=df[df['Budget']==mini].values\n",
    "if(len(l1[0])==1):\n",
    "    print(l1[0][0])\n",
    "else:\n",
    "    if l1[0][4]>=l1[1][4]:\n",
    "        print(l1[0][0])\n",
    "    else:\n",
    "        print(l1[1][0])\n",
    "        "
   ]
  },
  {
   "cell_type": "code",
   "execution_count": 2,
   "id": "5f6fc861",
   "metadata": {},
   "outputs": [
    {
     "name": "stdout",
     "output_type": "stream",
     "text": [
      "2010 Toy Story 3 (2010)\n",
      "2011 Rise of the Planet of the Apes (2011)\n",
      "2012 The Avengers (2012)\n",
      "2013 The Hunger Games: Catching Fire (2013)\n",
      "2014 Guardians of the Galaxy (2014)\n",
      "2015 Star Wars: The Force Awakens (2015)\n",
      "2016 Rogue One (2016)\n"
     ]
    }
   ],
   "source": [
    "###########################################################################################\n",
    "import pandas as pd\n",
    "\n",
    "import sqlite3\n",
    "\n",
    "import numpy as np\n",
    "\n",
    "db=sqlite3.connect('IMDB.sqlite')\n",
    "imdb=pd.read_sql_query(\"Select * from IMDB\",db)\n",
    "\n",
    "earning=pd.read_sql_query(\"Select * from earning\",db)\n",
    "\n",
    "genre=pd.read_sql_query(\"Select * from genre\",db)\n",
    "\n",
    "imdb_earning=pd.merge(imdb,earning,on='Movie_id')\n",
    "\n",
    "imdb_earning['Domestic'].replace('',0,inplace=True)\n",
    "\n",
    "imdb_earning['Worldwide'].replace('',0,inplace=True)\n",
    "\n",
    "imdb_earning['Total Earning']=imdb_earning['Domestic']+imdb_earning['Worldwide']\n",
    "\n",
    "def findYear(title):\n",
    "\n",
    "    return int(title.split('(')[-1][:-1])\n",
    "\n",
    "imdb_earning['Year']=imdb_earning['Title'].apply(findYear)\n",
    "\n",
    "year=sorted(imdb_earning['Year'].value_counts().index)\n",
    "\n",
    "for i in range(len(year)):\n",
    "\n",
    "    earning=max(imdb_earning[imdb_earning['Year']==year[i]]['Total Earning'])\n",
    "\n",
    "    print(year[i],imdb_earning[imdb_earning['Total Earning']==earning]['Title'].values[0])"
   ]
  },
  {
   "cell_type": "code",
   "execution_count": 41,
   "id": "7e0c829d",
   "metadata": {},
   "outputs": [
    {
     "name": "stdout",
     "output_type": "stream",
     "text": [
      "2010 Toy Story 3 (2010)\n",
      "2011 Rise of the Planet of the Apes (2011)\n",
      "2012 The Avengers (2012)\n",
      "2013 The Hunger Games: Catching Fire (2013)\n",
      "2014 Guardians of the Galaxy (2014)\n",
      "2015 Star Wars: The Force Awakens (2015)\n",
      "2016 Rogue One (2016)\n"
     ]
    }
   ],
   "source": [
    "df=pd.read_sql_query(\"select Title,Domestic,Worldwide from IMDB join earning on earning.Movie_id=IMDB.Movie_id \",db)\n",
    "df['Profit']=df['Domestic']+df['Worldwide']\n",
    "def getYear(yr):\n",
    "    year=yr.split('(')\n",
    "    getyr=year[len(year)-1].replace(')',\"\").strip()\n",
    "    return int(getyr)\n",
    "df['Year']=df['Title'].apply(getYear)\n",
    "mini=df['Year'].min()\n",
    "maxi=df['Year'].max()\n",
    "for i in range(mini,maxi+1,1):\n",
    "    m=df[df['Year']==i].Profit.max()\n",
    "    print(i,df[(df['Year']==i) & (df['Profit']==m)].iloc[0,0])\n",
    "    \n",
    "    \n",
    "\n"
   ]
  },
  {
   "cell_type": "code",
   "execution_count": 42,
   "id": "ab8a13f3",
   "metadata": {},
   "outputs": [
    {
     "ename": "SyntaxError",
     "evalue": "invalid syntax (<ipython-input-42-5be20f68f09c>, line 2)",
     "output_type": "error",
     "traceback": [
      "\u001b[1;36m  File \u001b[1;32m\"<ipython-input-42-5be20f68f09c>\"\u001b[1;36m, line \u001b[1;32m2\u001b[0m\n\u001b[1;33m    mport pandas as pd\u001b[0m\n\u001b[1;37m          ^\u001b[0m\n\u001b[1;31mSyntaxError\u001b[0m\u001b[1;31m:\u001b[0m invalid syntax\n"
     ]
    }
   ],
   "source": [
    "###########################################################################################\n",
    "mport pandas as pd\n",
    "import sqlite3\n",
    "import matplotlib.pyplot as plt\n",
    "import numpy as np\n",
    "db = sqlite3.connect('IMDB.sqlite')\n",
    "df = pd.read_sql_query('Select genre,Budget from IMDB join genre on IMDB.Movie_id = genre.Movie_id',db)\n",
    "df['Budget'].replace('',0,inplace=True)\n",
    "df.Budget.astype(float)\n",
    "d={}\n",
    "for i in df.index:\n",
    "    if(df['genre'][i] != ''):\n",
    "        d[df['genre'][i]] = d.get(df['genre'][i],0) + df[\"Budget\"][i]\n",
    "t_b= sum(d.values())\n",
    "\n",
    "#printing\n",
    "for i in sorted(d):\n",
    "    print(i,format(round(d[i]*100/t_b , 2),'.2f'))\n",
    "\n",
    "    #pie graph\n",
    "plt.pie(d.values(),labels = d.keys(),autopct = \"%.2f %%\")\n",
    "plt.show()\n"
   ]
  },
  {
   "cell_type": "code",
   "execution_count": 98,
   "id": "cfa53c2f",
   "metadata": {},
   "outputs": [
    {
     "name": "stdout",
     "output_type": "stream",
     "text": [
      "Action 17.98\n",
      "Adventure 25.10\n",
      "Animation 7.66\n",
      "Biography 2.59\n",
      "0 0.00\n",
      "Comedy 7.22\n",
      "Crime 1.77\n",
      "Drama 10.85\n",
      "Family 1.91\n",
      "Fantasy 4.54\n",
      "History 0.72\n",
      "Horror 0.03\n",
      "Music 0.15\n",
      "Musical 0.25\n",
      "Mystery 1.95\n",
      "Romance 1.12\n",
      "Sci-Fi 10.77\n",
      "Sport 0.46\n",
      "Thriller 3.99\n",
      "War 0.36\n",
      "Western 0.57\n"
     ]
    },
    {
     "data": {
      "image/png": "[encoded data removed]",
      "text/plain": [
       "<Figure size 432x288 with 1 Axes>"
      ]
     },
     "metadata": {},
     "output_type": "display_data"
    }
   ],
   "source": [
    "import matplotlib.pyplot as plt\n",
    "df=pd.read_sql_query(\"select genre,budget from genre join IMDB on genre.Movie_id=IMDB.Movie_id order by genre\",db)\n",
    "\n",
    "ind=df[df['genre']==\"\"].index.values\n",
    "df.drop(ind,inplace=True)\n",
    "df[df['Budget']==\"\"]=0\n",
    "totalsum=df['Budget'].sum()\n",
    "percent=[]\n",
    "uq=df['genre'].unique()\n",
    "for i in uq:\n",
    "    per=(df[df['genre']==i].Budget.sum())*100/totalsum\n",
    "    percent.append(per)\n",
    "    print(i,format(per,\".2f\"))\n",
    "plt.pie(percent,labels=uq)\n",
    "plt.show()\n"
   ]
  },
  {
   "cell_type": "code",
   "execution_count": 100,
   "id": "5e484eff",
   "metadata": {},
   "outputs": [
    {
     "name": "stdout",
     "output_type": "stream",
     "text": [
      "Action 17.91\n",
      "Adventure 23.57\n",
      "Animation 6.77\n",
      "Biography 3.42\n",
      "Comedy 7.69\n",
      "Crime 1.55\n",
      "Drama 11.96\n",
      "Family 1.05\n",
      "Fantasy 5.15\n",
      "History 1.04\n",
      "Horror 0.01\n",
      "Music 0.43\n",
      "Musical 0.38\n",
      "Mystery 2.01\n",
      "Romance 1.45\n",
      "Sci-Fi 9.95\n",
      "Sport 0.32\n",
      "Thriller 4.42\n",
      "War 0.25\n",
      "Western 0.65\n"
     ]
    },
    {
     "data": {
      "image/png": "[encoded data removed]",
      "text/plain": [
       "<Figure size 432x288 with 1 Axes>"
      ]
     },
     "metadata": {},
     "output_type": "display_data"
    }
   ],
   "source": [
    "##########################################################\n",
    "df=pd.read_sql_query(\"select genre,domestic,Worldwide from genre join earning on genre.Movie_id=earning.Movie_id order by genre\",db)\n",
    "\n",
    "ind=df[df['genre']==\"\"].index.values\n",
    "df.drop(ind,inplace=True)\n",
    "df['Prof']=df['Domestic']+df['Worldwide']\n",
    "uq=df['genre'].unique()\n",
    "totalsum=df['Prof'].sum()\n",
    "percent=[]\n",
    "for i in uq:\n",
    "    per=(df[df['genre']==i].Prof.sum()*100)/totalsum\n",
    "    percent.append(per)\n",
    "    print(i,format(per,\".2f\"))\n",
    "plt.pie(percent,labels=uq)\n",
    "plt.show()"
   ]
  },
  {
   "cell_type": "code",
   "execution_count": 115,
   "id": "ab51b04e",
   "metadata": {},
   "outputs": [
    {
     "name": "stdout",
     "output_type": "stream",
     "text": [
      "Arrival (2016)\n"
     ]
    }
   ],
   "source": [
    "################################################\n",
    "df=pd.read_sql_query(\"select title,rating,genre from IMDB join genre on genre.Movie_id=IMDB.Movie_id order by genre\",db)\n",
    "df=df[((df['genre']=='Sci-Fi') | (df['genre']=='Mystery'))& (df['Rating']>=8)]\n",
    "print(df.iloc[0,0])"
   ]
  },
  {
   "cell_type": "code",
   "execution_count": null,
   "id": "c91e50c2",
   "metadata": {},
   "outputs": [],
   "source": []
  }
 ],
 "metadata": {
  "kernelspec": {
   "display_name": "Python 3",
   "language": "python",
   "name": "python3"
  },
  "language_info": {
   "codemirror_mode": {
    "name": "ipython",
    "version": 3
   },
   "file_extension": ".py",
   "mimetype": "text/x-python",
   "name": "python",
   "nbconvert_exporter": "python",
   "pygments_lexer": "ipython3",
   "version": "3.8.8"
  }
 },
 "nbformat": 4,
 "nbformat_minor": 5
}
