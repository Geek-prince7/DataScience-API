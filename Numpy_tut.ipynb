{
 "cells": [
  {
   "cell_type": "markdown",
   "id": "ed77b2a0",
   "metadata": {},
   "source": [
    "# Numpy"
   ]
  },
  {
   "cell_type": "code",
   "execution_count": 1,
   "id": "76a17425",
   "metadata": {},
   "outputs": [
    {
     "data": {
      "text/plain": [
       "array([0., 0., 0., 0., 1., 0., 0., 0., 0., 0.])"
      ]
     },
     "execution_count": 1,
     "metadata": {},
     "output_type": "execute_result"
    }
   ],
   "source": [
    "import numpy as np\n",
    "b=np.zeros(10)\n",
    "b[4]=1\n",
    "b"
   ]
  },
  {
   "cell_type": "code",
   "execution_count": 2,
   "id": "1273f261",
   "metadata": {},
   "outputs": [
    {
     "data": {
      "text/plain": [
       "array([0, 0, 0, 0, 0, 0, 0, 0, 0, 0])"
      ]
     },
     "execution_count": 2,
     "metadata": {},
     "output_type": "execute_result"
    }
   ],
   "source": [
    "a=[0 for i in range(10)]\n",
    "c=np.array(a,dtype=int)\n",
    "c"
   ]
  },
  {
   "cell_type": "code",
   "execution_count": 3,
   "id": "f6b0a5e9",
   "metadata": {},
   "outputs": [
    {
     "data": {
      "text/plain": [
       "array([2, 3, 4, 5, 6, 7, 8, 9])"
      ]
     },
     "execution_count": 3,
     "metadata": {},
     "output_type": "execute_result"
    }
   ],
   "source": [
    "arr=np.arange(2,10)\n",
    "arr"
   ]
  },
  {
   "cell_type": "code",
   "execution_count": 4,
   "id": "13e6978d",
   "metadata": {},
   "outputs": [
    {
     "data": {
      "text/plain": [
       "array([2, 5, 8])"
      ]
     },
     "execution_count": 4,
     "metadata": {},
     "output_type": "execute_result"
    }
   ],
   "source": [
    "abc=np.arange(2,10,3)\n",
    "abc"
   ]
  },
  {
   "cell_type": "code",
   "execution_count": 5,
   "id": "1f82919a",
   "metadata": {},
   "outputs": [
    {
     "data": {
      "text/plain": [
       "array([ 2.        ,  2.62068966,  3.24137931,  3.86206897,  4.48275862,\n",
       "        5.10344828,  5.72413793,  6.34482759,  6.96551724,  7.5862069 ,\n",
       "        8.20689655,  8.82758621,  9.44827586, 10.06896552, 10.68965517,\n",
       "       11.31034483, 11.93103448, 12.55172414, 13.17241379, 13.79310345,\n",
       "       14.4137931 , 15.03448276, 15.65517241, 16.27586207, 16.89655172,\n",
       "       17.51724138, 18.13793103, 18.75862069, 19.37931034, 20.        ])"
      ]
     },
     "execution_count": 5,
     "metadata": {},
     "output_type": "execute_result"
    }
   ],
   "source": [
    "abr=np.linspace(2,20,30)\n",
    "abr"
   ]
  },
  {
   "cell_type": "code",
   "execution_count": 6,
   "id": "9da84879",
   "metadata": {},
   "outputs": [
    {
     "data": {
      "text/plain": [
       "array([ 2. ,  2.5,  3. ,  3.5,  4. ,  4.5,  5. ,  5.5,  6. ,  6.5,  7. ,\n",
       "        7.5,  8. ,  8.5,  9. ,  9.5, 10. ])"
      ]
     },
     "execution_count": 6,
     "metadata": {},
     "output_type": "execute_result"
    }
   ],
   "source": [
    "abc=np.linspace(2,10,17)\n",
    "abc"
   ]
  },
  {
   "cell_type": "code",
   "execution_count": 7,
   "id": "594b6ef2",
   "metadata": {},
   "outputs": [
    {
     "data": {
      "text/plain": [
       "array([17, 18, 11, 13, 15, 14, 19, 13, 13, 19, 13, 15, 15, 19, 19, 19, 19,\n",
       "       16, 11, 15])"
      ]
     },
     "execution_count": 7,
     "metadata": {},
     "output_type": "execute_result"
    }
   ],
   "source": [
    "b=np.random.randint(10,20,20)\n",
    "b"
   ]
  },
  {
   "cell_type": "code",
   "execution_count": 8,
   "id": "600d221c",
   "metadata": {},
   "outputs": [
    {
     "data": {
      "text/plain": [
       "11"
      ]
     },
     "execution_count": 8,
     "metadata": {},
     "output_type": "execute_result"
    }
   ],
   "source": [
    "b=np.random.randint(10,20)\n",
    "b"
   ]
  },
  {
   "cell_type": "code",
   "execution_count": 9,
   "id": "4a304418",
   "metadata": {},
   "outputs": [
    {
     "data": {
      "text/plain": [
       "(10,)"
      ]
     },
     "execution_count": 9,
     "metadata": {},
     "output_type": "execute_result"
    }
   ],
   "source": [
    "b=np.arange(10)\n",
    "b.shape"
   ]
  },
  {
   "cell_type": "code",
   "execution_count": 10,
   "id": "05442bb5",
   "metadata": {},
   "outputs": [
    {
     "data": {
      "text/plain": [
       "(2, 3)"
      ]
     },
     "execution_count": 10,
     "metadata": {},
     "output_type": "execute_result"
    }
   ],
   "source": [
    "b=np.random.rand(2,3)\n",
    "b.shape"
   ]
  },
  {
   "cell_type": "code",
   "execution_count": 11,
   "id": "f515ab68",
   "metadata": {},
   "outputs": [
    {
     "data": {
      "text/plain": [
       "array([17, 18, 10, 11, 12, 18, 18, 11, 16, 12, 17, 14, 17, 15, 17, 11, 12,\n",
       "       11, 10, 17, 18, 19, 17, 15, 10, 13, 13, 13, 15, 13, 15, 13, 17, 19,\n",
       "       13, 11, 19, 18, 10, 18])"
      ]
     },
     "execution_count": 11,
     "metadata": {},
     "output_type": "execute_result"
    }
   ],
   "source": [
    "b=np.random.randint(10,20,40)\n",
    "b"
   ]
  },
  {
   "cell_type": "code",
   "execution_count": 12,
   "id": "f9464246",
   "metadata": {},
   "outputs": [
    {
     "data": {
      "text/plain": [
       "array([[10, 11],\n",
       "       [14, 15]])"
      ]
     },
     "execution_count": 12,
     "metadata": {},
     "output_type": "execute_result"
    }
   ],
   "source": [
    "import numpy as np\n",
    "li_2d=[[1,2,3,4],[5,6,7,8],[9,10,11,12],[13,14,15,16]]\n",
    "arr=np.array(li_2d)\n",
    "arr[2: ,1:3]  #this kind of slicing is not possible in lists"
   ]
  },
  {
   "cell_type": "code",
   "execution_count": 13,
   "id": "1eab3b27",
   "metadata": {},
   "outputs": [
    {
     "data": {
      "text/plain": [
       "array([[ 2,  3,  4,  5],\n",
       "       [ 6,  7,  8,  9],\n",
       "       [10, 11, 12, 13],\n",
       "       [14, 15, 16, 17]])"
      ]
     },
     "execution_count": 13,
     "metadata": {},
     "output_type": "execute_result"
    }
   ],
   "source": [
    "arr2=arr+1\n",
    "arr2"
   ]
  },
  {
   "cell_type": "code",
   "execution_count": 14,
   "id": "8eaadb5f",
   "metadata": {},
   "outputs": [
    {
     "data": {
      "text/plain": [
       "array([[ 3,  5,  7,  9],\n",
       "       [11, 13, 15, 17],\n",
       "       [19, 21, 23, 25],\n",
       "       [27, 29, 31, 33]])"
      ]
     },
     "execution_count": 14,
     "metadata": {},
     "output_type": "execute_result"
    }
   ],
   "source": [
    "arr3=arr+arr2\n",
    "arr3"
   ]
  },
  {
   "cell_type": "code",
   "execution_count": 15,
   "id": "58d22aaa",
   "metadata": {},
   "outputs": [
    {
     "data": {
      "text/plain": [
       "array([[ 1,  2,  3,  4],\n",
       "       [ 5,  6,  7,  8],\n",
       "       [ 9, 10, 11, 12],\n",
       "       [13, 14, 15, 16]])"
      ]
     },
     "execution_count": 15,
     "metadata": {},
     "output_type": "execute_result"
    }
   ],
   "source": [
    "arr=arr3-arr2\n",
    "arr"
   ]
  },
  {
   "cell_type": "code",
   "execution_count": 16,
   "id": "3c4a5528",
   "metadata": {},
   "outputs": [
    {
     "data": {
      "text/plain": [
       "array([[ 2,  4,  6,  8],\n",
       "       [ 6,  8, 10, 12],\n",
       "       [10, 12, 14, 16],\n",
       "       [14, 16, 18, 20]])"
      ]
     },
     "execution_count": 16,
     "metadata": {},
     "output_type": "execute_result"
    }
   ],
   "source": [
    "a=np.array([1,2,3,4])\n",
    "arr3=arr+a\n",
    "arr3"
   ]
  },
  {
   "cell_type": "code",
   "execution_count": 17,
   "id": "83e6be98",
   "metadata": {},
   "outputs": [
    {
     "data": {
      "text/plain": [
       "array([[ 1,  3,  5,  7],\n",
       "       [ 5,  7,  9, 11],\n",
       "       [ 9, 11, 13, 15],\n",
       "       [13, 15, 17, 19]])"
      ]
     },
     "execution_count": 17,
     "metadata": {},
     "output_type": "execute_result"
    }
   ],
   "source": [
    "arr4=np.arange(0,4,1)\n",
    "arr5=arr+arr4\n",
    "arr5"
   ]
  },
  {
   "cell_type": "code",
   "execution_count": 18,
   "id": "6ee3a34a",
   "metadata": {},
   "outputs": [
    {
     "data": {
      "text/plain": [
       "array([[ 1,  2,  3,  4],\n",
       "       [ 5,  6,  7,  8],\n",
       "       [ 9, 10, 11, 12],\n",
       "       [13, 14, 15, 16]])"
      ]
     },
     "execution_count": 18,
     "metadata": {},
     "output_type": "execute_result"
    }
   ],
   "source": [
    "arr6=arr5-arr4\n",
    "arr6"
   ]
  },
  {
   "cell_type": "code",
   "execution_count": 19,
   "id": "12a2b980",
   "metadata": {},
   "outputs": [
    {
     "data": {
      "text/plain": [
       "array([[ 0,  2,  6, 12],\n",
       "       [ 0,  6, 14, 24],\n",
       "       [ 0, 10, 22, 36],\n",
       "       [ 0, 14, 30, 48]])"
      ]
     },
     "execution_count": 19,
     "metadata": {},
     "output_type": "execute_result"
    }
   ],
   "source": [
    "arr7=arr6*arr4\n",
    "arr7"
   ]
  },
  {
   "cell_type": "code",
   "execution_count": 20,
   "id": "182fcc4f",
   "metadata": {},
   "outputs": [
    {
     "data": {
      "text/plain": [
       "array([[ 1.        ,  1.        ,  1.        ,  1.        ],\n",
       "       [ 5.        ,  3.        ,  2.33333333,  2.        ],\n",
       "       [ 9.        ,  5.        ,  3.66666667,  3.        ],\n",
       "       [13.        ,  7.        ,  5.        ,  4.        ]])"
      ]
     },
     "execution_count": 20,
     "metadata": {},
     "output_type": "execute_result"
    }
   ],
   "source": [
    "arr4=arr4+1\n",
    "arr8=arr6/arr4\n",
    "\n",
    "arr8"
   ]
  },
  {
   "cell_type": "code",
   "execution_count": 21,
   "id": "f9853aa3",
   "metadata": {},
   "outputs": [
    {
     "data": {
      "text/plain": [
       "15"
      ]
     },
     "execution_count": 21,
     "metadata": {},
     "output_type": "execute_result"
    }
   ],
   "source": [
    "#mathematical operator\n",
    "arr6.sum()\n",
    "arr6.max()\n",
    "arr.min()\n",
    "arr.mean()\n",
    "arr.argmax()\n"
   ]
  },
  {
   "cell_type": "code",
   "execution_count": 22,
   "id": "18a3cb10",
   "metadata": {},
   "outputs": [
    {
     "data": {
      "text/plain": [
       "array([[ 1,  1,  1,  1],\n",
       "       [ 5,  3,  2,  2],\n",
       "       [ 9,  5,  3,  3],\n",
       "       [13,  7,  5,  4]], dtype=int32)"
      ]
     },
     "execution_count": 22,
     "metadata": {},
     "output_type": "execute_result"
    }
   ],
   "source": [
    "arr9=arr6//arr4\n",
    "arr9"
   ]
  },
  {
   "cell_type": "code",
   "execution_count": 23,
   "id": "1f583eef",
   "metadata": {},
   "outputs": [
    {
     "data": {
      "text/plain": [
       "array([[    1,     4,    27,   256],\n",
       "       [    5,    36,   343,  4096],\n",
       "       [    9,   100,  1331, 20736],\n",
       "       [   13,   196,  3375, 65536]], dtype=int32)"
      ]
     },
     "execution_count": 23,
     "metadata": {},
     "output_type": "execute_result"
    }
   ],
   "source": [
    "arr10=arr6**arr4\n",
    "arr10"
   ]
  },
  {
   "cell_type": "code",
   "execution_count": 24,
   "id": "870ca70f",
   "metadata": {},
   "outputs": [
    {
     "data": {
      "text/plain": [
       "array([[False, False, False, False],\n",
       "       [False, False, False, False],\n",
       "       [False, False, False, False],\n",
       "       [False, False, False, False]])"
      ]
     },
     "execution_count": 24,
     "metadata": {},
     "output_type": "execute_result"
    }
   ],
   "source": [
    "#relational operator\n",
    "arr>arr2"
   ]
  },
  {
   "cell_type": "code",
   "execution_count": 25,
   "id": "b2f95e62",
   "metadata": {},
   "outputs": [
    {
     "data": {
      "text/plain": [
       "array([[ True,  True,  True,  True],\n",
       "       [ True,  True,  True,  True],\n",
       "       [ True,  True,  True,  True],\n",
       "       [ True,  True,  True,  True]])"
      ]
     },
     "execution_count": 25,
     "metadata": {},
     "output_type": "execute_result"
    }
   ],
   "source": [
    "np.logical_and(arr,arr2)"
   ]
  },
  {
   "cell_type": "code",
   "execution_count": 26,
   "id": "188a1817",
   "metadata": {},
   "outputs": [
    {
     "data": {
      "text/plain": [
       "array([[ True,  True,  True,  True],\n",
       "       [ True,  True,  True,  True],\n",
       "       [ True,  True,  True,  True],\n",
       "       [ True,  True,  True,  True]])"
      ]
     },
     "execution_count": 26,
     "metadata": {},
     "output_type": "execute_result"
    }
   ],
   "source": [
    "\n",
    "np.logical_or(arr,arr2)"
   ]
  },
  {
   "cell_type": "code",
   "execution_count": 27,
   "id": "7aceaede",
   "metadata": {},
   "outputs": [
    {
     "name": "stdout",
     "output_type": "stream",
     "text": [
      "0 1 4 "
     ]
    }
   ],
   "source": [
    "import numpy as np\n",
    "a=np.array([1,2,0,0,4,0])\n",
    "index=np.where(a!=0)\n",
    "for i in index:\n",
    "    for j in i:\n",
    "        print(j,end=\" \")"
   ]
  },
  {
   "cell_type": "code",
   "execution_count": 28,
   "id": "ae9c4917",
   "metadata": {},
   "outputs": [
    {
     "name": "stdout",
     "output_type": "stream",
     "text": [
      "1\n",
      "2\n",
      "9\n",
      "10\n"
     ]
    }
   ],
   "source": [
    "a=np.array([1, 2, 3, 4, 5, 6, 7, 8, 9, 10])\n",
    "b=a[(a<3) | (a>8)]\n",
    "for i in b:\n",
    "    print(i)"
   ]
  },
  {
   "cell_type": "code",
   "execution_count": 29,
   "id": "c75852f6",
   "metadata": {},
   "outputs": [
    {
     "data": {
      "text/plain": [
       "array([[False, False,  True,  True, False, False],\n",
       "       [False, False,  True, False, False, False],\n",
       "       [False,  True, False, False,  True,  True],\n",
       "       [ True, False, False,  True, False, False],\n",
       "       [False, False, False, False, False, False]])"
      ]
     },
     "execution_count": 29,
     "metadata": {},
     "output_type": "execute_result"
    }
   ],
   "source": [
    "a=np.random.randint(1,30,(5,6))\n",
    "a>20"
   ]
  },
  {
   "cell_type": "markdown",
   "id": "dae00cc0",
   "metadata": {},
   "source": [
    "# "
   ]
  },
  {
   "cell_type": "code",
   "execution_count": 30,
   "id": "774bb6e3",
   "metadata": {},
   "outputs": [
    {
     "data": {
      "text/plain": [
       "array([[ True, False,  True,  True,  True,  True],\n",
       "       [False, False,  True, False,  True, False],\n",
       "       [ True,  True, False, False,  True,  True],\n",
       "       [ True, False,  True,  True,  True, False],\n",
       "       [False,  True, False,  True, False,  True]])"
      ]
     },
     "execution_count": 30,
     "metadata": {},
     "output_type": "execute_result"
    }
   ],
   "source": [
    "a>10"
   ]
  },
  {
   "cell_type": "code",
   "execution_count": 31,
   "id": "348c54e3",
   "metadata": {},
   "outputs": [
    {
     "data": {
      "text/plain": [
       "array([[ 13,  10, 100, 100,  17,  16],\n",
       "       [  3,   6, 100,   9,  18,   8],\n",
       "       [ 17, 100,   9,   6, 100, 100],\n",
       "       [100,   2,  12, 100,  14,   5],\n",
       "       [  3,  11,   9,  20,   5,  13]])"
      ]
     },
     "execution_count": 31,
     "metadata": {},
     "output_type": "execute_result"
    }
   ],
   "source": [
    "a[a>20]=100\n",
    "a"
   ]
  },
  {
   "cell_type": "code",
   "execution_count": 32,
   "id": "ec7875fa",
   "metadata": {},
   "outputs": [
    {
     "data": {
      "text/plain": [
       "array([[ 13,  10, 100, 100,  17,  16],\n",
       "       [  3,   6, 100,   9,  18,   8],\n",
       "       [ 94,  94,   9,   6,  94,  94],\n",
       "       [100,   2,  12, 100,  14,   5],\n",
       "       [  3,  11,   9,  20,   5,  13]])"
      ]
     },
     "execution_count": 32,
     "metadata": {},
     "output_type": "execute_result"
    }
   ],
   "source": [
    "index=np.where(a[2]>10)\n",
    "a[2][index]=94\n",
    "a"
   ]
  },
  {
   "cell_type": "code",
   "execution_count": 33,
   "id": "fd463669",
   "metadata": {},
   "outputs": [
    {
     "name": "stdout",
     "output_type": "stream",
     "text": [
      "[[ 6  5  4  3  2]\n",
      " [11 10  9  8  7]\n",
      " [16 15 14 13 12]\n",
      " [21 20 19 18 17]]\n"
     ]
    }
   ],
   "source": [
    "b=np.array( [[21,20,19,18,17],[16,15,14,13,12],[11,10,9,8,7],[ 6,5,4,3,2]])\n",
    "index=b[:,1].argsort()\n",
    "#print(index)\n",
    "print(b[index])"
   ]
  },
  {
   "cell_type": "code",
   "execution_count": 34,
   "id": "0e0aa5b4",
   "metadata": {},
   "outputs": [
    {
     "name": "stdout",
     "output_type": "stream",
     "text": [
      "[[6 6]\n",
      " [3 3]\n",
      " [1 7]]\n",
      "[[7 9]\n",
      " [3 6]\n",
      " [7 2]]\n",
      "[[13 15]\n",
      " [ 6  9]\n",
      " [ 8  9]]\n",
      "[[42 54]\n",
      " [ 9 18]\n",
      " [ 7 14]]\n"
     ]
    }
   ],
   "source": [
    "a=np.random.randint(1,10,(2,3))\n",
    "b=np.random.randint(1,10,(3,2))\n",
    "a=np.transpose(a)\n",
    "c=a+b\n",
    "d=a*b\n",
    "print(a)\n",
    "print(b)\n",
    "print(c)\n",
    "print(d)"
   ]
  },
  {
   "cell_type": "code",
   "execution_count": 35,
   "id": "b0ddc17f",
   "metadata": {},
   "outputs": [
    {
     "name": "stdout",
     "output_type": "stream",
     "text": [
      "[8 6 9 6 3 1 9 9 8 4 5 1]\n",
      "[[8 6 9 6 3 1 9]\n",
      " [9 8 4 5 1 8 6]]\n"
     ]
    }
   ],
   "source": [
    "a=np.random.randint(1,10,12)\n",
    "print(a)\n",
    "a=np.resize(a,(2,7))\n",
    "print(a)\n",
    "\n"
   ]
  },
  {
   "cell_type": "code",
   "execution_count": 36,
   "id": "d664569d",
   "metadata": {},
   "outputs": [
    {
     "name": "stdout",
     "output_type": "stream",
     "text": [
      "1167\n"
     ]
    }
   ],
   "source": [
    "#killed+wounded for country India\n",
    "import csv\n",
    "import numpy as np\n",
    "file_obj=open('year2017.csv')\n",
    "file_data=csv.DictReader(file_obj,skipinitialspace=True)\n",
    "wounded=[]\n",
    "country=[]\n",
    "killed=[]\n",
    "for row in file_data:\n",
    "    killed.append(row['Killed'])\n",
    "    wounded.append(row['Wounded'])\n",
    "    country.append(row['Country'])\n",
    "file_obj.close()\n",
    "\n",
    "num_kill=np.array(killed)\n",
    "\n",
    "#get index of those element whose value is \"\"\n",
    "kill_missingindex=np.where(num_kill==\"\")\n",
    "#set \"\" to 0\n",
    "num_kill[kill_missingindex]='0'\n",
    "#covert string to float\n",
    "num_kill=num_kill.astype(float)\n",
    "#conver float to int\n",
    "num_kill=num_kill.astype(int)\n",
    "\n",
    "num_wounded=np.array(wounded)\n",
    "#get index of those element whose value is \"\"\n",
    "kill_missingindex=np.where(num_wounded==\"\")\n",
    "#set \"\" to 0\n",
    "num_wounded[kill_missingindex]='0'\n",
    "#covert string to float\n",
    "num_wounded=num_wounded.astype(float)\n",
    "#conver float to int\n",
    "num_wounded=num_wounded.astype(int)\n",
    "\n",
    "\n",
    "num_killandwound=num_kill+num_wounded\n",
    "\n",
    "np_country=np.array(country)\n",
    "india_kill=num_killandwound[np_country=='India']\n",
    "print(sum(india_kill))\n",
    "\n"
   ]
  },
  {
   "cell_type": "code",
   "execution_count": 37,
   "id": "ff557ebd",
   "metadata": {},
   "outputs": [
    {
     "name": "stdout",
     "output_type": "stream",
     "text": [
      "Srinagar 3134\n",
      "New Delhi 2095\n",
      "Mumbai 2016\n",
      "Jammu 1119\n",
      "Guwahati 822\n"
     ]
    }
   ],
   "source": [
    "import csv\n",
    "import numpy as np\n",
    "\n",
    "with open(\"terrorismData.csv\",encoding=\"utf-8\") as file:\n",
    "    data = csv.DictReader(file, skipinitialspace = True)\n",
    "    \n",
    "    city = []\n",
    "    casualty = []\n",
    "    \n",
    "    for row in data:\n",
    "        \n",
    "        if row['Country'] == \"India\" and row[\"City\"] != \"Unknown\":\n",
    "            city.append(row['City'])\n",
    "            casualty.append([row[\"Killed\"], row['Wounded']])\n",
    "            \n",
    "    casualty = np.array(casualty)\n",
    "    casualty[casualty==\"\"] = \"0.0\"\n",
    "    casualty = np.array(casualty, dtype=float)\n",
    "    casualty = casualty.sum(axis = 1)\n",
    "    city = np.array(city)\n",
    "    \n",
    "    unique = np.unique(city)\n",
    "    arr = []\n",
    "    \n",
    "    for i in unique:\n",
    "        \n",
    "        index = np.where(city == i)\n",
    "        sum = casualty[index[0]].sum()\n",
    "        arr.append([sum, i])\n",
    "        \n",
    "    arr.sort(reverse = True)\n",
    "    \n",
    "    for i in range(5):\n",
    "        print(arr[i][1], int(arr[i][0]))    \n",
    "    "
   ]
  },
  {
   "cell_type": "markdown",
   "id": "0b3b5fe0",
   "metadata": {},
   "source": [
    "# Pandas\n"
   ]
  },
  {
   "cell_type": "code",
   "execution_count": null,
   "id": "2ffb15d2",
   "metadata": {},
   "outputs": [],
   "source": []
  },
  {
   "cell_type": "code",
   "execution_count": 38,
   "id": "7315e3e0",
   "metadata": {},
   "outputs": [
    {
     "data": {
      "text/html": [
       "<div>\n",
       "<style scoped>\n",
       "    .dataframe tbody tr th:only-of-type {\n",
       "        vertical-align: middle;\n",
       "    }\n",
       "\n",
       "    .dataframe tbody tr th {\n",
       "        vertical-align: top;\n",
       "    }\n",
       "\n",
       "    .dataframe thead th {\n",
       "        text-align: right;\n",
       "    }\n",
       "</style>\n",
       "<table border=\"1\" class=\"dataframe\">\n",
       "  <thead>\n",
       "    <tr style=\"text-align: right;\">\n",
       "      <th></th>\n",
       "      <th>Year</th>\n",
       "      <th>Month</th>\n",
       "      <th>Day</th>\n",
       "      <th>Country</th>\n",
       "      <th>State</th>\n",
       "      <th>Region</th>\n",
       "      <th>City</th>\n",
       "      <th>Latitude</th>\n",
       "      <th>Longitude</th>\n",
       "      <th>AttackType</th>\n",
       "      <th>Killed</th>\n",
       "      <th>Wounded</th>\n",
       "      <th>Target</th>\n",
       "      <th>Summary</th>\n",
       "      <th>Group</th>\n",
       "      <th>Target_type</th>\n",
       "      <th>Weapon_type</th>\n",
       "    </tr>\n",
       "  </thead>\n",
       "  <tbody>\n",
       "    <tr>\n",
       "      <th>0</th>\n",
       "      <td>1970</td>\n",
       "      <td>7</td>\n",
       "      <td>2</td>\n",
       "      <td>Dominican Republic</td>\n",
       "      <td>NaN</td>\n",
       "      <td>Central America &amp; Caribbean</td>\n",
       "      <td>Santo Domingo</td>\n",
       "      <td>18.456792</td>\n",
       "      <td>-69.951164</td>\n",
       "      <td>Assassination</td>\n",
       "      <td>1.0</td>\n",
       "      <td>0.0</td>\n",
       "      <td>Julio Guzman</td>\n",
       "      <td>NaN</td>\n",
       "      <td>MANO-D</td>\n",
       "      <td>Private Citizens &amp; Property</td>\n",
       "      <td>Unknown</td>\n",
       "    </tr>\n",
       "    <tr>\n",
       "      <th>1</th>\n",
       "      <td>1970</td>\n",
       "      <td>0</td>\n",
       "      <td>0</td>\n",
       "      <td>Mexico</td>\n",
       "      <td>Federal</td>\n",
       "      <td>North America</td>\n",
       "      <td>Mexico city</td>\n",
       "      <td>19.371887</td>\n",
       "      <td>-99.086624</td>\n",
       "      <td>Hostage Taking (Kidnapping)</td>\n",
       "      <td>0.0</td>\n",
       "      <td>0.0</td>\n",
       "      <td>Nadine Chaval, daughter</td>\n",
       "      <td>NaN</td>\n",
       "      <td>23rd of September Communist League</td>\n",
       "      <td>Government (Diplomatic)</td>\n",
       "      <td>Unknown</td>\n",
       "    </tr>\n",
       "    <tr>\n",
       "      <th>2</th>\n",
       "      <td>1970</td>\n",
       "      <td>1</td>\n",
       "      <td>0</td>\n",
       "      <td>Philippines</td>\n",
       "      <td>Tarlac</td>\n",
       "      <td>Southeast Asia</td>\n",
       "      <td>Unknown</td>\n",
       "      <td>15.478598</td>\n",
       "      <td>120.599741</td>\n",
       "      <td>Assassination</td>\n",
       "      <td>1.0</td>\n",
       "      <td>0.0</td>\n",
       "      <td>Employee</td>\n",
       "      <td>NaN</td>\n",
       "      <td>Unknown</td>\n",
       "      <td>Journalists &amp; Media</td>\n",
       "      <td>Unknown</td>\n",
       "    </tr>\n",
       "    <tr>\n",
       "      <th>3</th>\n",
       "      <td>1970</td>\n",
       "      <td>1</td>\n",
       "      <td>0</td>\n",
       "      <td>Greece</td>\n",
       "      <td>Attica</td>\n",
       "      <td>Western Europe</td>\n",
       "      <td>Athens</td>\n",
       "      <td>37.997490</td>\n",
       "      <td>23.762728</td>\n",
       "      <td>Bombing/Explosion</td>\n",
       "      <td>NaN</td>\n",
       "      <td>NaN</td>\n",
       "      <td>U.S. Embassy</td>\n",
       "      <td>NaN</td>\n",
       "      <td>Unknown</td>\n",
       "      <td>Government (Diplomatic)</td>\n",
       "      <td>Explosives</td>\n",
       "    </tr>\n",
       "    <tr>\n",
       "      <th>4</th>\n",
       "      <td>1970</td>\n",
       "      <td>1</td>\n",
       "      <td>0</td>\n",
       "      <td>Japan</td>\n",
       "      <td>Fukouka</td>\n",
       "      <td>East Asia</td>\n",
       "      <td>Fukouka</td>\n",
       "      <td>33.580412</td>\n",
       "      <td>130.396361</td>\n",
       "      <td>Facility/Infrastructure Attack</td>\n",
       "      <td>NaN</td>\n",
       "      <td>NaN</td>\n",
       "      <td>U.S. Consulate</td>\n",
       "      <td>NaN</td>\n",
       "      <td>Unknown</td>\n",
       "      <td>Government (Diplomatic)</td>\n",
       "      <td>Incendiary</td>\n",
       "    </tr>\n",
       "    <tr>\n",
       "      <th>...</th>\n",
       "      <td>...</td>\n",
       "      <td>...</td>\n",
       "      <td>...</td>\n",
       "      <td>...</td>\n",
       "      <td>...</td>\n",
       "      <td>...</td>\n",
       "      <td>...</td>\n",
       "      <td>...</td>\n",
       "      <td>...</td>\n",
       "      <td>...</td>\n",
       "      <td>...</td>\n",
       "      <td>...</td>\n",
       "      <td>...</td>\n",
       "      <td>...</td>\n",
       "      <td>...</td>\n",
       "      <td>...</td>\n",
       "      <td>...</td>\n",
       "    </tr>\n",
       "    <tr>\n",
       "      <th>181686</th>\n",
       "      <td>2017</td>\n",
       "      <td>12</td>\n",
       "      <td>31</td>\n",
       "      <td>Somalia</td>\n",
       "      <td>Middle Shebelle</td>\n",
       "      <td>Sub-Saharan Africa</td>\n",
       "      <td>Ceelka Geelow</td>\n",
       "      <td>2.359673</td>\n",
       "      <td>45.385034</td>\n",
       "      <td>Armed Assault</td>\n",
       "      <td>1.0</td>\n",
       "      <td>2.0</td>\n",
       "      <td>Checkpoint</td>\n",
       "      <td>12/31/2017: Assailants opened fire on a Somali...</td>\n",
       "      <td>Al-Shabaab</td>\n",
       "      <td>Military</td>\n",
       "      <td>Firearms</td>\n",
       "    </tr>\n",
       "    <tr>\n",
       "      <th>181687</th>\n",
       "      <td>2017</td>\n",
       "      <td>12</td>\n",
       "      <td>31</td>\n",
       "      <td>Syria</td>\n",
       "      <td>Lattakia</td>\n",
       "      <td>Middle East &amp; North Africa</td>\n",
       "      <td>Jableh</td>\n",
       "      <td>35.407278</td>\n",
       "      <td>35.942679</td>\n",
       "      <td>Bombing/Explosion</td>\n",
       "      <td>2.0</td>\n",
       "      <td>7.0</td>\n",
       "      <td>Hmeymim Air Base</td>\n",
       "      <td>12/31/2017: Assailants launched mortars at the...</td>\n",
       "      <td>Muslim extremists</td>\n",
       "      <td>Military</td>\n",
       "      <td>Explosives</td>\n",
       "    </tr>\n",
       "    <tr>\n",
       "      <th>181688</th>\n",
       "      <td>2017</td>\n",
       "      <td>12</td>\n",
       "      <td>31</td>\n",
       "      <td>Philippines</td>\n",
       "      <td>Maguindanao</td>\n",
       "      <td>Southeast Asia</td>\n",
       "      <td>Kubentog</td>\n",
       "      <td>6.900742</td>\n",
       "      <td>124.437908</td>\n",
       "      <td>Facility/Infrastructure Attack</td>\n",
       "      <td>0.0</td>\n",
       "      <td>0.0</td>\n",
       "      <td>Houses</td>\n",
       "      <td>12/31/2017: Assailants set fire to houses in K...</td>\n",
       "      <td>Bangsamoro Islamic Freedom Movement (BIFM)</td>\n",
       "      <td>Private Citizens &amp; Property</td>\n",
       "      <td>Incendiary</td>\n",
       "    </tr>\n",
       "    <tr>\n",
       "      <th>181689</th>\n",
       "      <td>2017</td>\n",
       "      <td>12</td>\n",
       "      <td>31</td>\n",
       "      <td>India</td>\n",
       "      <td>Manipur</td>\n",
       "      <td>South Asia</td>\n",
       "      <td>Imphal</td>\n",
       "      <td>24.798346</td>\n",
       "      <td>93.940430</td>\n",
       "      <td>Bombing/Explosion</td>\n",
       "      <td>0.0</td>\n",
       "      <td>0.0</td>\n",
       "      <td>Office</td>\n",
       "      <td>12/31/2017: Assailants threw a grenade at a Fo...</td>\n",
       "      <td>Unknown</td>\n",
       "      <td>Government (General)</td>\n",
       "      <td>Explosives</td>\n",
       "    </tr>\n",
       "    <tr>\n",
       "      <th>181690</th>\n",
       "      <td>2017</td>\n",
       "      <td>12</td>\n",
       "      <td>31</td>\n",
       "      <td>Philippines</td>\n",
       "      <td>Maguindanao</td>\n",
       "      <td>Southeast Asia</td>\n",
       "      <td>Cotabato City</td>\n",
       "      <td>7.209594</td>\n",
       "      <td>124.241966</td>\n",
       "      <td>Bombing/Explosion</td>\n",
       "      <td>0.0</td>\n",
       "      <td>0.0</td>\n",
       "      <td>Unknown</td>\n",
       "      <td>12/31/2017: An explosive device was discovered...</td>\n",
       "      <td>Unknown</td>\n",
       "      <td>Unknown</td>\n",
       "      <td>Explosives</td>\n",
       "    </tr>\n",
       "  </tbody>\n",
       "</table>\n",
       "<p>181691 rows × 17 columns</p>\n",
       "</div>"
      ],
      "text/plain": [
       "        Year  Month  Day             Country            State  \\\n",
       "0       1970      7    2  Dominican Republic              NaN   \n",
       "1       1970      0    0              Mexico          Federal   \n",
       "2       1970      1    0         Philippines           Tarlac   \n",
       "3       1970      1    0              Greece           Attica   \n",
       "4       1970      1    0               Japan          Fukouka   \n",
       "...      ...    ...  ...                 ...              ...   \n",
       "181686  2017     12   31             Somalia  Middle Shebelle   \n",
       "181687  2017     12   31               Syria         Lattakia   \n",
       "181688  2017     12   31         Philippines      Maguindanao   \n",
       "181689  2017     12   31               India          Manipur   \n",
       "181690  2017     12   31         Philippines      Maguindanao   \n",
       "\n",
       "                             Region           City   Latitude   Longitude  \\\n",
       "0       Central America & Caribbean  Santo Domingo  18.456792  -69.951164   \n",
       "1                     North America    Mexico city  19.371887  -99.086624   \n",
       "2                    Southeast Asia        Unknown  15.478598  120.599741   \n",
       "3                    Western Europe         Athens  37.997490   23.762728   \n",
       "4                         East Asia        Fukouka  33.580412  130.396361   \n",
       "...                             ...            ...        ...         ...   \n",
       "181686           Sub-Saharan Africa  Ceelka Geelow   2.359673   45.385034   \n",
       "181687   Middle East & North Africa         Jableh  35.407278   35.942679   \n",
       "181688               Southeast Asia       Kubentog   6.900742  124.437908   \n",
       "181689                   South Asia         Imphal  24.798346   93.940430   \n",
       "181690               Southeast Asia  Cotabato City   7.209594  124.241966   \n",
       "\n",
       "                            AttackType  Killed  Wounded  \\\n",
       "0                        Assassination     1.0      0.0   \n",
       "1          Hostage Taking (Kidnapping)     0.0      0.0   \n",
       "2                        Assassination     1.0      0.0   \n",
       "3                    Bombing/Explosion     NaN      NaN   \n",
       "4       Facility/Infrastructure Attack     NaN      NaN   \n",
       "...                                ...     ...      ...   \n",
       "181686                   Armed Assault     1.0      2.0   \n",
       "181687               Bombing/Explosion     2.0      7.0   \n",
       "181688  Facility/Infrastructure Attack     0.0      0.0   \n",
       "181689               Bombing/Explosion     0.0      0.0   \n",
       "181690               Bombing/Explosion     0.0      0.0   \n",
       "\n",
       "                         Target  \\\n",
       "0                  Julio Guzman   \n",
       "1       Nadine Chaval, daughter   \n",
       "2                      Employee   \n",
       "3                  U.S. Embassy   \n",
       "4                U.S. Consulate   \n",
       "...                         ...   \n",
       "181686               Checkpoint   \n",
       "181687         Hmeymim Air Base   \n",
       "181688                   Houses   \n",
       "181689                   Office   \n",
       "181690                  Unknown   \n",
       "\n",
       "                                                  Summary  \\\n",
       "0                                                     NaN   \n",
       "1                                                     NaN   \n",
       "2                                                     NaN   \n",
       "3                                                     NaN   \n",
       "4                                                     NaN   \n",
       "...                                                   ...   \n",
       "181686  12/31/2017: Assailants opened fire on a Somali...   \n",
       "181687  12/31/2017: Assailants launched mortars at the...   \n",
       "181688  12/31/2017: Assailants set fire to houses in K...   \n",
       "181689  12/31/2017: Assailants threw a grenade at a Fo...   \n",
       "181690  12/31/2017: An explosive device was discovered...   \n",
       "\n",
       "                                             Group  \\\n",
       "0                                           MANO-D   \n",
       "1               23rd of September Communist League   \n",
       "2                                          Unknown   \n",
       "3                                          Unknown   \n",
       "4                                          Unknown   \n",
       "...                                            ...   \n",
       "181686                                  Al-Shabaab   \n",
       "181687                           Muslim extremists   \n",
       "181688  Bangsamoro Islamic Freedom Movement (BIFM)   \n",
       "181689                                     Unknown   \n",
       "181690                                     Unknown   \n",
       "\n",
       "                        Target_type Weapon_type  \n",
       "0       Private Citizens & Property     Unknown  \n",
       "1           Government (Diplomatic)     Unknown  \n",
       "2               Journalists & Media     Unknown  \n",
       "3           Government (Diplomatic)  Explosives  \n",
       "4           Government (Diplomatic)  Incendiary  \n",
       "...                             ...         ...  \n",
       "181686                     Military    Firearms  \n",
       "181687                     Military  Explosives  \n",
       "181688  Private Citizens & Property  Incendiary  \n",
       "181689         Government (General)  Explosives  \n",
       "181690                      Unknown  Explosives  \n",
       "\n",
       "[181691 rows x 17 columns]"
      ]
     },
     "execution_count": 38,
     "metadata": {},
     "output_type": "execute_result"
    }
   ],
   "source": [
    "import pandas as pd\n",
    "import csv\n",
    "obj=pd.read_csv(\"terrorismData.csv\")\n",
    "df=obj.copy()\n",
    "df\n"
   ]
  },
  {
   "cell_type": "code",
   "execution_count": 39,
   "id": "4c33a6e4",
   "metadata": {},
   "outputs": [
    {
     "data": {
      "text/html": [
       "<div>\n",
       "<style scoped>\n",
       "    .dataframe tbody tr th:only-of-type {\n",
       "        vertical-align: middle;\n",
       "    }\n",
       "\n",
       "    .dataframe tbody tr th {\n",
       "        vertical-align: top;\n",
       "    }\n",
       "\n",
       "    .dataframe thead th {\n",
       "        text-align: right;\n",
       "    }\n",
       "</style>\n",
       "<table border=\"1\" class=\"dataframe\">\n",
       "  <thead>\n",
       "    <tr style=\"text-align: right;\">\n",
       "      <th></th>\n",
       "      <th>Year</th>\n",
       "      <th>Month</th>\n",
       "      <th>Day</th>\n",
       "      <th>Latitude</th>\n",
       "      <th>Longitude</th>\n",
       "      <th>Killed</th>\n",
       "      <th>Wounded</th>\n",
       "    </tr>\n",
       "  </thead>\n",
       "  <tbody>\n",
       "    <tr>\n",
       "      <th>count</th>\n",
       "      <td>181691.000000</td>\n",
       "      <td>181691.000000</td>\n",
       "      <td>181691.000000</td>\n",
       "      <td>177135.000000</td>\n",
       "      <td>1.771340e+05</td>\n",
       "      <td>171378.000000</td>\n",
       "      <td>165380.000000</td>\n",
       "    </tr>\n",
       "    <tr>\n",
       "      <th>mean</th>\n",
       "      <td>2002.638997</td>\n",
       "      <td>6.467277</td>\n",
       "      <td>15.505644</td>\n",
       "      <td>23.498343</td>\n",
       "      <td>-4.586957e+02</td>\n",
       "      <td>2.403272</td>\n",
       "      <td>3.167668</td>\n",
       "    </tr>\n",
       "    <tr>\n",
       "      <th>std</th>\n",
       "      <td>13.259430</td>\n",
       "      <td>3.388303</td>\n",
       "      <td>8.814045</td>\n",
       "      <td>18.569242</td>\n",
       "      <td>2.047790e+05</td>\n",
       "      <td>11.545741</td>\n",
       "      <td>35.949392</td>\n",
       "    </tr>\n",
       "    <tr>\n",
       "      <th>min</th>\n",
       "      <td>1970.000000</td>\n",
       "      <td>0.000000</td>\n",
       "      <td>0.000000</td>\n",
       "      <td>-53.154613</td>\n",
       "      <td>-8.618590e+07</td>\n",
       "      <td>0.000000</td>\n",
       "      <td>0.000000</td>\n",
       "    </tr>\n",
       "    <tr>\n",
       "      <th>25%</th>\n",
       "      <td>1991.000000</td>\n",
       "      <td>4.000000</td>\n",
       "      <td>8.000000</td>\n",
       "      <td>11.510046</td>\n",
       "      <td>4.545640e+00</td>\n",
       "      <td>0.000000</td>\n",
       "      <td>0.000000</td>\n",
       "    </tr>\n",
       "    <tr>\n",
       "      <th>50%</th>\n",
       "      <td>2009.000000</td>\n",
       "      <td>6.000000</td>\n",
       "      <td>15.000000</td>\n",
       "      <td>31.467463</td>\n",
       "      <td>4.324651e+01</td>\n",
       "      <td>0.000000</td>\n",
       "      <td>0.000000</td>\n",
       "    </tr>\n",
       "    <tr>\n",
       "      <th>75%</th>\n",
       "      <td>2014.000000</td>\n",
       "      <td>9.000000</td>\n",
       "      <td>23.000000</td>\n",
       "      <td>34.685087</td>\n",
       "      <td>6.871033e+01</td>\n",
       "      <td>2.000000</td>\n",
       "      <td>2.000000</td>\n",
       "    </tr>\n",
       "    <tr>\n",
       "      <th>max</th>\n",
       "      <td>2017.000000</td>\n",
       "      <td>12.000000</td>\n",
       "      <td>31.000000</td>\n",
       "      <td>74.633553</td>\n",
       "      <td>1.793667e+02</td>\n",
       "      <td>1570.000000</td>\n",
       "      <td>8191.000000</td>\n",
       "    </tr>\n",
       "  </tbody>\n",
       "</table>\n",
       "</div>"
      ],
      "text/plain": [
       "                Year          Month            Day       Latitude  \\\n",
       "count  181691.000000  181691.000000  181691.000000  177135.000000   \n",
       "mean     2002.638997       6.467277      15.505644      23.498343   \n",
       "std        13.259430       3.388303       8.814045      18.569242   \n",
       "min      1970.000000       0.000000       0.000000     -53.154613   \n",
       "25%      1991.000000       4.000000       8.000000      11.510046   \n",
       "50%      2009.000000       6.000000      15.000000      31.467463   \n",
       "75%      2014.000000       9.000000      23.000000      34.685087   \n",
       "max      2017.000000      12.000000      31.000000      74.633553   \n",
       "\n",
       "          Longitude         Killed        Wounded  \n",
       "count  1.771340e+05  171378.000000  165380.000000  \n",
       "mean  -4.586957e+02       2.403272       3.167668  \n",
       "std    2.047790e+05      11.545741      35.949392  \n",
       "min   -8.618590e+07       0.000000       0.000000  \n",
       "25%    4.545640e+00       0.000000       0.000000  \n",
       "50%    4.324651e+01       0.000000       0.000000  \n",
       "75%    6.871033e+01       2.000000       2.000000  \n",
       "max    1.793667e+02    1570.000000    8191.000000  "
      ]
     },
     "execution_count": 39,
     "metadata": {},
     "output_type": "execute_result"
    }
   ],
   "source": [
    "df.describe()"
   ]
  },
  {
   "cell_type": "code",
   "execution_count": 40,
   "id": "ca6741cf",
   "metadata": {},
   "outputs": [
    {
     "data": {
      "text/plain": [
       "Year             int64\n",
       "Month            int64\n",
       "Day              int64\n",
       "Country         object\n",
       "State           object\n",
       "Region          object\n",
       "City            object\n",
       "Latitude       float64\n",
       "Longitude      float64\n",
       "AttackType      object\n",
       "Killed         float64\n",
       "Wounded        float64\n",
       "Target          object\n",
       "Summary         object\n",
       "Group           object\n",
       "Target_type     object\n",
       "Weapon_type     object\n",
       "dtype: object"
      ]
     },
     "execution_count": 40,
     "metadata": {},
     "output_type": "execute_result"
    }
   ],
   "source": [
    "df.dtypes"
   ]
  },
  {
   "cell_type": "code",
   "execution_count": 41,
   "id": "ddd86b6b",
   "metadata": {},
   "outputs": [
    {
     "data": {
      "text/plain": [
       "Index(['Year', 'Month', 'Day', 'Country', 'State', 'Region', 'City',\n",
       "       'Latitude', 'Longitude', 'AttackType', 'Killed', 'Wounded', 'Target',\n",
       "       'Summary', 'Group', 'Target_type', 'Weapon_type'],\n",
       "      dtype='object')"
      ]
     },
     "execution_count": 41,
     "metadata": {},
     "output_type": "execute_result"
    }
   ],
   "source": [
    "df.columns"
   ]
  },
  {
   "cell_type": "code",
   "execution_count": 42,
   "id": "bbf05df7",
   "metadata": {},
   "outputs": [
    {
     "data": {
      "text/html": [
       "<div>\n",
       "<style scoped>\n",
       "    .dataframe tbody tr th:only-of-type {\n",
       "        vertical-align: middle;\n",
       "    }\n",
       "\n",
       "    .dataframe tbody tr th {\n",
       "        vertical-align: top;\n",
       "    }\n",
       "\n",
       "    .dataframe thead th {\n",
       "        text-align: right;\n",
       "    }\n",
       "</style>\n",
       "<table border=\"1\" class=\"dataframe\">\n",
       "  <thead>\n",
       "    <tr style=\"text-align: right;\">\n",
       "      <th></th>\n",
       "      <th>Year</th>\n",
       "      <th>Month</th>\n",
       "      <th>Day</th>\n",
       "      <th>Country</th>\n",
       "      <th>State</th>\n",
       "      <th>Region</th>\n",
       "      <th>City</th>\n",
       "      <th>Latitude</th>\n",
       "      <th>Longitude</th>\n",
       "      <th>AttackType</th>\n",
       "      <th>Killed</th>\n",
       "      <th>Wounded</th>\n",
       "      <th>Target</th>\n",
       "      <th>Summary</th>\n",
       "      <th>Group</th>\n",
       "      <th>Target_type</th>\n",
       "      <th>Weapon_type</th>\n",
       "    </tr>\n",
       "  </thead>\n",
       "  <tbody>\n",
       "    <tr>\n",
       "      <th>4</th>\n",
       "      <td>1970</td>\n",
       "      <td>1</td>\n",
       "      <td>0</td>\n",
       "      <td>Japan</td>\n",
       "      <td>Fukouka</td>\n",
       "      <td>East Asia</td>\n",
       "      <td>Fukouka</td>\n",
       "      <td>33.580412</td>\n",
       "      <td>130.396361</td>\n",
       "      <td>Facility/Infrastructure Attack</td>\n",
       "      <td>NaN</td>\n",
       "      <td>NaN</td>\n",
       "      <td>U.S. Consulate</td>\n",
       "      <td>NaN</td>\n",
       "      <td>Unknown</td>\n",
       "      <td>Government (Diplomatic)</td>\n",
       "      <td>Incendiary</td>\n",
       "    </tr>\n",
       "    <tr>\n",
       "      <th>6</th>\n",
       "      <td>1970</td>\n",
       "      <td>1</td>\n",
       "      <td>2</td>\n",
       "      <td>Uruguay</td>\n",
       "      <td>Montevideo</td>\n",
       "      <td>South America</td>\n",
       "      <td>Montevideo</td>\n",
       "      <td>-34.891151</td>\n",
       "      <td>-56.187214</td>\n",
       "      <td>Assassination</td>\n",
       "      <td>0.0</td>\n",
       "      <td>0.0</td>\n",
       "      <td>Juan Maria de Lucah/Chief of Directorate of in...</td>\n",
       "      <td>NaN</td>\n",
       "      <td>Tupamaros (Uruguay)</td>\n",
       "      <td>Police</td>\n",
       "      <td>Firearms</td>\n",
       "    </tr>\n",
       "    <tr>\n",
       "      <th>8</th>\n",
       "      <td>1970</td>\n",
       "      <td>1</td>\n",
       "      <td>2</td>\n",
       "      <td>United States</td>\n",
       "      <td>Wisconsin</td>\n",
       "      <td>North America</td>\n",
       "      <td>Madison</td>\n",
       "      <td>43.076592</td>\n",
       "      <td>-89.412488</td>\n",
       "      <td>Facility/Infrastructure Attack</td>\n",
       "      <td>0.0</td>\n",
       "      <td>0.0</td>\n",
       "      <td>R.O.T.C. offices at University of Wisconsin, M...</td>\n",
       "      <td>1/2/1970: Karl Armstrong, a member of the New ...</td>\n",
       "      <td>New Year's Gang</td>\n",
       "      <td>Military</td>\n",
       "      <td>Incendiary</td>\n",
       "    </tr>\n",
       "    <tr>\n",
       "      <th>9</th>\n",
       "      <td>1970</td>\n",
       "      <td>1</td>\n",
       "      <td>3</td>\n",
       "      <td>United States</td>\n",
       "      <td>Wisconsin</td>\n",
       "      <td>North America</td>\n",
       "      <td>Madison</td>\n",
       "      <td>43.072950</td>\n",
       "      <td>-89.386694</td>\n",
       "      <td>Facility/Infrastructure Attack</td>\n",
       "      <td>0.0</td>\n",
       "      <td>0.0</td>\n",
       "      <td>Selective Service Headquarters in Madison Wisc...</td>\n",
       "      <td>1/3/1970: Karl Armstrong, a member of the New ...</td>\n",
       "      <td>New Year's Gang</td>\n",
       "      <td>Government (General)</td>\n",
       "      <td>Incendiary</td>\n",
       "    </tr>\n",
       "    <tr>\n",
       "      <th>10</th>\n",
       "      <td>1970</td>\n",
       "      <td>1</td>\n",
       "      <td>1</td>\n",
       "      <td>United States</td>\n",
       "      <td>Wisconsin</td>\n",
       "      <td>North America</td>\n",
       "      <td>Baraboo</td>\n",
       "      <td>43.468500</td>\n",
       "      <td>-89.744299</td>\n",
       "      <td>Bombing/Explosion</td>\n",
       "      <td>0.0</td>\n",
       "      <td>0.0</td>\n",
       "      <td>Badger Army ammo depot.</td>\n",
       "      <td>NaN</td>\n",
       "      <td>Weather Underground, Weathermen</td>\n",
       "      <td>Military</td>\n",
       "      <td>Explosives</td>\n",
       "    </tr>\n",
       "  </tbody>\n",
       "</table>\n",
       "</div>"
      ],
      "text/plain": [
       "    Year  Month  Day        Country       State         Region        City  \\\n",
       "4   1970      1    0          Japan     Fukouka      East Asia     Fukouka   \n",
       "6   1970      1    2        Uruguay  Montevideo  South America  Montevideo   \n",
       "8   1970      1    2  United States   Wisconsin  North America     Madison   \n",
       "9   1970      1    3  United States   Wisconsin  North America     Madison   \n",
       "10  1970      1    1  United States   Wisconsin  North America     Baraboo   \n",
       "\n",
       "     Latitude   Longitude                      AttackType  Killed  Wounded  \\\n",
       "4   33.580412  130.396361  Facility/Infrastructure Attack     NaN      NaN   \n",
       "6  -34.891151  -56.187214                   Assassination     0.0      0.0   \n",
       "8   43.076592  -89.412488  Facility/Infrastructure Attack     0.0      0.0   \n",
       "9   43.072950  -89.386694  Facility/Infrastructure Attack     0.0      0.0   \n",
       "10  43.468500  -89.744299               Bombing/Explosion     0.0      0.0   \n",
       "\n",
       "                                               Target  \\\n",
       "4                                      U.S. Consulate   \n",
       "6   Juan Maria de Lucah/Chief of Directorate of in...   \n",
       "8   R.O.T.C. offices at University of Wisconsin, M...   \n",
       "9   Selective Service Headquarters in Madison Wisc...   \n",
       "10                            Badger Army ammo depot.   \n",
       "\n",
       "                                              Summary  \\\n",
       "4                                                 NaN   \n",
       "6                                                 NaN   \n",
       "8   1/2/1970: Karl Armstrong, a member of the New ...   \n",
       "9   1/3/1970: Karl Armstrong, a member of the New ...   \n",
       "10                                                NaN   \n",
       "\n",
       "                              Group              Target_type Weapon_type  \n",
       "4                           Unknown  Government (Diplomatic)  Incendiary  \n",
       "6               Tupamaros (Uruguay)                   Police    Firearms  \n",
       "8                   New Year's Gang                 Military  Incendiary  \n",
       "9                   New Year's Gang     Government (General)  Incendiary  \n",
       "10  Weather Underground, Weathermen                 Military  Explosives  "
      ]
     },
     "execution_count": 42,
     "metadata": {},
     "output_type": "execute_result"
    }
   ],
   "source": [
    "a=df.drop(0)\n",
    "a.drop(5,inplace=True)\n",
    "a.drop(a.index[0],inplace=True)\n",
    "a.drop(a.index[[0,1,4]],inplace=True)\n",
    "a.head()"
   ]
  },
  {
   "cell_type": "code",
   "execution_count": 43,
   "id": "650b5060",
   "metadata": {},
   "outputs": [
    {
     "name": "stdout",
     "output_type": "stream",
     "text": [
      "50 50 50 "
     ]
    }
   ],
   "source": [
    "dtf=pd.read_csv(\"https://gist.githubusercontent.com/netj/8836201/raw/6f9306ad21398ea43cba4f7d537619d0e07d5ae3/iris.csv\")\n",
    "l1=dtf.variety.unique()\n",
    "count=[]\n",
    "for i in range(len(l1)):\n",
    "    a=dtf[dtf.variety==l1[i]]\n",
    "    ind=a.index\n",
    "    count.append(len(ind))\n",
    "for i in count:\n",
    "    print(i,end=\" \")"
   ]
  },
  {
   "cell_type": "code",
   "execution_count": 44,
   "id": "5f4d1739",
   "metadata": {},
   "outputs": [
    {
     "name": "stdout",
     "output_type": "stream",
     "text": [
      "sepal.length               6.3\n",
      "sepal.width                3.3\n",
      "petal.length               6.0\n",
      "petal.width                2.5\n",
      "variety         Iris-virginica\n",
      "Name: 100, dtype: object\n",
      "sepal.length               5.8\n",
      "sepal.width                2.7\n",
      "petal.length               5.1\n",
      "petal.width                1.9\n",
      "variety         Iris-virginica\n",
      "Name: 101, dtype: object\n",
      "sepal.length               7.1\n",
      "sepal.width                3.0\n",
      "petal.length               5.9\n",
      "petal.width                2.1\n",
      "variety         Iris-virginica\n",
      "Name: 102, dtype: object\n",
      "sepal.length               6.3\n",
      "sepal.width                2.9\n",
      "petal.length               5.6\n",
      "petal.width                1.8\n",
      "variety         Iris-virginica\n",
      "Name: 103, dtype: object\n",
      "sepal.length               6.5\n",
      "sepal.width                3.0\n",
      "petal.length               5.8\n",
      "petal.width                2.2\n",
      "variety         Iris-virginica\n",
      "Name: 104, dtype: object\n",
      "sepal.length               7.6\n",
      "sepal.width                3.0\n",
      "petal.length               6.6\n",
      "petal.width                2.1\n",
      "variety         Iris-virginica\n",
      "Name: 105, dtype: object\n",
      "sepal.length               4.9\n",
      "sepal.width                2.5\n",
      "petal.length               4.5\n",
      "petal.width                1.7\n",
      "variety         Iris-virginica\n",
      "Name: 106, dtype: object\n",
      "sepal.length               7.3\n",
      "sepal.width                2.9\n",
      "petal.length               6.3\n",
      "petal.width                1.8\n",
      "variety         Iris-virginica\n",
      "Name: 107, dtype: object\n",
      "sepal.length               6.7\n",
      "sepal.width                2.5\n",
      "petal.length               5.8\n",
      "petal.width                1.8\n",
      "variety         Iris-virginica\n",
      "Name: 108, dtype: object\n",
      "sepal.length               7.2\n",
      "sepal.width                3.6\n",
      "petal.length               6.1\n",
      "petal.width                2.5\n",
      "variety         Iris-virginica\n",
      "Name: 109, dtype: object\n",
      "sepal.length               6.5\n",
      "sepal.width                3.2\n",
      "petal.length               5.1\n",
      "petal.width                2.0\n",
      "variety         Iris-virginica\n",
      "Name: 110, dtype: object\n",
      "sepal.length               6.4\n",
      "sepal.width                2.7\n",
      "petal.length               5.3\n",
      "petal.width                1.9\n",
      "variety         Iris-virginica\n",
      "Name: 111, dtype: object\n",
      "sepal.length               6.8\n",
      "sepal.width                3.0\n",
      "petal.length               5.5\n",
      "petal.width                2.1\n",
      "variety         Iris-virginica\n",
      "Name: 112, dtype: object\n",
      "sepal.length               5.7\n",
      "sepal.width                2.5\n",
      "petal.length               5.0\n",
      "petal.width                2.0\n",
      "variety         Iris-virginica\n",
      "Name: 113, dtype: object\n",
      "sepal.length               5.8\n",
      "sepal.width                2.8\n",
      "petal.length               5.1\n",
      "petal.width                2.4\n",
      "variety         Iris-virginica\n",
      "Name: 114, dtype: object\n",
      "sepal.length               6.4\n",
      "sepal.width                3.2\n",
      "petal.length               5.3\n",
      "petal.width                2.3\n",
      "variety         Iris-virginica\n",
      "Name: 115, dtype: object\n",
      "sepal.length               6.5\n",
      "sepal.width                3.0\n",
      "petal.length               5.5\n",
      "petal.width                1.8\n",
      "variety         Iris-virginica\n",
      "Name: 116, dtype: object\n",
      "sepal.length               7.7\n",
      "sepal.width                3.8\n",
      "petal.length               6.7\n",
      "petal.width                2.2\n",
      "variety         Iris-virginica\n",
      "Name: 117, dtype: object\n",
      "sepal.length               7.7\n",
      "sepal.width                2.6\n",
      "petal.length               6.9\n",
      "petal.width                2.3\n",
      "variety         Iris-virginica\n",
      "Name: 118, dtype: object\n",
      "sepal.length               6.0\n",
      "sepal.width                2.2\n",
      "petal.length               5.0\n",
      "petal.width                1.5\n",
      "variety         Iris-virginica\n",
      "Name: 119, dtype: object\n",
      "sepal.length               6.9\n",
      "sepal.width                3.2\n",
      "petal.length               5.7\n",
      "petal.width                2.3\n",
      "variety         Iris-virginica\n",
      "Name: 120, dtype: object\n",
      "sepal.length               5.6\n",
      "sepal.width                2.8\n",
      "petal.length               4.9\n",
      "petal.width                2.0\n",
      "variety         Iris-virginica\n",
      "Name: 121, dtype: object\n",
      "sepal.length               7.7\n",
      "sepal.width                2.8\n",
      "petal.length               6.7\n",
      "petal.width                2.0\n",
      "variety         Iris-virginica\n",
      "Name: 122, dtype: object\n",
      "sepal.length               6.3\n",
      "sepal.width                2.7\n",
      "petal.length               4.9\n",
      "petal.width                1.8\n",
      "variety         Iris-virginica\n",
      "Name: 123, dtype: object\n",
      "sepal.length               6.7\n",
      "sepal.width                3.3\n",
      "petal.length               5.7\n",
      "petal.width                2.1\n",
      "variety         Iris-virginica\n",
      "Name: 124, dtype: object\n",
      "sepal.length               7.2\n",
      "sepal.width                3.2\n",
      "petal.length               6.0\n",
      "petal.width                1.8\n",
      "variety         Iris-virginica\n",
      "Name: 125, dtype: object\n",
      "sepal.length               6.2\n",
      "sepal.width                2.8\n",
      "petal.length               4.8\n",
      "petal.width                1.8\n",
      "variety         Iris-virginica\n",
      "Name: 126, dtype: object\n",
      "sepal.length               6.1\n",
      "sepal.width                3.0\n",
      "petal.length               4.9\n",
      "petal.width                1.8\n",
      "variety         Iris-virginica\n",
      "Name: 127, dtype: object\n",
      "sepal.length               6.4\n",
      "sepal.width                2.8\n",
      "petal.length               5.6\n",
      "petal.width                2.1\n",
      "variety         Iris-virginica\n",
      "Name: 128, dtype: object\n",
      "sepal.length               7.2\n",
      "sepal.width                3.0\n",
      "petal.length               5.8\n",
      "petal.width                1.6\n",
      "variety         Iris-virginica\n",
      "Name: 129, dtype: object\n",
      "sepal.length               7.4\n",
      "sepal.width                2.8\n",
      "petal.length               6.1\n",
      "petal.width                1.9\n",
      "variety         Iris-virginica\n",
      "Name: 130, dtype: object\n",
      "sepal.length               7.9\n",
      "sepal.width                3.8\n",
      "petal.length               6.4\n",
      "petal.width                2.0\n",
      "variety         Iris-virginica\n",
      "Name: 131, dtype: object\n",
      "sepal.length               6.4\n",
      "sepal.width                2.8\n",
      "petal.length               5.6\n",
      "petal.width                2.2\n",
      "variety         Iris-virginica\n",
      "Name: 132, dtype: object\n",
      "sepal.length               6.3\n",
      "sepal.width                2.8\n",
      "petal.length               5.1\n",
      "petal.width                1.5\n",
      "variety         Iris-virginica\n",
      "Name: 133, dtype: object\n",
      "sepal.length               6.1\n",
      "sepal.width                2.6\n",
      "petal.length               5.6\n",
      "petal.width                1.4\n",
      "variety         Iris-virginica\n",
      "Name: 134, dtype: object\n",
      "sepal.length               7.7\n",
      "sepal.width                3.0\n",
      "petal.length               6.1\n",
      "petal.width                2.3\n",
      "variety         Iris-virginica\n",
      "Name: 135, dtype: object\n",
      "sepal.length               6.3\n",
      "sepal.width                3.4\n",
      "petal.length               5.6\n",
      "petal.width                2.4\n",
      "variety         Iris-virginica\n",
      "Name: 136, dtype: object\n",
      "sepal.length               6.4\n",
      "sepal.width                3.1\n",
      "petal.length               5.5\n",
      "petal.width                1.8\n",
      "variety         Iris-virginica\n",
      "Name: 137, dtype: object\n",
      "sepal.length               6.0\n",
      "sepal.width                3.0\n",
      "petal.length               4.8\n",
      "petal.width                1.8\n",
      "variety         Iris-virginica\n",
      "Name: 138, dtype: object\n",
      "sepal.length               6.9\n",
      "sepal.width                3.1\n",
      "petal.length               5.4\n",
      "petal.width                2.1\n",
      "variety         Iris-virginica\n",
      "Name: 139, dtype: object\n",
      "sepal.length               6.7\n",
      "sepal.width                3.1\n",
      "petal.length               5.6\n",
      "petal.width                2.4\n",
      "variety         Iris-virginica\n",
      "Name: 140, dtype: object\n",
      "sepal.length               6.9\n",
      "sepal.width                3.1\n",
      "petal.length               5.1\n",
      "petal.width                2.3\n",
      "variety         Iris-virginica\n",
      "Name: 141, dtype: object\n",
      "sepal.length               5.8\n",
      "sepal.width                2.7\n",
      "petal.length               5.1\n",
      "petal.width                1.9\n",
      "variety         Iris-virginica\n",
      "Name: 142, dtype: object\n",
      "sepal.length               6.8\n",
      "sepal.width                3.2\n",
      "petal.length               5.9\n",
      "petal.width                2.3\n",
      "variety         Iris-virginica\n",
      "Name: 143, dtype: object\n",
      "sepal.length               6.7\n",
      "sepal.width                3.3\n",
      "petal.length               5.7\n",
      "petal.width                2.5\n",
      "variety         Iris-virginica\n",
      "Name: 144, dtype: object\n",
      "sepal.length               6.7\n",
      "sepal.width                3.0\n",
      "petal.length               5.2\n",
      "petal.width                2.3\n",
      "variety         Iris-virginica\n",
      "Name: 145, dtype: object\n",
      "sepal.length               6.3\n",
      "sepal.width                2.5\n",
      "petal.length               5.0\n",
      "petal.width                1.9\n",
      "variety         Iris-virginica\n",
      "Name: 146, dtype: object\n",
      "sepal.length               6.5\n",
      "sepal.width                3.0\n",
      "petal.length               5.2\n",
      "petal.width                2.0\n",
      "variety         Iris-virginica\n",
      "Name: 147, dtype: object\n",
      "sepal.length               6.2\n",
      "sepal.width                3.4\n",
      "petal.length               5.4\n",
      "petal.width                2.3\n",
      "variety         Iris-virginica\n",
      "Name: 148, dtype: object\n",
      "sepal.length               5.9\n",
      "sepal.width                3.0\n",
      "petal.length               5.1\n",
      "petal.width                1.8\n",
      "variety         Iris-virginica\n",
      "Name: 149, dtype: object\n"
     ]
    }
   ],
   "source": [
    "import pandas as pd\n",
    "df=pd.read_csv(\"https://files.codingninjas.in/iris-8116.csv\")\n",
    "a=df[(df[\"petal.length\"]>1.5) &(df[\"variety\"]==\"Iris-virginica\")]\n",
    "for i in a.index:\n",
    "    print(a.loc[i])\n",
    "    "
   ]
  },
  {
   "cell_type": "code",
   "execution_count": 45,
   "id": "ee740e70",
   "metadata": {},
   "outputs": [
    {
     "name": "stdout",
     "output_type": "stream",
     "text": [
      "sepal.length            5.1\n",
      "sepal.width             3.5\n",
      "petal.length            1.4\n",
      "petal.width             0.2\n",
      "variety         Iris-setosa\n",
      "Name: 0, dtype: object\n",
      "sepal.length            4.7\n",
      "sepal.width             3.2\n",
      "petal.length            1.3\n",
      "petal.width             0.2\n",
      "variety         Iris-setosa\n",
      "Name: 2, dtype: object\n"
     ]
    },
    {
     "data": {
      "text/html": [
       "<div>\n",
       "<style scoped>\n",
       "    .dataframe tbody tr th:only-of-type {\n",
       "        vertical-align: middle;\n",
       "    }\n",
       "\n",
       "    .dataframe tbody tr th {\n",
       "        vertical-align: top;\n",
       "    }\n",
       "\n",
       "    .dataframe thead th {\n",
       "        text-align: right;\n",
       "    }\n",
       "</style>\n",
       "<table border=\"1\" class=\"dataframe\">\n",
       "  <thead>\n",
       "    <tr style=\"text-align: right;\">\n",
       "      <th></th>\n",
       "      <th>sepal.length</th>\n",
       "      <th>sepal.width</th>\n",
       "      <th>petal.length</th>\n",
       "      <th>petal.width</th>\n",
       "      <th>variety</th>\n",
       "    </tr>\n",
       "  </thead>\n",
       "  <tbody>\n",
       "    <tr>\n",
       "      <th>0</th>\n",
       "      <td>5.1</td>\n",
       "      <td>3.5</td>\n",
       "      <td>1.4</td>\n",
       "      <td>0.2</td>\n",
       "      <td>Iris-setosa</td>\n",
       "    </tr>\n",
       "    <tr>\n",
       "      <th>1</th>\n",
       "      <td>4.9</td>\n",
       "      <td>3.0</td>\n",
       "      <td>1.4</td>\n",
       "      <td>0.2</td>\n",
       "      <td>Iris-setosa</td>\n",
       "    </tr>\n",
       "    <tr>\n",
       "      <th>2</th>\n",
       "      <td>4.7</td>\n",
       "      <td>3.2</td>\n",
       "      <td>1.3</td>\n",
       "      <td>0.2</td>\n",
       "      <td>Iris-setosa</td>\n",
       "    </tr>\n",
       "    <tr>\n",
       "      <th>3</th>\n",
       "      <td>4.6</td>\n",
       "      <td>3.1</td>\n",
       "      <td>1.5</td>\n",
       "      <td>0.2</td>\n",
       "      <td>Iris-setosa</td>\n",
       "    </tr>\n",
       "    <tr>\n",
       "      <th>4</th>\n",
       "      <td>5.0</td>\n",
       "      <td>3.6</td>\n",
       "      <td>1.4</td>\n",
       "      <td>0.2</td>\n",
       "      <td>Iris-setosa</td>\n",
       "    </tr>\n",
       "  </tbody>\n",
       "</table>\n",
       "</div>"
      ],
      "text/plain": [
       "   sepal.length  sepal.width  petal.length  petal.width      variety\n",
       "0           5.1          3.5           1.4          0.2  Iris-setosa\n",
       "1           4.9          3.0           1.4          0.2  Iris-setosa\n",
       "2           4.7          3.2           1.3          0.2  Iris-setosa\n",
       "3           4.6          3.1           1.5          0.2  Iris-setosa\n",
       "4           5.0          3.6           1.4          0.2  Iris-setosa"
      ]
     },
     "execution_count": 45,
     "metadata": {},
     "output_type": "execute_result"
    }
   ],
   "source": [
    "import pandas as pd\n",
    "df=pd.read_csv(\"https://files.codingninjas.in/iris-8116.csv\")\n",
    "#print(df.to_string())\n",
    "df.dtypes\n",
    "print(df.loc[0])\n",
    "print(df.iloc[2])\n",
    "df.head()\n"
   ]
  },
  {
   "cell_type": "code",
   "execution_count": 46,
   "id": "9f3f99d5",
   "metadata": {},
   "outputs": [
    {
     "name": "stdout",
     "output_type": "stream",
     "text": [
      "sepal.length 0      5.1\n",
      "1      4.9\n",
      "2      4.7\n",
      "3      4.6\n",
      "4      5.0\n",
      "      ... \n",
      "145    6.7\n",
      "146    6.3\n",
      "147    6.5\n",
      "148    6.2\n",
      "149    5.9\n",
      "Name: sepal.length, Length: 150, dtype: float64\n",
      "\n",
      "sepal.width 0      3.5\n",
      "1      3.0\n",
      "2      3.2\n",
      "3      3.1\n",
      "4      3.6\n",
      "      ... \n",
      "145    3.0\n",
      "146    2.5\n",
      "147    3.0\n",
      "148    3.4\n",
      "149    3.0\n",
      "Name: sepal.width, Length: 150, dtype: float64\n",
      "\n",
      "petal.length 0      1.4\n",
      "1      1.4\n",
      "2      1.3\n",
      "3      1.5\n",
      "4      1.4\n",
      "      ... \n",
      "145    5.2\n",
      "146    5.0\n",
      "147    5.2\n",
      "148    5.4\n",
      "149    5.1\n",
      "Name: petal.length, Length: 150, dtype: float64\n",
      "\n",
      "petal.width 0      0.2\n",
      "1      0.2\n",
      "2      0.2\n",
      "3      0.2\n",
      "4      0.2\n",
      "      ... \n",
      "145    2.3\n",
      "146    1.9\n",
      "147    2.0\n",
      "148    2.3\n",
      "149    1.8\n",
      "Name: petal.width, Length: 150, dtype: float64\n",
      "\n",
      "variety 0         Iris-setosa\n",
      "1         Iris-setosa\n",
      "2         Iris-setosa\n",
      "3         Iris-setosa\n",
      "4         Iris-setosa\n",
      "            ...      \n",
      "145    Iris-virginica\n",
      "146    Iris-virginica\n",
      "147    Iris-virginica\n",
      "148    Iris-virginica\n",
      "149    Iris-virginica\n",
      "Name: variety, Length: 150, dtype: object\n",
      "\n"
     ]
    }
   ],
   "source": [
    "for i,j in df.iteritems():\n",
    "    print(i,j)\n",
    "    print()"
   ]
  },
  {
   "cell_type": "code",
   "execution_count": 47,
   "id": "5c7048a5",
   "metadata": {},
   "outputs": [
    {
     "name": "stdout",
     "output_type": "stream",
     "text": [
      "4.30   2.30   1.00   0.10   Iris-setosa\n",
      "5.80   4.40   1.90   0.60   Iris-setosa\n",
      "5.01   3.42   1.46   0.24   Iris-setosa\n",
      "4.90   2.00   3.00   1.00   Iris-versicolor\n",
      "7.00   3.40   5.10   1.80   Iris-versicolor\n",
      "5.94   2.77   4.26   1.33   Iris-versicolor\n",
      "4.90   2.20   4.50   1.40   Iris-virginica\n",
      "7.90   3.80   6.90   2.50   Iris-virginica\n",
      "6.59   2.97   5.55   2.03   Iris-virginica\n"
     ]
    }
   ],
   "source": [
    "## Open and read data file as specified in the question\n",
    "## Print the required output in given format\n",
    "import pandas as pd\n",
    "iris=pd.read_csv(\"https://archive.ics.uci.edu/ml/machine-learning-databases/iris/iris.data\", header=None)\n",
    "df=iris.copy()\n",
    "df.columns=[\"sl\",\"sw\",\"pl\",\"pw\",\"flower_type\"] \n",
    "df1=df[df.flower_type=='Iris-setosa']\n",
    "df2=df[df.flower_type=='Iris-virginica']\n",
    "df3=df[df.flower_type=='Iris-versicolor']\n",
    "print(format(df1.sl.min(),'.2f'),' ',format(df1.sw.min(),'.2f'),' ',format(df1.pl.min(),'.2f'),' ',format(df1.pw.min(),'.2f'),' ','Iris-setosa')\n",
    "print(format(df1.sl.max(),'.2f'),' ',format(df1.sw.max(),'.2f'),' ',format(df1.pl.max(),'.2f'),' ',format(df1.pw.max(),'.2f'),' ','Iris-setosa')\n",
    "print(format(df1.sl.mean(),'.2f'),' ',format(df1.sw.mean(),'.2f'),' ',format(df1.pl.mean(),'.2f'),' ',format(df1.pw.mean(),'.2f'),' ','Iris-setosa')\n",
    "print(format(df3.sl.min(),'.2f'),' ',format(df3.sw.min(),'.2f'),' ',format(df3.pl.min(),'.2f'),' ',format(df3.pw.min(),'.2f'),' ','Iris-versicolor')\n",
    "print(format(df3.sl.max(),'.2f'),' ',format(df3.sw.max(),'.2f'),' ',format(df3.pl.max(),'.2f'),' ',format(df3.pw.max(),'.2f'),' ','Iris-versicolor')\n",
    "print(format(df3.sl.mean(),'.2f'),' ',format(df3.sw.mean(),'.2f'),' ',format(df3.pl.mean(),'.2f'),' ',format(df3.pw.mean(),'.2f'),' ','Iris-versicolor')\n",
    "print(format(df2.sl.min(),'.2f'),' ',format(df2.sw.min(),'.2f'),' ',format(df2.pl.min(),'.2f'),' ',format(df2.pw.min(),'.2f'),' ','Iris-virginica')\n",
    "print(format(df2.sl.max(),'.2f'),' ',format(df2.sw.max(),'.2f'),' ',format(df2.pl.max(),'.2f'),' ',format(df2.pw.max(),'.2f'),' ','Iris-virginica')\n",
    "print(format(df2.sl.mean(),'.2f'),' ',format(df2.sw.mean(),'.2f'),' ',format(df2.pl.mean(),'.2f'),' ',format(df2.pw.mean(),'.2f'),' ','Iris-virginica')"
   ]
  },
  {
   "cell_type": "code",
   "execution_count": 53,
   "id": "10c42973",
   "metadata": {},
   "outputs": [
    {
     "name": "stdout",
     "output_type": "stream",
     "text": [
      "3336 Maoists\n"
     ]
    }
   ],
   "source": [
    "## Open and read data file as specified in the question\n",
    "## Print the required output in given format\n",
    "import pandas as pd\n",
    "td=pd.read_csv(\"terrorismData.csv\")\n",
    "df=td.copy()\n",
    "a=df[df.Day>=26]\n",
    "b=a[a.Year==2014]\n",
    "c=b[b.Country=='India']\n",
    "ans1=c[c.Month==5]\n",
    "#del a\n",
    "#del b\n",
    "#del c\n",
    "a=df[df.Year==2014]\n",
    "b=a[a.Country=='India']\n",
    "ans2=b[b.Month>5]\n",
    "#del a\n",
    "#del b\n",
    "a=df[df.Country=='India']\n",
    "ans3=a[a.Year>2014]\n",
    "count=ans1.shape[0]+ans2.shape[0]+ans3.shape[0]\n",
    "print(count, end=' ')\n",
    "ans1=ans1[ans1.Group!='Unknown']\n",
    "ans2=ans2[ans2.Group!='Unknown']\n",
    "ans3=ans3[ans3.Group!='Unknown']\n",
    "print(ans3.Group.describe().top)"
   ]
  },
  {
   "cell_type": "code",
   "execution_count": 54,
   "id": "e11380a8",
   "metadata": {},
   "outputs": [
    {
     "name": "stdout",
     "output_type": "stream",
     "text": [
      "115 261\n"
     ]
    },
    {
     "name": "stderr",
     "output_type": "stream",
     "text": [
      "<ipython-input-54-e0142f2ad523>:9: SettingWithCopyWarning: \n",
      "A value is trying to be set on a copy of a slice from a DataFrame.\n",
      "Try using .loc[row_indexer,col_indexer] = value instead\n",
      "\n",
      "See the caveats in the documentation: https://pandas.pydata.org/pandas-docs/stable/user_guide/indexing.html#returning-a-view-versus-a-copy\n",
      "  d1['Casuality'] = d1['Killed'] + d1['Wounded']\n",
      "<ipython-input-54-e0142f2ad523>:10: SettingWithCopyWarning: \n",
      "A value is trying to be set on a copy of a slice from a DataFrame.\n",
      "Try using .loc[row_indexer,col_indexer] = value instead\n",
      "\n",
      "See the caveats in the documentation: https://pandas.pydata.org/pandas-docs/stable/user_guide/indexing.html#returning-a-view-versus-a-copy\n",
      "  d2['Casuality'] = d2['Killed'] + d2['Wounded']\n"
     ]
    }
   ],
   "source": [
    "## Open and read data file as specified in the question\n",
    "## Print the required output in given format\n",
    "import pandas as pd\n",
    "data=pd.read_csv(\"terrorismData.csv\")\n",
    "\n",
    "data=data[data['Country']=='India']\n",
    "d1=data[(data[\"State\"]==\"Jharkhand\") | (data[\"State\"]==\"Odisha\") | (data[\"State\"]==\"Andhra Pradesh\") | (data[\"State\"]==\"Chhattisgarh\")]\n",
    "d2=data[data[\"State\"]==\"Jammu and Kashmir\"]\n",
    "d1['Casuality'] = d1['Killed'] + d1['Wounded']\n",
    "d2['Casuality'] = d2['Killed'] + d2['Wounded']\n",
    "val1 = d1['Casuality'].sum()//47\n",
    "val2=(d2[\"Casuality\"].sum())//47\n",
    "\n",
    "print(int(val1),int(val2))"
   ]
  },
  {
   "cell_type": "code",
   "execution_count": 55,
   "id": "0a2acf12",
   "metadata": {},
   "outputs": [
    {
     "name": "stdout",
     "output_type": "stream",
     "text": [
      "1570 Iraq Islamic State of Iraq and the Levant (ISIL)\n"
     ]
    }
   ],
   "source": [
    "## Open and read data file as specified in the question\n",
    "## Print the required output in given format\n",
    "import pandas as pd\n",
    "path='terrorismData.csv'\n",
    "df_terrorism=pd.read_csv(path,encoding='ISO-8859-1')\n",
    "maxKilled=max(df_terrorism['Killed'])\n",
    "group=df_terrorism[df_terrorism['Killed']==maxKilled]['Group'].values[0]\n",
    "country=df_terrorism[df_terrorism['Killed']==maxKilled]['Country'].values[0]\n",
    "print(int(maxKilled),country,group)"
   ]
  },
  {
   "cell_type": "code",
   "execution_count": 56,
   "id": "06b8d3cd",
   "metadata": {},
   "outputs": [
    {
     "name": "stdout",
     "output_type": "stream",
     "text": [
      "Iraq 24636 2014\n"
     ]
    }
   ],
   "source": [
    "## Open and read data file as specified in the question\n",
    "## Print the required output in given format\n",
    "import pandas as pd\n",
    "terror = pd.read_csv('terrorismData.csv')\n",
    "a = terror[\"Country\"].value_counts()\n",
    "country = a.index[0]\n",
    "attack = a.values[0]\n",
    "terror = terror[terror['Country'] == country]\n",
    "year = terror['Year'].value_counts()\n",
    "print(country,attack,year.index[0])"
   ]
  },
  {
   "cell_type": "markdown",
   "id": "02858480",
   "metadata": {},
   "source": [
    "# Matplotlib"
   ]
  },
  {
   "cell_type": "code",
   "execution_count": 48,
   "id": "cb7f1320",
   "metadata": {},
   "outputs": [
    {
     "data": {
      "image/png": "[encoded data removed]",
      "text/plain": [
       "<Figure size 432x288 with 1 Axes>"
      ]
     },
     "metadata": {
      "needs_background": "light"
     },
     "output_type": "display_data"
    },
    {
     "data": {
      "text/plain": [
       "array([         1,          4,         16,         64,        256,\n",
       "             1024,       4096,      16384,      65536,     262144,\n",
       "          1048576,    4194304,   16777216,   67108864,  268435456,\n",
       "       1073741824,          0,          0,          0,          0],\n",
       "      dtype=int32)"
      ]
     },
     "execution_count": 48,
     "metadata": {},
     "output_type": "execute_result"
    }
   ],
   "source": [
    "import numpy as np\n",
    "import matplotlib.pyplot as plt\n",
    "x=np.arange(0,40,2)\n",
    "y=2**x\n",
    "plt.plot(x,y,\"b--\")\n",
    "plt.show()\n",
    "\n",
    "y"
   ]
  },
  {
   "cell_type": "code",
   "execution_count": 49,
   "id": "736ce693",
   "metadata": {},
   "outputs": [
    {
     "data": {
      "image/png": "[encoded data removed]",
      "text/plain": [
       "<Figure size 432x288 with 1 Axes>"
      ]
     },
     "metadata": {
      "needs_background": "light"
     },
     "output_type": "display_data"
    }
   ],
   "source": [
    "x1 =[0,1,2,3,4,5,6,7,9,10]\n",
    "y1=[1,2,5,10,17,26,37,50,82,101]\n",
    "import numpy as np\n",
    "import matplotlib.pyplot as plt\n",
    "plt.plot(x1,y1,color=\"blue\",label=\"x^2+1\")\n",
    "x=np.arange(0,40,2)\n",
    "y=2**x\n",
    "plt.plot(x,y,color=\"black\",label=\"2^x\")\n",
    "plt.ylabel(\"y\")\n",
    "plt.xlabel(\"x\")\n",
    "plt.legend()\n",
    "plt.show()"
   ]
  },
  {
   "cell_type": "code",
   "execution_count": 50,
   "id": "cf4fc8fe",
   "metadata": {},
   "outputs": [
    {
     "data": {
      "image/png": "[encoded data removed]",
      "text/plain": [
       "<Figure size 432x288 with 1 Axes>"
      ]
     },
     "metadata": {
      "needs_background": "light"
     },
     "output_type": "display_data"
    },
    {
     "name": "stdout",
     "output_type": "stream",
     "text": [
      "2009   58.44   93\n",
      "2015   93.58   118\n"
     ]
    }
   ],
   "source": [
    "employees=[61,71,79,91,93,89,90,94,99,128,118,114,124,131]\n",
    "year=[2005,2006,2007,2008,2009,2010,2011,2012,2013,2014,2015,2016,2017,2018]\n",
    "revenue=[39.79,44.28,51.12,60.42,58.44,62.48,69.94,73.72,77.85,86.83,93.58,85.32,89.95,110.36]\n",
    "import numpy as np\n",
    "import matplotlib.pyplot as plt\n",
    "plt.scatter(year,revenue,s=employees)\n",
    "plt.show()\n",
    "print(year[4],\" \",revenue[4],\" \",employees[4])\n",
    "print(year[10],\" \",revenue[10],\" \",employees[10])"
   ]
  },
  {
   "cell_type": "code",
   "execution_count": 52,
   "id": "21135da3",
   "metadata": {},
   "outputs": [
    {
     "data": {
      "image/png": "[encoded data removed]",
      "text/plain": [
       "<Figure size 432x288 with 1 Axes>"
      ]
     },
     "metadata": {},
     "output_type": "display_data"
    }
   ],
   "source": [
    "#pie chart\n",
    "size=[2,4,8,9]\n",
    "label=[\"A\",\"B\",\"C\",\"D\"]\n",
    "color=[\"blue\",\"green\",\"red\",\"purple\"]\n",
    "plt.title(\"pie chart\")\n",
    "#explode a specific peice or more\n",
    "explode=[0.1,0,0.2,0]\n",
    "#by def pie chart is anticlockwise counterclock=true by def\n",
    "#to give start angle we use startangle=100 200 in degree\n",
    "plt.pie(size,colors=color,labels=label,autopct=\"%.1f\",explode=explode,counterclock=False,startangle=90) # for print 17.4% instead of 17.4 use autopct=\"%.1f%%\"\n",
    "plt.axis(\"equal\")\n",
    "plt.show()"
   ]
  },
  {
   "cell_type": "code",
   "execution_count": null,
   "id": "bd0421fb",
   "metadata": {},
   "outputs": [],
   "source": []
  }
 ],
 "metadata": {
  "kernelspec": {
   "display_name": "Python 3",
   "language": "python",
   "name": "python3"
  },
  "language_info": {
   "codemirror_mode": {
    "name": "ipython",
    "version": 3
   },
   "file_extension": ".py",
   "mimetype": "text/x-python",
   "name": "python",
   "nbconvert_exporter": "python",
   "pygments_lexer": "ipython3",
   "version": "3.8.8"
  }
 },
 "nbformat": 4,
 "nbformat_minor": 5
}
