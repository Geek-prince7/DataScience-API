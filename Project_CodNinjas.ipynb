{
 "cells": [
  {
   "cell_type": "code",
   "execution_count": 1,
   "id": "302e37ec",
   "metadata": {
    "scrolled": true
   },
   "outputs": [
    {
     "data": {
      "text/html": [
       "<div>\n",
       "<style scoped>\n",
       "    .dataframe tbody tr th:only-of-type {\n",
       "        vertical-align: middle;\n",
       "    }\n",
       "\n",
       "    .dataframe tbody tr th {\n",
       "        vertical-align: top;\n",
       "    }\n",
       "\n",
       "    .dataframe thead th {\n",
       "        text-align: right;\n",
       "    }\n",
       "</style>\n",
       "<table border=\"1\" class=\"dataframe\">\n",
       "  <thead>\n",
       "    <tr style=\"text-align: right;\">\n",
       "      <th></th>\n",
       "      <th>SNo</th>\n",
       "      <th>Date</th>\n",
       "      <th>StartupName</th>\n",
       "      <th>IndustryVertical</th>\n",
       "      <th>SubVertical</th>\n",
       "      <th>CityLocation</th>\n",
       "      <th>InvestorsName</th>\n",
       "      <th>InvestmentType</th>\n",
       "      <th>AmountInUSD</th>\n",
       "      <th>Remarks</th>\n",
       "    </tr>\n",
       "  </thead>\n",
       "  <tbody>\n",
       "    <tr>\n",
       "      <th>0</th>\n",
       "      <td>0</td>\n",
       "      <td>01/08/2017</td>\n",
       "      <td>TouchKin</td>\n",
       "      <td>Technology</td>\n",
       "      <td>Predictive Care Platform</td>\n",
       "      <td>Bangalore</td>\n",
       "      <td>Kae Capital</td>\n",
       "      <td>Private Equity</td>\n",
       "      <td>1,300,000</td>\n",
       "      <td>NaN</td>\n",
       "    </tr>\n",
       "    <tr>\n",
       "      <th>1</th>\n",
       "      <td>1</td>\n",
       "      <td>02/08/2017</td>\n",
       "      <td>Ethinos</td>\n",
       "      <td>Technology</td>\n",
       "      <td>Digital Marketing Agency</td>\n",
       "      <td>Mumbai</td>\n",
       "      <td>Triton Investment Advisors</td>\n",
       "      <td>Private Equity</td>\n",
       "      <td>NaN</td>\n",
       "      <td>NaN</td>\n",
       "    </tr>\n",
       "    <tr>\n",
       "      <th>2</th>\n",
       "      <td>2</td>\n",
       "      <td>02/08/2017</td>\n",
       "      <td>Leverage Edu</td>\n",
       "      <td>Consumer Internet</td>\n",
       "      <td>Online platform for Higher Education Services</td>\n",
       "      <td>New Delhi</td>\n",
       "      <td>Kashyap Deorah, Anand Sankeshwar, Deepak Jain,...</td>\n",
       "      <td>Seed Funding</td>\n",
       "      <td>NaN</td>\n",
       "      <td>NaN</td>\n",
       "    </tr>\n",
       "    <tr>\n",
       "      <th>3</th>\n",
       "      <td>3</td>\n",
       "      <td>02/08/2017</td>\n",
       "      <td>Zepo</td>\n",
       "      <td>Consumer Internet</td>\n",
       "      <td>DIY Ecommerce platform</td>\n",
       "      <td>Mumbai</td>\n",
       "      <td>Kunal Shah, LetsVenture, Anupam Mittal, Hetal ...</td>\n",
       "      <td>Seed Funding</td>\n",
       "      <td>500,000</td>\n",
       "      <td>NaN</td>\n",
       "    </tr>\n",
       "    <tr>\n",
       "      <th>4</th>\n",
       "      <td>4</td>\n",
       "      <td>02/08/2017</td>\n",
       "      <td>Click2Clinic</td>\n",
       "      <td>Consumer Internet</td>\n",
       "      <td>healthcare service aggregator</td>\n",
       "      <td>Hyderabad</td>\n",
       "      <td>Narottam Thudi, Shireesh Palle</td>\n",
       "      <td>Seed Funding</td>\n",
       "      <td>850,000</td>\n",
       "      <td>NaN</td>\n",
       "    </tr>\n",
       "    <tr>\n",
       "      <th>...</th>\n",
       "      <td>...</td>\n",
       "      <td>...</td>\n",
       "      <td>...</td>\n",
       "      <td>...</td>\n",
       "      <td>...</td>\n",
       "      <td>...</td>\n",
       "      <td>...</td>\n",
       "      <td>...</td>\n",
       "      <td>...</td>\n",
       "      <td>...</td>\n",
       "    </tr>\n",
       "    <tr>\n",
       "      <th>2367</th>\n",
       "      <td>2367</td>\n",
       "      <td>29/01/2015</td>\n",
       "      <td>Printvenue</td>\n",
       "      <td>NaN</td>\n",
       "      <td>NaN</td>\n",
       "      <td>NaN</td>\n",
       "      <td>Asia Pacific Internet Group</td>\n",
       "      <td>Private Equity</td>\n",
       "      <td>4,500,000</td>\n",
       "      <td>NaN</td>\n",
       "    </tr>\n",
       "    <tr>\n",
       "      <th>2368</th>\n",
       "      <td>2368</td>\n",
       "      <td>29/01/2015</td>\n",
       "      <td>Graphene</td>\n",
       "      <td>NaN</td>\n",
       "      <td>NaN</td>\n",
       "      <td>NaN</td>\n",
       "      <td>KARSEMVEN Fund</td>\n",
       "      <td>Private Equity</td>\n",
       "      <td>825,000</td>\n",
       "      <td>Govt backed VC Fund</td>\n",
       "    </tr>\n",
       "    <tr>\n",
       "      <th>2369</th>\n",
       "      <td>2369</td>\n",
       "      <td>30/01/2015</td>\n",
       "      <td>Mad Street Den</td>\n",
       "      <td>NaN</td>\n",
       "      <td>NaN</td>\n",
       "      <td>NaN</td>\n",
       "      <td>Exfinity Fund, GrowX Ventures.</td>\n",
       "      <td>Private Equity</td>\n",
       "      <td>1,500,000</td>\n",
       "      <td>NaN</td>\n",
       "    </tr>\n",
       "    <tr>\n",
       "      <th>2370</th>\n",
       "      <td>2370</td>\n",
       "      <td>30/01/2015</td>\n",
       "      <td>Simplotel</td>\n",
       "      <td>NaN</td>\n",
       "      <td>NaN</td>\n",
       "      <td>NaN</td>\n",
       "      <td>MakeMyTrip</td>\n",
       "      <td>Private Equity</td>\n",
       "      <td>NaN</td>\n",
       "      <td>Strategic Funding, Minority stake</td>\n",
       "    </tr>\n",
       "    <tr>\n",
       "      <th>2371</th>\n",
       "      <td>2371</td>\n",
       "      <td>31/01/2015</td>\n",
       "      <td>couponmachine.in</td>\n",
       "      <td>NaN</td>\n",
       "      <td>NaN</td>\n",
       "      <td>NaN</td>\n",
       "      <td>UK based Group of Angel Investors</td>\n",
       "      <td>Seed Funding</td>\n",
       "      <td>140,000</td>\n",
       "      <td>NaN</td>\n",
       "    </tr>\n",
       "  </tbody>\n",
       "</table>\n",
       "<p>2372 rows × 10 columns</p>\n",
       "</div>"
      ],
      "text/plain": [
       "       SNo        Date       StartupName   IndustryVertical  \\\n",
       "0        0  01/08/2017          TouchKin         Technology   \n",
       "1        1  02/08/2017           Ethinos         Technology   \n",
       "2        2  02/08/2017      Leverage Edu  Consumer Internet   \n",
       "3        3  02/08/2017              Zepo  Consumer Internet   \n",
       "4        4  02/08/2017      Click2Clinic  Consumer Internet   \n",
       "...    ...         ...               ...                ...   \n",
       "2367  2367  29/01/2015        Printvenue                NaN   \n",
       "2368  2368  29/01/2015          Graphene                NaN   \n",
       "2369  2369  30/01/2015    Mad Street Den                NaN   \n",
       "2370  2370  30/01/2015         Simplotel                NaN   \n",
       "2371  2371  31/01/2015  couponmachine.in                NaN   \n",
       "\n",
       "                                        SubVertical CityLocation  \\\n",
       "0                          Predictive Care Platform    Bangalore   \n",
       "1                          Digital Marketing Agency       Mumbai   \n",
       "2     Online platform for Higher Education Services    New Delhi   \n",
       "3                            DIY Ecommerce platform       Mumbai   \n",
       "4                     healthcare service aggregator    Hyderabad   \n",
       "...                                             ...          ...   \n",
       "2367                                            NaN          NaN   \n",
       "2368                                            NaN          NaN   \n",
       "2369                                            NaN          NaN   \n",
       "2370                                            NaN          NaN   \n",
       "2371                                            NaN          NaN   \n",
       "\n",
       "                                          InvestorsName  InvestmentType  \\\n",
       "0                                           Kae Capital  Private Equity   \n",
       "1                            Triton Investment Advisors  Private Equity   \n",
       "2     Kashyap Deorah, Anand Sankeshwar, Deepak Jain,...    Seed Funding   \n",
       "3     Kunal Shah, LetsVenture, Anupam Mittal, Hetal ...    Seed Funding   \n",
       "4                        Narottam Thudi, Shireesh Palle    Seed Funding   \n",
       "...                                                 ...             ...   \n",
       "2367                        Asia Pacific Internet Group  Private Equity   \n",
       "2368                                     KARSEMVEN Fund  Private Equity   \n",
       "2369                     Exfinity Fund, GrowX Ventures.  Private Equity   \n",
       "2370                                         MakeMyTrip  Private Equity   \n",
       "2371                  UK based Group of Angel Investors    Seed Funding   \n",
       "\n",
       "     AmountInUSD                            Remarks  \n",
       "0      1,300,000                                NaN  \n",
       "1            NaN                                NaN  \n",
       "2            NaN                                NaN  \n",
       "3        500,000                                NaN  \n",
       "4        850,000                                NaN  \n",
       "...          ...                                ...  \n",
       "2367   4,500,000                                NaN  \n",
       "2368     825,000                Govt backed VC Fund  \n",
       "2369   1,500,000                                NaN  \n",
       "2370         NaN  Strategic Funding, Minority stake  \n",
       "2371     140,000                                NaN  \n",
       "\n",
       "[2372 rows x 10 columns]"
      ]
     },
     "execution_count": 1,
     "metadata": {},
     "output_type": "execute_result"
    }
   ],
   "source": [
    "import matplotlib.pyplot as plt\n",
    "import pandas as pd\n",
    "df=pd.read_csv('startup_funding.csv')\n",
    "df"
   ]
  },
  {
   "cell_type": "code",
   "execution_count": 2,
   "id": "983f2824",
   "metadata": {},
   "outputs": [
    {
     "data": {
      "image/png": "[encoded data removed]",
      "text/plain": [
       "<Figure size 432x288 with 1 Axes>"
      ]
     },
     "metadata": {
      "needs_background": "light"
     },
     "output_type": "display_data"
    },
    {
     "name": "stdout",
     "output_type": "stream",
     "text": [
      "2015 936\n",
      "2016 993\n",
      "2017 443\n"
     ]
    }
   ],
   "source": [
    "l1=list(df[\"Date\"])\n",
    "d={}\n",
    "j=0\n",
    "l1[2103]\n",
    "for i in l1:\n",
    "    year=i.split('/')\n",
    "    yr=0\n",
    "    if len(year)>2:\n",
    "        yr=int(year[len(year)-1])\n",
    "    else:\n",
    "        yr=int(year[1].split('.')[1])\n",
    "    d[yr]=d.get(yr,0)+1\n",
    "year=[]\n",
    "funding=[]\n",
    "for i in range(2015,2018,1):\n",
    "    year.append(i)\n",
    "    funding.append(d[i])\n",
    "\n",
    "plt.plot(year,funding)\n",
    "plt.xticks(year,rotation=45)\n",
    "plt.xlabel(\"Year\")\n",
    "plt.ylabel(\"No of fundings\")\n",
    "plt.show()\n",
    "for i in range(len(year)):\n",
    "    print(year[i],funding[i])\n",
    "    \n"
   ]
  },
  {
   "cell_type": "code",
   "execution_count": 3,
   "id": "2a0c4ca1",
   "metadata": {},
   "outputs": [
    {
     "data": {
      "image/png": "[encoded data removed]",
      "text/plain": [
       "<Figure size 432x288 with 1 Axes>"
      ]
     },
     "metadata": {},
     "output_type": "display_data"
    },
    {
     "name": "stdout",
     "output_type": "stream",
     "text": [
      "Bangalore 635\n",
      "Mumbai 449\n",
      "New Delhi 389\n",
      "Gurgaon 241\n",
      "Pune 91\n",
      "Noida 79\n",
      "Hyderabad 77\n",
      "Chennai 67\n",
      "Ahmedabad 35\n",
      "Jaipur 25\n"
     ]
    }
   ],
   "source": [
    "import pandas as pd\n",
    "import numpy as np\n",
    "import matplotlib.pyplot as plt\n",
    "df = pd.read_csv(\"startup_funding.csv\")\n",
    "city = df['CityLocation']\n",
    "city = np.array(city, dtype = str)\n",
    "city=city[city != 'nan']\n",
    "for i in range(len(city)):\n",
    "    if 'bangalore' in city[i]:\n",
    "        city[i] = 'Bangalore'\n",
    "    if 'Delhi' in city[i]:\n",
    "        city[i] = 'New Delhi'\n",
    "for i in range(len(city)) :\n",
    "    city[i]=city[i].split('/')[0].strip()\n",
    "    dic = {}\n",
    "for item in city:\n",
    "    if dic.get(item, 0) == 0:\n",
    "        dic[item] = 1\n",
    "    else:\n",
    "        dic[item] += 1\n",
    "lists = sorted(((v, k) for k, v in dic.items()), reverse=True)\n",
    "x, y = zip(*lists[:10])\n",
    "plt.pie(x)\n",
    "plt.show()\n",
    "for (i, j) in lists[:10]:\n",
    "    print (\"{} {}\".format(j, i)) "
   ]
  },
  {
   "cell_type": "code",
   "execution_count": 4,
   "id": "a5af39c7",
   "metadata": {},
   "outputs": [
    {
     "data": {
      "text/plain": [
       "(Index(['bangalore', 'mumbai', 'new delhi', 'gurgaon', 'pune', 'noida',\n",
       "        'hyderabad', 'chennai', 'ahmedabad', 'jaipur', 'kolkata', 'chandigarh',\n",
       "        'vadodara', 'indore', 'goa', 'singapore', 'kanpur', 'pune / us',\n",
       "        'delhi', 'coimbatore', 'bhopal', 'bangalore/ bangkok', 'gwalior',\n",
       "        'new delhi / us', 'siliguri', 'kochi', 'bangalore / sfo', 'agra',\n",
       "        'trivandrum', 'udupi', 'hubli', 'mumbai / global', 'pune / dubai',\n",
       "        'karur', 'new delhi/ houston', 'sfo / bangalore', 'udaipur', 'lucknow',\n",
       "        'nagpur', 'usa', 'goa/hyderabad', 'belgaum', 'dallas / hyderabad',\n",
       "        'new york/ india', 'india / us', 'noida / singapore',\n",
       "        'bangalore / san mateo', 'kozhikode', 'jodhpur', 'pune/seattle',\n",
       "        'hyderabad/usa', 'bangalore / usa', 'boston', 'seattle / bangalore',\n",
       "        'chennai/ singapore', 'us/india', 'us', 'mumbai / uk', 'london',\n",
       "        'kerala', 'usa/india', 'panaji', 'surat', 'varanasi', 'missourie',\n",
       "        'mumbai / ny', 'gurgaon / sfo', 'bangalore / palo alto',\n",
       "        'new delhi / california', 'pune / singapore'],\n",
       "       dtype='object'),\n",
       " array([628, 446, 381, 240,  84,  78,  76,  66,  35,  25,  19,  10,   9,\n",
       "          9,   7,   5,   4,   4,   4,   3,   2,   2,   2,   2,   2,   2,\n",
       "          2,   2,   2,   2,   1,   1,   1,   1,   1,   1,   1,   1,   1,\n",
       "          1,   1,   1,   1,   1,   1,   1,   1,   1,   1,   1,   1,   1,\n",
       "          1,   1,   1,   1,   1,   1,   1,   1,   1,   1,   1,   1,   1,\n",
       "          1,   1,   1,   1,   1], dtype=int64))"
      ]
     },
     "execution_count": 4,
     "metadata": {},
     "output_type": "execute_result"
    }
   ],
   "source": [
    "#############################################################\n",
    "df=pd.read_csv('startup_funding.csv')\n",
    "df[\"CityLocation\"]=df[\"CityLocation\"].str.lower()\n",
    "freq=df[\"CityLocation\"].value_counts()\n",
    "city=freq.index\n",
    "count=freq.values\n",
    "city,count\n",
    "# ct=[]\n",
    "# co=[]\n",
    "# for i in range(10):\n",
    "#     ct.append(city[i])\n",
    "#     co.append(count[i])\n",
    "#     print(city[i],count[i])\n",
    "# plt.pie(co,labels=ct,autopct=\"%.2f\")\n",
    "# plt.show()\n",
    "\n",
    "\n"
   ]
  },
  {
   "cell_type": "code",
   "execution_count": 5,
   "id": "b51eef96",
   "metadata": {},
   "outputs": [
    {
     "data": {
      "image/png": "[encoded data removed]",
      "text/plain": [
       "<Figure size 432x288 with 1 Axes>"
      ]
     },
     "metadata": {},
     "output_type": "display_data"
    },
    {
     "name": "stdout",
     "output_type": "stream",
     "text": [
      "Bangalore 49.71\n",
      "New Delhi 16.63\n",
      "Mumbai 13.90\n",
      "Gurgaon 12.21\n",
      "Chennai 2.43\n",
      "Pune 2.16\n",
      "Hyderabad 1.15\n",
      "Noida 1.01\n",
      "Ahmedabad 0.58\n",
      "Jaipur 0.21\n"
     ]
    }
   ],
   "source": [
    "##################################################################################################\n",
    "import pandas as pd\n",
    "df=pd.read_csv('startup_funding.csv')\n",
    "df[\"AmountInUSD\"].fillna(0,inplace=True)\n",
    "df['CityLocation'].dropna(inplace=True)\n",
    "amount=df[\"AmountInUSD\"]\n",
    "amount=np.array(amount,dtype=str)\n",
    "#amount=amount[amount!='nan']\n",
    "for i in range (len(amount)):\n",
    "    amount[i]=amount[i].replace(',','')\n",
    "#amount=np.array(amount,dtype=float)\n",
    "df = pd.read_csv(\"startup_funding.csv\")\n",
    "city = df['CityLocation']\n",
    "city = np.array(city, dtype = str)\n",
    "#city=city[city != 'nan']\n",
    "#amount=amount[amount!='nan']\n",
    "for i in range(len(city)):\n",
    "    if 'bangalore' in city[i]:\n",
    "        city[i] = 'Bangalore'\n",
    "    if 'Delhi' in city[i]:\n",
    "        city[i] = 'New Delhi'\n",
    "for i in range(len(city)) :\n",
    "    city[i]=city[i].split('/')[0].strip()\n",
    "d={}\n",
    "for i in range(len(amount)):\n",
    "    if city[i]!='nan':\n",
    "        am=int(amount[i])\n",
    "        d[city[i]]=d.get(city[i],0)+am\n",
    "lists = sorted(((v, k) for k, v in d.items()), reverse=True)\n",
    "x, y = zip(*lists[:10])\n",
    "plt.pie(x,labels=y,autopct='%.2f')\n",
    "plt.show()\n",
    "total=sum(x)\n",
    "for i in range(10):\n",
    "    per=(x[i]/total)*100\n",
    "    print(y[i],format(per,\".2f\"))"
   ]
  },
  {
   "cell_type": "code",
   "execution_count": 6,
   "id": "6ac1ad74",
   "metadata": {},
   "outputs": [
    {
     "data": {
      "text/plain": [
       "'1300000'"
      ]
     },
     "execution_count": 6,
     "metadata": {},
     "output_type": "execute_result"
    }
   ],
   "source": [
    "a='1,300,000'\n",
    "a=a.replace(',','')\n",
    "a"
   ]
  },
  {
   "cell_type": "code",
   "execution_count": null,
   "id": "cbb445c2",
   "metadata": {},
   "outputs": [],
   "source": []
  },
  {
   "cell_type": "code",
   "execution_count": null,
   "id": "feeebcc7",
   "metadata": {},
   "outputs": [],
   "source": []
  },
  {
   "cell_type": "code",
   "execution_count": null,
   "id": "8cbb9187",
   "metadata": {},
   "outputs": [],
   "source": []
  },
  {
   "cell_type": "code",
   "execution_count": null,
   "id": "5fefdce3",
   "metadata": {},
   "outputs": [],
   "source": []
  },
  {
   "cell_type": "code",
   "execution_count": 7,
   "id": "1ee9e62e",
   "metadata": {},
   "outputs": [],
   "source": [
    "######################################################\n",
    "import pandas as pd\n",
    "import numpy as np\n",
    "import matplotlib.pyplot as plt"
   ]
  },
  {
   "cell_type": "code",
   "execution_count": 8,
   "id": "9a9052fc",
   "metadata": {},
   "outputs": [
    {
     "name": "stdout",
     "output_type": "stream",
     "text": [
      "Bangalore 46.33\n",
      "New Delhi 15.50\n",
      "Mumbai 12.95\n",
      "Gurgaon 11.38\n",
      "nan 7.00\n",
      "Chennai 2.26\n",
      "Pune 2.02\n",
      "Hyderabad 1.07\n",
      "Noida 0.94\n",
      "Ahmedabad 0.54\n"
     ]
    }
   ],
   "source": [
    "df=pd.read_csv('startup_funding.csv',encoding='utf-8')\n",
    "#remove nan from city\n",
    "df['CityLocation'].dropna(inplace=True)\n",
    "#changing city name from bangalore to Bangalore and delhi to New Delhi\n",
    "df['CityLocation'].replace('bangalore','Bangalore',inplace=True)\n",
    "df['CityLocation'].replace('Delhi','New Delhi',inplace=True)\n",
    "\n",
    "#remove , from amount\n",
    "df['AmountInUSD']=df['AmountInUSD'].apply(lambda x:float(str(x).replace(',','')))\n",
    "pd.to_numeric(df['AmountInUSD'])\n",
    "\n",
    "\n",
    "#remove / b/w cities and left and right spaces\n",
    "def remSpace(city):\n",
    "    return str(city).split('/')[0].strip()\n",
    "    \n",
    "df['CityLocation']=df['CityLocation'].apply(remSpace)\n",
    "\n",
    "\n",
    "\n",
    "#geting 2d list\n",
    "city_amount=df.groupby('CityLocation')['AmountInUSD'].sum().sort_values(ascending=False)[:10]\n",
    "\n",
    "\n",
    "#using 2 seperate list\n",
    "city=city_amount.index \n",
    "amountCity=city_amount.values \n",
    "perAmount=np.true_divide(amountCity, amountCity.sum())*100 \n",
    "for i in range(len(city)): \n",
    "    print(city[i],format(perAmount[i],'.2f'))\n",
    "\n",
    "\n",
    "\n"
   ]
  },
  {
   "cell_type": "code",
   "execution_count": 9,
   "id": "7130d969",
   "metadata": {},
   "outputs": [
    {
     "name": "stdout",
     "output_type": "stream",
     "text": [
      "Bangalore 46.33\n",
      "New Delhi 15.50\n",
      "Mumbai 12.95\n",
      "Gurgaon 11.38\n",
      "nan 7.00\n",
      "Chennai 2.26\n",
      "Pune 2.02\n",
      "Hyderabad 1.07\n",
      "Noida 0.94\n",
      "Ahmedabad 0.54\n"
     ]
    },
    {
     "data": {
      "text/plain": [
       "array(['Bangalore', 'Mumbai', 'New Delhi', 'Hyderabad', 'Ahmedabad',\n",
       "       'Gurgaon', 'Noida', 'Pune', 'Kolkata', 'Trivandrum', 'Chennai',\n",
       "       'Chandigarh', 'Jaipur', 'Vadodara', 'Surat', 'Missourie', 'Panaji',\n",
       "       'Gwalior', 'Karur', 'Udupi', 'Kochi', 'Indore', 'Singapore', 'Goa',\n",
       "       'Agra', 'Hubli', 'Kerala', 'Kozhikode', 'US', 'Coimbatore',\n",
       "       'Siliguri', 'nan', 'USA', 'Lucknow', 'Kanpur', 'SFO', 'London',\n",
       "       'Seattle', 'Varanasi', 'Bhopal', 'Jodhpur', 'Boston', 'Belgaum',\n",
       "       'New York', 'Nagpur', 'India', 'Udaipur', 'Dallas'], dtype=object)"
      ]
     },
     "execution_count": 9,
     "metadata": {},
     "output_type": "execute_result"
    }
   ],
   "source": [
    "import pandas as pd \n",
    "import numpy as np \n",
    "df_start=pd.read_csv('startup_funding.csv',encoding='utf-8') \n",
    "df_start['CityLocation'].dropna(inplace=True) \n",
    "def separateCity(city): \n",
    "    return str(city).split('/')[0].strip() \n",
    "df_start['CityLocation']=df_start['CityLocation'].apply(separateCity) \n",
    "df_start['CityLocation'].replace(\"Delhi\",\"New Delhi\",inplace=True) \n",
    "df_start['CityLocation'].replace(\"bangalore\",\"Bangalore\",inplace=True) \n",
    "## Converting \"AmountInUSD\" into numeric format \n",
    "df_start[\"AmountInUSD\"] = df_start[\"AmountInUSD\"].apply(lambda x: float(str(x).replace(\",\",\"\"))) \n",
    "df_start[\"AmountInUSD\"] = pd.to_numeric(df_start[\"AmountInUSD\"]) \n",
    "city_amount=df_start.groupby('CityLocation')['AmountInUSD'].sum().sort_values(ascending=False)[0:10] \n",
    "city=city_amount.index \n",
    "amountCity=city_amount.values \n",
    "perAmount=np.true_divide(amountCity, amountCity.sum())*100 \n",
    "for i in range(len(city)): \n",
    "    print(city[i],format(perAmount[i],'.2f'))\n",
    "uq=df['CityLocation'].unique()\n",
    "uq"
   ]
  },
  {
   "cell_type": "code",
   "execution_count": 10,
   "id": "0e0b1f83",
   "metadata": {},
   "outputs": [],
   "source": [
    "################################################################################################\n",
    "import pandas as pd\n",
    "import numpy as np\n",
    "import matplotlib.pyplot as plt"
   ]
  },
  {
   "cell_type": "code",
   "execution_count": 11,
   "id": "e04dff9d",
   "metadata": {},
   "outputs": [
    {
     "name": "stdout",
     "output_type": "stream",
     "text": [
      "Private Equity   98.15\n",
      "Seed Funding   1.81\n",
      "Debt Funding   0.04\n",
      "Crowd Funding   0.00\n"
     ]
    },
    {
     "data": {
      "image/png": "[encoded data removed]",
      "text/plain": [
       "<Figure size 432x288 with 1 Axes>"
      ]
     },
     "metadata": {},
     "output_type": "display_data"
    }
   ],
   "source": [
    "df=pd.read_csv('startup_funding.csv')\n",
    "#df['InvestmentType'].replace(np.nan,np.nan,inplace=True)\n",
    "df['InvestmentType'].dropna(inplace=True)\n",
    "df['AmountInUSD'].fillna(0,inplace=True)\n",
    "df['InvestmentType'].replace(\"PrivateEquity\",\"Private Equity\",inplace=True)\n",
    "df['InvestmentType'].replace(\"SeedFunding\",\"Seed Funding\",inplace=True)\n",
    "df['InvestmentType'].replace(\"DebtFunding\",\"Debt Funding\",inplace=True)\n",
    "df['InvestmentType'].replace(\"Crowd funding\",\"Crowd Funding\",inplace=True)\n",
    "uq=df['InvestmentType'].unique()\n",
    "df['AmountInUSD']=df['AmountInUSD'].apply(lambda x:float(str(x).replace(',','')))\n",
    "pd.to_numeric(df['AmountInUSD'])\n",
    "\n",
    "inv_amount=df.groupby('InvestmentType')[\"AmountInUSD\"].sum().sort_values(ascending=False)[:]\n",
    "invest=inv_amount.index\n",
    "amount=inv_amount.values\n",
    "percent=[]\n",
    "for i in range(4):\n",
    "    percent.append(np.true_divide(amount[i],sum(amount))*100)\n",
    "    print(invest[i],\" \",format(percent[i],\".2f\"))\n",
    "plt.pie(percent,labels=invest)\n",
    "plt.show()\n",
    "\n",
    "\n",
    "    "
   ]
  },
  {
   "cell_type": "code",
   "execution_count": 12,
   "id": "514bfaec",
   "metadata": {},
   "outputs": [
    {
     "name": "stdout",
     "output_type": "stream",
     "text": [
      "Ecommerce   40.53\n",
      "Consumer Internet   35.95\n",
      "Technology   10.45\n",
      "Online Marketplace   6.63\n",
      "E-Commerce & M-Commerce platform   6.44\n"
     ]
    },
    {
     "data": {
      "image/png": "[encoded data removed]",
      "text/plain": [
       "<Figure size 432x288 with 1 Axes>"
      ]
     },
     "metadata": {},
     "output_type": "display_data"
    }
   ],
   "source": [
    "######################################################################\n",
    "df=pd.read_csv('startup_funding.csv')\n",
    "df['AmountInUSD'].fillna(0,inplace=True)\n",
    "df['IndustryVertical'].dropna(inplace=True)\n",
    "df['IndustryVertical'].replace('ecommerce','Ecommerce',inplace=True)\n",
    "df['IndustryVertical'].replace('eCommerce','Ecommerce',inplace=True)\n",
    "df['IndustryVertical'].replace('ECommerce','Ecommerce',inplace=True)\n",
    "uq=df['IndustryVertical'].unique()\n",
    "df['AmountInUSD']=df['AmountInUSD'].apply(lambda x:float(str(x).replace(',','')))\n",
    "pd.to_numeric(df['AmountInUSD'])\n",
    "ind_amount=df.groupby('IndustryVertical')['AmountInUSD'].sum().sort_values(ascending=False)[:5]\n",
    "industry=ind_amount.index\n",
    "amount=ind_amount.values\n",
    "per_amount=np.true_divide(amount,amount.sum())*100\n",
    "for i in range(5):\n",
    "    print(industry[i],\" \",format(per_amount[i],\".2f\"))\n",
    "plt.pie(per_amount,labels=industry,autopct=\"%.2f%%\")\n",
    "plt.show()"
   ]
  },
  {
   "cell_type": "code",
   "execution_count": 54,
   "id": "3b348c33",
   "metadata": {},
   "outputs": [
    {
     "name": "stdout",
     "output_type": "stream",
     "text": [
      "Paytm\n",
      "Flipkart\n",
      "Ola\n",
      "Snapdeal\n",
      "Oyo\n"
     ]
    }
   ],
   "source": [
    "################################################################################\n",
    "df=pd.read_csv('startup_funding.csv')\n",
    "df['StartupName'].replace('Flipkart.com','Flipkart',inplace=True)\n",
    "df['StartupName'].replace('Ola Cabs','Ola',inplace=True)\n",
    "df['StartupName'].replace('Olacabs','Ola',inplace=True)\n",
    "df['StartupName'].replace('Oyo Rooms','Oyo',inplace=True)\n",
    "df['StartupName'] = df['StartupName'].replace('Oyorooms', 'Oyo')\n",
    "df['StartupName'] = df['StartupName'].replace('OyoRooms', 'Oyo')\n",
    "df['StartupName'] = df['StartupName'].replace('OYO Rooms', 'Oyo')\n",
    "\n",
    "df['StartupName'].replace('Paytm Marketplace','Paytm',inplace=True)\n",
    "\n",
    "df['AmountInUSD']=df['AmountInUSD'].apply(lambda x:float(str(x).replace(',','')))\n",
    "group=df.groupby('StartupName')['AmountInUSD'].sum().sort_values(ascending=False)[:5]\n",
    "startup=group.index\n",
    "for i in range(5):\n",
    "    print(startup[i])"
   ]
  },
  {
   "cell_type": "code",
   "execution_count": 55,
   "id": "5857a59b",
   "metadata": {},
   "outputs": [
    {
     "name": "stdout",
     "output_type": "stream",
     "text": [
      "Ola   9\n",
      "Swiggy   7\n",
      "Oyo   6\n",
      "UrbanClap   6\n",
      "Paytm   6\n"
     ]
    }
   ],
   "source": [
    "############################################################################################\n",
    "df=pd.read_csv('startup_funding.csv')\n",
    "df['StartupName'].replace('Flipkart.com','Flipkart',inplace=True)\n",
    "df['StartupName'].replace('Ola Cabs','Ola',inplace=True)\n",
    "df['StartupName'].replace('Olacabs','Ola',inplace=True)\n",
    "df['StartupName'].replace('Oyo Rooms','Oyo',inplace=True)\n",
    "df['StartupName'] = df['StartupName'].replace('Oyorooms', 'Oyo')\n",
    "df['StartupName'] = df['StartupName'].replace('OyoRooms', 'Oyo')\n",
    "df['StartupName'] = df['StartupName'].replace('OYO Rooms', 'Oyo')\n",
    "\n",
    "df['StartupName'].replace('Paytm Marketplace','Paytm',inplace=True)\n",
    "val_count=df['StartupName'].value_counts()[:5]\n",
    "startup=val_count.index\n",
    "times=val_count.values\n",
    "for i in range(5):\n",
    "    print(startup[i],\" \",times[i])\n"
   ]
  },
  {
   "cell_type": "code",
   "execution_count": 92,
   "id": "b2195423",
   "metadata": {},
   "outputs": [
    {
     "name": "stdout",
     "output_type": "stream",
     "text": [
      "Sequoia Capital 64\n"
     ]
    }
   ],
   "source": [
    "#########################################################################\n",
    "df=pd.read_csv('startup_funding.csv')\n",
    "d={}\n",
    "def seperate(investor):\n",
    "    investor=str(investor).split(',')\n",
    "    l=[]\n",
    "    for i in investor:\n",
    "        l.append(i.strip())\n",
    "    for i in l:\n",
    "        d[i]=d.get(i,0)+1\n",
    "    \n",
    "df['InvestorsName']=df['InvestorsName'].apply(seperate)\n",
    "lists = sorted(((v, k) for k, v in d.items()), reverse=True)\n",
    "print(lists[:1][0][1],lists[:1][0][0])"
   ]
  },
  {
   "cell_type": "code",
   "execution_count": null,
   "id": "742d2e39",
   "metadata": {},
   "outputs": [],
   "source": []
  },
  {
   "cell_type": "code",
   "execution_count": null,
   "id": "7ad8f57a",
   "metadata": {},
   "outputs": [],
   "source": []
  }
 ],
 "metadata": {
  "kernelspec": {
   "display_name": "Python 3",
   "language": "python",
   "name": "python3"
  },
  "language_info": {
   "codemirror_mode": {
    "name": "ipython",
    "version": 3
   },
   "file_extension": ".py",
   "mimetype": "text/x-python",
   "name": "python",
   "nbconvert_exporter": "python",
   "pygments_lexer": "ipython3",
   "version": "3.8.8"
  }
 },
 "nbformat": 4,
 "nbformat_minor": 5
}
