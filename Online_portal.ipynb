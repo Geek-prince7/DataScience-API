{
 "cells": [
  {
   "cell_type": "code",
   "execution_count": 1,
   "id": "c8a38d33",
   "metadata": {},
   "outputs": [],
   "source": [
    "from selenium import webdriver"
   ]
  },
  {
   "cell_type": "code",
   "execution_count": 2,
   "id": "a4f447b3",
   "metadata": {},
   "outputs": [
    {
     "name": "stderr",
     "output_type": "stream",
     "text": [
      "\n",
      "\n",
      "====== WebDriver manager ======\n",
      "Could not get version for google-chrome with the any command: reg query \"HKEY_CURRENT_USER\\Software\\Google\\Chrome\\BLBeacon\" /v version\n",
      "Current google-chrome version is UNKNOWN\n",
      "Get LATEST chromedriver version for UNKNOWN google-chrome\n",
      "There is no [win32] chromedriver for browser  in cache\n",
      "Trying to download new driver from https://chromedriver.storage.googleapis.com/99.0.4844.51/chromedriver_win32.zip\n",
      "Driver has been saved in cache [C:\\Users\\user\\.wdm\\drivers\\chromedriver\\win32\\99.0.4844.51]\n",
      "<ipython-input-2-e70b83ee9561>:2: DeprecationWarning: executable_path has been deprecated, please pass in a Service object\n",
      "  driver = webdriver.Chrome(ChromeDriverManager().install())\n"
     ]
    }
   ],
   "source": [
    "from webdriver_manager.chrome import ChromeDriverManager\n",
    "driver = webdriver.Chrome(ChromeDriverManager().install())"
   ]
  },
  {
   "cell_type": "code",
   "execution_count": 3,
   "id": "a5ad786b",
   "metadata": {},
   "outputs": [],
   "source": [
    "driver.get('https://www.instagram.com')"
   ]
  },
  {
   "cell_type": "code",
   "execution_count": 4,
   "id": "e38920c7",
   "metadata": {},
   "outputs": [],
   "source": [
    "import time\n",
    "from selenium.webdriver.support.ui import WebDriverWait\n",
    "from selenium.webdriver.support import expected_conditions as EC\n",
    "from selenium.webdriver.common.by import By\n"
   ]
  },
  {
   "cell_type": "code",
   "execution_count": 5,
   "id": "f91a2943",
   "metadata": {},
   "outputs": [
    {
     "name": "stderr",
     "output_type": "stream",
     "text": [
      "<ipython-input-5-a07d596dbc24>:4: DeprecationWarning: find_element_by_* commands are deprecated. Please use find_element() instead\n",
      "  pwd_box=driver.find_element_by_name('password')\n"
     ]
    }
   ],
   "source": [
    "driver.get('https://www.instagram.com/')\n",
    "wait=WebDriverWait(driver,10)\n",
    "name_box=wait.until(EC.presence_of_element_located((By.NAME,\"username\")))\n",
    "pwd_box=driver.find_element_by_name('password')"
   ]
  },
  {
   "cell_type": "code",
   "execution_count": 6,
   "id": "3804b409",
   "metadata": {},
   "outputs": [
    {
     "name": "stderr",
     "output_type": "stream",
     "text": [
      "<ipython-input-6-5b8b7ace55f4>:1: DeprecationWarning: find_element_by_* commands are deprecated. Please use find_element() instead\n",
      "  login=driver.find_element_by_xpath('//button[@type=\"submit\"]/div')\n"
     ]
    }
   ],
   "source": [
    "login=driver.find_element_by_xpath('//button[@type=\"submit\"]/div')\n",
    "time.sleep(5)  ## here time in second "
   ]
  },
  {
   "cell_type": "code",
   "execution_count": 7,
   "id": "d033c9e3",
   "metadata": {},
   "outputs": [],
   "source": [
    "name_box.send_keys('hustler_0903')\n",
    "pwd_box.send_keys('Bittu@2019')\n",
    "login.click()\n",
    "time.sleep(3)"
   ]
  },
  {
   "cell_type": "code",
   "execution_count": 8,
   "id": "fe306255",
   "metadata": {},
   "outputs": [
    {
     "name": "stderr",
     "output_type": "stream",
     "text": [
      "<ipython-input-8-9ff78de9a0ac>:1: DeprecationWarning: find_element_by_* commands are deprecated. Please use find_element() instead\n",
      "  not_nw=driver.find_element_by_xpath('//div[@class=\"cmbtv\"]/button[@type=\"button\"]')\n"
     ]
    }
   ],
   "source": [
    "not_nw=driver.find_element_by_xpath('//div[@class=\"cmbtv\"]/button[@type=\"button\"]')\n",
    "not_nw.click()\n",
    "time.sleep(3)"
   ]
  },
  {
   "cell_type": "code",
   "execution_count": 9,
   "id": "f05de886",
   "metadata": {},
   "outputs": [
    {
     "name": "stderr",
     "output_type": "stream",
     "text": [
      "<ipython-input-9-e8ee5413925d>:1: DeprecationWarning: find_elements_by_* commands are deprecated. Please use find_elements() instead\n",
      "  cancel_btn=driver.find_elements_by_xpath('//div[@class=\"mt3GC\"]/button')\n"
     ]
    }
   ],
   "source": [
    "cancel_btn=driver.find_elements_by_xpath('//div[@class=\"mt3GC\"]/button')\n",
    "cancel_btn[1].click()\n",
    "time.sleep(3)"
   ]
  },
  {
   "cell_type": "code",
   "execution_count": 10,
   "id": "0d303e12",
   "metadata": {},
   "outputs": [
    {
     "name": "stderr",
     "output_type": "stream",
     "text": [
      "<ipython-input-10-005d0d6b69b0>:1: DeprecationWarning: find_element_by_* commands are deprecated. Please use find_element() instead\n",
      "  search_bar=driver.find_element_by_xpath('//div[@class=\"MWDvN\"]/div[contains(@class,\" QY4Ed\")]/input')\n"
     ]
    }
   ],
   "source": [
    "search_bar=driver.find_element_by_xpath('//div[@class=\"MWDvN\"]/div[contains(@class,\" QY4Ed\")]/input')\n"
   ]
  },
  {
   "cell_type": "code",
   "execution_count": 12,
   "id": "ce6c1dad",
   "metadata": {},
   "outputs": [
    {
     "data": {
      "text/plain": [
       "'<input aria-label=\"Search Input\" autocapitalize=\"none\" class=\"XTCLo  d_djL  DljaH \" placeholder=\"Search\" type=\"text\" value=\"\">'"
      ]
     },
     "execution_count": 12,
     "metadata": {},
     "output_type": "execute_result"
    }
   ],
   "source": [
    "search_bar.get_attribute('outerHTML')"
   ]
  },
  {
   "cell_type": "code",
   "execution_count": 11,
   "id": "feb75026",
   "metadata": {},
   "outputs": [],
   "source": [
    "search_bar.send_keys('shopping')"
   ]
  },
  {
   "cell_type": "code",
   "execution_count": 14,
   "id": "54ce61d3",
   "metadata": {},
   "outputs": [],
   "source": [
    "#submit=driver.find_element_by_xpath('//div[@class=\"MWDvN\"]/div[contains(@class,\" QY4Ed\")]//div[@class=\"_01UL2\"]')"
   ]
  },
  {
   "cell_type": "code",
   "execution_count": 12,
   "id": "f14938f0",
   "metadata": {},
   "outputs": [
    {
     "name": "stderr",
     "output_type": "stream",
     "text": [
      "<ipython-input-12-b962963d9abe>:1: DeprecationWarning: find_elements_by_* commands are deprecated. Please use find_elements() instead\n",
      "  scroller=driver.find_elements_by_xpath('//div[@class=\"_01UL2\"]/div[@class=\"fuqBx \"]/div')\n"
     ]
    }
   ],
   "source": [
    "scroller=driver.find_elements_by_xpath('//div[@class=\"_01UL2\"]/div[@class=\"fuqBx \"]/div')"
   ]
  },
  {
   "cell_type": "code",
   "execution_count": 13,
   "id": "070fc7c5",
   "metadata": {},
   "outputs": [],
   "source": [
    "#scroller[0].get_attribute('outerHTML')"
   ]
  },
  {
   "cell_type": "code",
   "execution_count": 14,
   "id": "0f608533",
   "metadata": {},
   "outputs": [],
   "source": [
    "list_names=list()"
   ]
  },
  {
   "cell_type": "code",
   "execution_count": 15,
   "id": "d96399bd",
   "metadata": {},
   "outputs": [
    {
     "name": "stderr",
     "output_type": "stream",
     "text": [
      "<ipython-input-15-8fdb9d4b7e7c>:6: DeprecationWarning: find_element_by_* commands are deprecated. Please use find_element() instead\n",
      "  search_bar=driver.find_element_by_xpath('//div[@class=\"MWDvN\"]/div[contains(@class,\" QY4Ed\")]/input')\n",
      "<ipython-input-15-8fdb9d4b7e7c>:9: DeprecationWarning: find_elements_by_* commands are deprecated. Please use find_elements() instead\n",
      "  scroller=driver.find_elements_by_xpath('//div[@class=\"_01UL2\"]/div[@class=\"fuqBx \"]/div')\n",
      "<ipython-input-15-8fdb9d4b7e7c>:12: DeprecationWarning: find_elements_by_* commands are deprecated. Please use find_elements() instead\n",
      "  follower_btn=driver.find_elements_by_xpath('//ul[@class=\"k9GMp \"]/li[@class=\"Y8-fY \"]')\n",
      "C:\\Users\\user\\anaconda3\\lib\\site-packages\\selenium\\webdriver\\remote\\webelement.py:341: UserWarning: find_element_by_* commands are deprecated. Please use find_element() instead\n",
      "  warnings.warn(\"find_element_by_* commands are deprecated. Please use find_element() instead\")\n",
      "<ipython-input-15-8fdb9d4b7e7c>:17: DeprecationWarning: find_element_by_* commands are deprecated. Please use find_element() instead\n",
      "  scrollers=driver.find_element_by_xpath('//div[@class=\"_1XyCr  \"]//div[@class=\"isgrP\"]')\n",
      "<ipython-input-15-8fdb9d4b7e7c>:27: DeprecationWarning: find_elements_by_* commands are deprecated. Please use find_elements() instead\n",
      "  followers=driver.find_elements_by_xpath('//div[@class=\"_1XyCr  \"]//div[@class=\"isgrP\"]//li[@class=\"wo9IH\"]')\n"
     ]
    },
    {
     "ename": "NoSuchElementException",
     "evalue": "Message: no such element: Unable to locate element: {\"method\":\"xpath\",\"selector\":\"//div[@class=\"MWDvN\"]/div[contains(@class,\" QY4Ed\")]/input\"}\n  (Session info: chrome=99.0.4844.51)\nStacktrace:\nBacktrace:\n\tOrdinal0 [0x00FA9943+2595139]\n\tOrdinal0 [0x00F3C9F1+2148849]\n\tOrdinal0 [0x00E34528+1066280]\n\tOrdinal0 [0x00E60FD4+1249236]\n\tOrdinal0 [0x00E611CB+1249739]\n\tOrdinal0 [0x00E8D812+1431570]\n\tOrdinal0 [0x00E7BA34+1358388]\n\tOrdinal0 [0x00E8BAF2+1424114]\n\tOrdinal0 [0x00E7B806+1357830]\n\tOrdinal0 [0x00E56086+1204358]\n\tOrdinal0 [0x00E56F96+1208214]\n\tGetHandleVerifier [0x0114B232+1658114]\n\tGetHandleVerifier [0x0120312C+2411516]\n\tGetHandleVerifier [0x0103F261+560433]\n\tGetHandleVerifier [0x0103E366+556598]\n\tOrdinal0 [0x00F4286B+2173035]\n\tOrdinal0 [0x00F475F8+2192888]\n\tOrdinal0 [0x00F476E5+2193125]\n\tOrdinal0 [0x00F511FC+2232828]\n\tBaseThreadInitThunk [0x7681FA29+25]\n\tRtlGetAppContainerNamedObjectPath [0x77327A9E+286]\n\tRtlGetAppContainerNamedObjectPath [0x77327A6E+238]\n",
     "output_type": "error",
     "traceback": [
      "\u001b[1;31m---------------------------------------------------------------------------\u001b[0m",
      "\u001b[1;31mNoSuchElementException\u001b[0m                    Traceback (most recent call last)",
      "\u001b[1;32m<ipython-input-15-8fdb9d4b7e7c>\u001b[0m in \u001b[0;36m<module>\u001b[1;34m\u001b[0m\n\u001b[0;32m      4\u001b[0m \u001b[1;31m#scroller[0].click()\u001b[0m\u001b[1;33m\u001b[0m\u001b[1;33m\u001b[0m\u001b[1;33m\u001b[0m\u001b[0m\n\u001b[0;32m      5\u001b[0m \u001b[1;32mfor\u001b[0m \u001b[0mj\u001b[0m \u001b[1;32min\u001b[0m \u001b[0mrange\u001b[0m\u001b[1;33m(\u001b[0m\u001b[1;36m4\u001b[0m\u001b[1;33m,\u001b[0m\u001b[0mlength\u001b[0m\u001b[1;33m,\u001b[0m\u001b[1;36m1\u001b[0m\u001b[1;33m)\u001b[0m\u001b[1;33m:\u001b[0m\u001b[1;33m\u001b[0m\u001b[1;33m\u001b[0m\u001b[0m\n\u001b[1;32m----> 6\u001b[1;33m     \u001b[0msearch_bar\u001b[0m\u001b[1;33m=\u001b[0m\u001b[0mdriver\u001b[0m\u001b[1;33m.\u001b[0m\u001b[0mfind_element_by_xpath\u001b[0m\u001b[1;33m(\u001b[0m\u001b[1;34m'//div[@class=\"MWDvN\"]/div[contains(@class,\" QY4Ed\")]/input'\u001b[0m\u001b[1;33m)\u001b[0m\u001b[1;33m\u001b[0m\u001b[1;33m\u001b[0m\u001b[0m\n\u001b[0m\u001b[0;32m      7\u001b[0m     \u001b[0msearch_bar\u001b[0m\u001b[1;33m.\u001b[0m\u001b[0msend_keys\u001b[0m\u001b[1;33m(\u001b[0m\u001b[1;34m'shopping'\u001b[0m\u001b[1;33m)\u001b[0m\u001b[1;33m\u001b[0m\u001b[1;33m\u001b[0m\u001b[0m\n\u001b[0;32m      8\u001b[0m     \u001b[0mtime\u001b[0m\u001b[1;33m.\u001b[0m\u001b[0msleep\u001b[0m\u001b[1;33m(\u001b[0m\u001b[1;36m2\u001b[0m\u001b[1;33m)\u001b[0m\u001b[1;33m\u001b[0m\u001b[1;33m\u001b[0m\u001b[0m\n",
      "\u001b[1;32m~\\anaconda3\\lib\\site-packages\\selenium\\webdriver\\remote\\webdriver.py\u001b[0m in \u001b[0;36mfind_element_by_xpath\u001b[1;34m(self, xpath)\u001b[0m\n\u001b[0;32m    518\u001b[0m             \u001b[0mstacklevel\u001b[0m\u001b[1;33m=\u001b[0m\u001b[1;36m2\u001b[0m\u001b[1;33m,\u001b[0m\u001b[1;33m\u001b[0m\u001b[1;33m\u001b[0m\u001b[0m\n\u001b[0;32m    519\u001b[0m         )\n\u001b[1;32m--> 520\u001b[1;33m         \u001b[1;32mreturn\u001b[0m \u001b[0mself\u001b[0m\u001b[1;33m.\u001b[0m\u001b[0mfind_element\u001b[0m\u001b[1;33m(\u001b[0m\u001b[0mby\u001b[0m\u001b[1;33m=\u001b[0m\u001b[0mBy\u001b[0m\u001b[1;33m.\u001b[0m\u001b[0mXPATH\u001b[0m\u001b[1;33m,\u001b[0m \u001b[0mvalue\u001b[0m\u001b[1;33m=\u001b[0m\u001b[0mxpath\u001b[0m\u001b[1;33m)\u001b[0m\u001b[1;33m\u001b[0m\u001b[1;33m\u001b[0m\u001b[0m\n\u001b[0m\u001b[0;32m    521\u001b[0m \u001b[1;33m\u001b[0m\u001b[0m\n\u001b[0;32m    522\u001b[0m     \u001b[1;32mdef\u001b[0m \u001b[0mfind_elements_by_xpath\u001b[0m\u001b[1;33m(\u001b[0m\u001b[0mself\u001b[0m\u001b[1;33m,\u001b[0m \u001b[0mxpath\u001b[0m\u001b[1;33m)\u001b[0m \u001b[1;33m->\u001b[0m \u001b[0mWebElement\u001b[0m\u001b[1;33m:\u001b[0m\u001b[1;33m\u001b[0m\u001b[1;33m\u001b[0m\u001b[0m\n",
      "\u001b[1;32m~\\anaconda3\\lib\\site-packages\\selenium\\webdriver\\remote\\webdriver.py\u001b[0m in \u001b[0;36mfind_element\u001b[1;34m(self, by, value)\u001b[0m\n\u001b[0;32m   1242\u001b[0m             \u001b[0mvalue\u001b[0m \u001b[1;33m=\u001b[0m \u001b[1;34m'[name=\"%s\"]'\u001b[0m \u001b[1;33m%\u001b[0m \u001b[0mvalue\u001b[0m\u001b[1;33m\u001b[0m\u001b[1;33m\u001b[0m\u001b[0m\n\u001b[0;32m   1243\u001b[0m \u001b[1;33m\u001b[0m\u001b[0m\n\u001b[1;32m-> 1244\u001b[1;33m         return self.execute(Command.FIND_ELEMENT, {\n\u001b[0m\u001b[0;32m   1245\u001b[0m             \u001b[1;34m'using'\u001b[0m\u001b[1;33m:\u001b[0m \u001b[0mby\u001b[0m\u001b[1;33m,\u001b[0m\u001b[1;33m\u001b[0m\u001b[1;33m\u001b[0m\u001b[0m\n\u001b[0;32m   1246\u001b[0m             'value': value})['value']\n",
      "\u001b[1;32m~\\anaconda3\\lib\\site-packages\\selenium\\webdriver\\remote\\webdriver.py\u001b[0m in \u001b[0;36mexecute\u001b[1;34m(self, driver_command, params)\u001b[0m\n\u001b[0;32m    422\u001b[0m         \u001b[0mresponse\u001b[0m \u001b[1;33m=\u001b[0m \u001b[0mself\u001b[0m\u001b[1;33m.\u001b[0m\u001b[0mcommand_executor\u001b[0m\u001b[1;33m.\u001b[0m\u001b[0mexecute\u001b[0m\u001b[1;33m(\u001b[0m\u001b[0mdriver_command\u001b[0m\u001b[1;33m,\u001b[0m \u001b[0mparams\u001b[0m\u001b[1;33m)\u001b[0m\u001b[1;33m\u001b[0m\u001b[1;33m\u001b[0m\u001b[0m\n\u001b[0;32m    423\u001b[0m         \u001b[1;32mif\u001b[0m \u001b[0mresponse\u001b[0m\u001b[1;33m:\u001b[0m\u001b[1;33m\u001b[0m\u001b[1;33m\u001b[0m\u001b[0m\n\u001b[1;32m--> 424\u001b[1;33m             \u001b[0mself\u001b[0m\u001b[1;33m.\u001b[0m\u001b[0merror_handler\u001b[0m\u001b[1;33m.\u001b[0m\u001b[0mcheck_response\u001b[0m\u001b[1;33m(\u001b[0m\u001b[0mresponse\u001b[0m\u001b[1;33m)\u001b[0m\u001b[1;33m\u001b[0m\u001b[1;33m\u001b[0m\u001b[0m\n\u001b[0m\u001b[0;32m    425\u001b[0m             response['value'] = self._unwrap_value(\n\u001b[0;32m    426\u001b[0m                 response.get('value', None))\n",
      "\u001b[1;32m~\\anaconda3\\lib\\site-packages\\selenium\\webdriver\\remote\\errorhandler.py\u001b[0m in \u001b[0;36mcheck_response\u001b[1;34m(self, response)\u001b[0m\n\u001b[0;32m    245\u001b[0m                 \u001b[0malert_text\u001b[0m \u001b[1;33m=\u001b[0m \u001b[0mvalue\u001b[0m\u001b[1;33m[\u001b[0m\u001b[1;34m'alert'\u001b[0m\u001b[1;33m]\u001b[0m\u001b[1;33m.\u001b[0m\u001b[0mget\u001b[0m\u001b[1;33m(\u001b[0m\u001b[1;34m'text'\u001b[0m\u001b[1;33m)\u001b[0m\u001b[1;33m\u001b[0m\u001b[1;33m\u001b[0m\u001b[0m\n\u001b[0;32m    246\u001b[0m             \u001b[1;32mraise\u001b[0m \u001b[0mexception_class\u001b[0m\u001b[1;33m(\u001b[0m\u001b[0mmessage\u001b[0m\u001b[1;33m,\u001b[0m \u001b[0mscreen\u001b[0m\u001b[1;33m,\u001b[0m \u001b[0mstacktrace\u001b[0m\u001b[1;33m,\u001b[0m \u001b[0malert_text\u001b[0m\u001b[1;33m)\u001b[0m  \u001b[1;31m# type: ignore[call-arg]  # mypy is not smart enough here\u001b[0m\u001b[1;33m\u001b[0m\u001b[1;33m\u001b[0m\u001b[0m\n\u001b[1;32m--> 247\u001b[1;33m         \u001b[1;32mraise\u001b[0m \u001b[0mexception_class\u001b[0m\u001b[1;33m(\u001b[0m\u001b[0mmessage\u001b[0m\u001b[1;33m,\u001b[0m \u001b[0mscreen\u001b[0m\u001b[1;33m,\u001b[0m \u001b[0mstacktrace\u001b[0m\u001b[1;33m)\u001b[0m\u001b[1;33m\u001b[0m\u001b[1;33m\u001b[0m\u001b[0m\n\u001b[0m\u001b[0;32m    248\u001b[0m \u001b[1;33m\u001b[0m\u001b[0m\n\u001b[0;32m    249\u001b[0m     \u001b[1;32mdef\u001b[0m \u001b[0m_value_or_default\u001b[0m\u001b[1;33m(\u001b[0m\u001b[0mself\u001b[0m\u001b[1;33m,\u001b[0m \u001b[0mobj\u001b[0m\u001b[1;33m:\u001b[0m \u001b[0mMapping\u001b[0m\u001b[1;33m[\u001b[0m\u001b[0m_KT\u001b[0m\u001b[1;33m,\u001b[0m \u001b[0m_VT\u001b[0m\u001b[1;33m]\u001b[0m\u001b[1;33m,\u001b[0m \u001b[0mkey\u001b[0m\u001b[1;33m:\u001b[0m \u001b[0m_KT\u001b[0m\u001b[1;33m,\u001b[0m \u001b[0mdefault\u001b[0m\u001b[1;33m:\u001b[0m \u001b[0m_VT\u001b[0m\u001b[1;33m)\u001b[0m \u001b[1;33m->\u001b[0m \u001b[0m_VT\u001b[0m\u001b[1;33m:\u001b[0m\u001b[1;33m\u001b[0m\u001b[1;33m\u001b[0m\u001b[0m\n",
      "\u001b[1;31mNoSuchElementException\u001b[0m: Message: no such element: Unable to locate element: {\"method\":\"xpath\",\"selector\":\"//div[@class=\"MWDvN\"]/div[contains(@class,\" QY4Ed\")]/input\"}\n  (Session info: chrome=99.0.4844.51)\nStacktrace:\nBacktrace:\n\tOrdinal0 [0x00FA9943+2595139]\n\tOrdinal0 [0x00F3C9F1+2148849]\n\tOrdinal0 [0x00E34528+1066280]\n\tOrdinal0 [0x00E60FD4+1249236]\n\tOrdinal0 [0x00E611CB+1249739]\n\tOrdinal0 [0x00E8D812+1431570]\n\tOrdinal0 [0x00E7BA34+1358388]\n\tOrdinal0 [0x00E8BAF2+1424114]\n\tOrdinal0 [0x00E7B806+1357830]\n\tOrdinal0 [0x00E56086+1204358]\n\tOrdinal0 [0x00E56F96+1208214]\n\tGetHandleVerifier [0x0114B232+1658114]\n\tGetHandleVerifier [0x0120312C+2411516]\n\tGetHandleVerifier [0x0103F261+560433]\n\tGetHandleVerifier [0x0103E366+556598]\n\tOrdinal0 [0x00F4286B+2173035]\n\tOrdinal0 [0x00F475F8+2192888]\n\tOrdinal0 [0x00F476E5+2193125]\n\tOrdinal0 [0x00F511FC+2232828]\n\tBaseThreadInitThunk [0x7681FA29+25]\n\tRtlGetAppContainerNamedObjectPath [0x77327A9E+286]\n\tRtlGetAppContainerNamedObjectPath [0x77327A6E+238]\n"
     ]
    }
   ],
   "source": [
    "#list_names=list()\n",
    "length=len(scroller)\n",
    "search_bar.clear()\n",
    "#scroller[0].click()\n",
    "for j in range(4,length,1):\n",
    "    search_bar=driver.find_element_by_xpath('//div[@class=\"MWDvN\"]/div[contains(@class,\" QY4Ed\")]/input')\n",
    "    search_bar.send_keys('shopping')\n",
    "    time.sleep(2)\n",
    "    scroller=driver.find_elements_by_xpath('//div[@class=\"_01UL2\"]/div[@class=\"fuqBx \"]/div')\n",
    "    scroller[j].click()\n",
    "    time.sleep(4)\n",
    "    follower_btn=driver.find_elements_by_xpath('//ul[@class=\"k9GMp \"]/li[@class=\"Y8-fY \"]')\n",
    "    time.sleep(1)\n",
    "    follower_btn=follower_btn[1]\n",
    "    follower_btn.find_element_by_tag_name('a').click()\n",
    "    time.sleep(8)\n",
    "    scrollers=driver.find_element_by_xpath('//div[@class=\"_1XyCr  \"]//div[@class=\"isgrP\"]')\n",
    "    current_height=driver.execute_script('return arguments[0].scrollHeight;',scrollers)\n",
    "    while True:\n",
    "        driver.execute_script('arguments[0].scrollTo(0,arguments[1]);',scrollers,current_height)\n",
    "        time.sleep(4)\n",
    "        new_height=driver.execute_script('return arguments[0].scrollHeight;',scrollers)\n",
    "        #print(current_height,new_height)\n",
    "        if current_height==new_height:\n",
    "            break;\n",
    "        current_height=new_height\n",
    "    followers=driver.find_elements_by_xpath('//div[@class=\"_1XyCr  \"]//div[@class=\"isgrP\"]//li[@class=\"wo9IH\"]')\n",
    "    for i in followers:\n",
    "        list_names.append(i.find_element_by_tag_name('a').get_attribute('href'))\n",
    "    driver.back()\n",
    "    time.sleep(1)\n",
    "    driver.back()\n",
    "    time.sleep(2)\n",
    "    \n",
    "\n",
    "\n",
    "    \n",
    "    "
   ]
  },
  {
   "cell_type": "code",
   "execution_count": 55,
   "id": "63374288",
   "metadata": {},
   "outputs": [
    {
     "name": "stderr",
     "output_type": "stream",
     "text": [
      "<ipython-input-55-f48cc917ac63>:1: DeprecationWarning: find_element_by_* commands are deprecated. Please use find_element() instead\n",
      "  search_bar=driver.find_element_by_xpath('//div[@class=\"MWDvN\"]/div[contains(@class,\" QY4Ed\")]/input')\n",
      "<ipython-input-55-f48cc917ac63>:3: DeprecationWarning: find_elements_by_* commands are deprecated. Please use find_elements() instead\n",
      "  scroller=driver.find_elements_by_xpath('//div[@class=\"_01UL2\"]/div[@class=\"fuqBx \"]/div')\n"
     ]
    }
   ],
   "source": [
    "# search_bar=driver.find_element_by_xpath('//div[@class=\"MWDvN\"]/div[contains(@class,\" QY4Ed\")]/input')\n",
    "# search_bar.send_keys('shopping')\n",
    "# scroller=driver.find_elements_by_xpath('//div[@class=\"_01UL2\"]/div[@class=\"fuqBx \"]/div')\n",
    "# scroller[1].click()\n",
    "# time.sleep(4)\n",
    "# follower_btn=driver.find_elements_by_xpath('//ul[@class=\"k9GMp \"]/li[@class=\"Y8-fY \"]')\n",
    "# time.sleep(1)\n",
    "# follower_btn=follower_btn[1]\n",
    "# follower_btn.find_element_by_tag_name('a').click()\n",
    "# time.sleep(3)\n",
    "# scrollers=driver.find_element_by_xpath('//div[@class=\"_1XyCr  \"]//div[@class=\"isgrP\"]')\n",
    "#     current_height=driver.execute_script('return arguments[0].scrollHeight;',scrollers)\n",
    "#     while True:\n",
    "#         driver.execute_script('arguments[0].scrollTo(0,arguments[1]);',scrollers,current_height)\n",
    "#         time.sleep(4)\n",
    "#         new_height=driver.execute_script('return arguments[0].scrollHeight;',scrollers)\n",
    "#         #print(current_height,new_height)\n",
    "#         if current_height==new_height:\n",
    "#             break;\n",
    "#         current_height=new_height\n",
    "#     followers=driver.find_elements_by_xpath('//div[@class=\"_1XyCr  \"]//div[@class=\"isgrP\"]//li[@class=\"wo9IH\"]')\n",
    "#     for i in followers:\n",
    "#         list_names.append(i.find_element_by_tag_name('a').get_attribute('href'))\n",
    "#     driver.back()\n",
    "#     driver.back()"
   ]
  },
  {
   "cell_type": "code",
   "execution_count": 56,
   "id": "47b3fdde",
   "metadata": {},
   "outputs": [
    {
     "name": "stderr",
     "output_type": "stream",
     "text": [
      "<ipython-input-56-6ecefc337624>:2: DeprecationWarning: find_elements_by_* commands are deprecated. Please use find_elements() instead\n",
      "  follower_btn=driver.find_elements_by_xpath('//ul[@class=\"k9GMp \"]/li[@class=\"Y8-fY \"]')\n"
     ]
    }
   ],
   "source": [
    "# time.sleep(4)\n",
    "# follower_btn=driver.find_elements_by_xpath('//ul[@class=\"k9GMp \"]/li[@class=\"Y8-fY \"]')\n",
    "# time.sleep(1)\n",
    "# follower_btn=follower_btn[1]\n",
    "# follower_btn.find_element_by_tag_name('a').click()\n",
    "# time.sleep(3)"
   ]
  },
  {
   "cell_type": "code",
   "execution_count": 58,
   "id": "560f88ce",
   "metadata": {},
   "outputs": [
    {
     "name": "stderr",
     "output_type": "stream",
     "text": [
      "<ipython-input-58-5d9762ec2b83>:1: DeprecationWarning: find_element_by_* commands are deprecated. Please use find_element() instead\n",
      "  scrollers=driver.find_element_by_xpath('//div[@class=\"_1XyCr  \"]//div[@class=\"isgrP\"]')\n",
      "<ipython-input-58-5d9762ec2b83>:11: DeprecationWarning: find_elements_by_* commands are deprecated. Please use find_elements() instead\n",
      "  followers=driver.find_elements_by_xpath('//div[@class=\"_1XyCr  \"]//div[@class=\"isgrP\"]//li[@class=\"wo9IH\"]')\n"
     ]
    }
   ],
   "source": [
    "# scrollers=driver.find_element_by_xpath('//div[@class=\"_1XyCr  \"]//div[@class=\"isgrP\"]')\n",
    "# current_height=driver.execute_script('return arguments[0].scrollHeight;',scrollers)\n",
    "# while True:\n",
    "#     driver.execute_script('arguments[0].scrollTo(0,arguments[1]);',scrollers,current_height)\n",
    "#     time.sleep(4)\n",
    "#     new_height=driver.execute_script('return arguments[0].scrollHeight;',scrollers)\n",
    "#     #print(current_height,new_height)\n",
    "#     if current_height==new_height:\n",
    "#         break;\n",
    "#     current_height=new_height\n",
    "# followers=driver.find_elements_by_xpath('//div[@class=\"_1XyCr  \"]//div[@class=\"isgrP\"]//li[@class=\"wo9IH\"]')\n",
    "# for i in followers:\n",
    "#     list_names.append(i.find_element_by_tag_name('a').get_attribute('href'))\n",
    "# driver.back()\n",
    "# driver.back()"
   ]
  },
  {
   "cell_type": "code",
   "execution_count": 17,
   "id": "90d3f352",
   "metadata": {},
   "outputs": [
    {
     "data": {
      "text/plain": [
       "6308"
      ]
     },
     "execution_count": 17,
     "metadata": {},
     "output_type": "execute_result"
    }
   ],
   "source": [
    "len(list_names)"
   ]
  },
  {
   "cell_type": "code",
   "execution_count": null,
   "id": "f89d0c86",
   "metadata": {},
   "outputs": [],
   "source": []
  },
  {
   "cell_type": "code",
   "execution_count": 24,
   "id": "68fa6d6c",
   "metadata": {},
   "outputs": [],
   "source": [
    "driver.back()"
   ]
  },
  {
   "cell_type": "code",
   "execution_count": null,
   "id": "62ccb081",
   "metadata": {},
   "outputs": [],
   "source": [
    "# scroller[0].click()\n",
    "# time.sleep(4)\n"
   ]
  },
  {
   "cell_type": "code",
   "execution_count": null,
   "id": "f65a371c",
   "metadata": {},
   "outputs": [],
   "source": [
    "# follower_btn=driver.find_elements_by_xpath('//ul[@class=\"k9GMp \"]/li[@class=\"Y8-fY \"]')\n",
    "# follower_btn=follower_btn[1]"
   ]
  },
  {
   "cell_type": "code",
   "execution_count": null,
   "id": "551675ab",
   "metadata": {},
   "outputs": [],
   "source": [
    "# follower_btn.find_element_by_tag_name('a').click()"
   ]
  },
  {
   "cell_type": "code",
   "execution_count": null,
   "id": "2ee6c149",
   "metadata": {},
   "outputs": [],
   "source": [
    "# current_height=driver.execute_script('return document.body.scrollHeight;')\n",
    "# while True:\n",
    "#     driver.execute_script('window.scrollTo(0,arguments[0]);',current_height)\n",
    "#     time.sleep(3)\n",
    "#     new_height=driver.execute_script('return document.body.scrollHeight;')\n",
    "#     print(current_height,new_height)\n",
    "#     if new_height==current_height:\n",
    "#         break\n",
    "#     current_height=new_height\n",
    "    "
   ]
  },
  {
   "cell_type": "code",
   "execution_count": null,
   "id": "ae8a321f",
   "metadata": {},
   "outputs": [],
   "source": [
    "# scroller=driver.find_element_by_xpath('//div[@class=\"_1XyCr  \"]//div[@class=\"isgrP\"]')"
   ]
  },
  {
   "cell_type": "code",
   "execution_count": null,
   "id": "141f82c4",
   "metadata": {},
   "outputs": [],
   "source": [
    "#ef_driver = EventFiringWebDriver(driver, AbstractEventListener())\n",
    "# current_height=driver.execute_script('return arguments[0].scrollHeight;',scroller)\n",
    "# while True:\n",
    "#     driver.execute_script('arguments[0].scrollTo(0,arguments[1]);',scroller,current_height)\n",
    "#     time.sleep(3)\n",
    "#     new_height=driver.execute_script('return arguments[0].scrollHeight;',scroller)\n",
    "#     print(current_height,new_height)\n",
    "#     if current_height==new_height:\n",
    "#         break;\n",
    "#     current_height=new_height\n"
   ]
  },
  {
   "cell_type": "code",
   "execution_count": null,
   "id": "a46ab559",
   "metadata": {},
   "outputs": [],
   "source": [
    "# followers=driver.find_elements_by_xpath('//div[@class=\"_1XyCr  \"]//div[@class=\"isgrP\"]//li[@class=\"wo9IH\"]')"
   ]
  },
  {
   "cell_type": "code",
   "execution_count": null,
   "id": "1b3158d0",
   "metadata": {},
   "outputs": [],
   "source": [
    "# len(followers)"
   ]
  },
  {
   "cell_type": "code",
   "execution_count": null,
   "id": "067b9bd8",
   "metadata": {},
   "outputs": [],
   "source": [
    "# list_names=list()\n"
   ]
  },
  {
   "cell_type": "code",
   "execution_count": null,
   "id": "15c025d7",
   "metadata": {},
   "outputs": [],
   "source": [
    "# for i in followers:\n",
    "#     list_names.append(i.find_element_by_tag_name('a').get_attribute('href'))    "
   ]
  },
  {
   "cell_type": "code",
   "execution_count": null,
   "id": "e9f35412",
   "metadata": {},
   "outputs": [],
   "source": [
    "# print(list_names)"
   ]
  },
  {
   "cell_type": "code",
   "execution_count": 18,
   "id": "95ea5421",
   "metadata": {},
   "outputs": [
    {
     "data": {
      "text/plain": [
       "0         https://www.instagram.com/lazy_bhallu/\n",
       "1       https://www.instagram.com/asifkhan.2580/\n",
       "2       https://www.instagram.com/sumankhatri53/\n",
       "3         https://www.instagram.com/nanachera04/\n",
       "4        https://www.instagram.com/palak_.gupta/\n",
       "                          ...                   \n",
       "6303         https://www.instagram.com/babyka_m/\n",
       "6304      https://www.instagram.com/_.anaya_.22/\n",
       "6305    https://www.instagram.com/prin.cess0067/\n",
       "6306     https://www.instagram.com/mansuchettri/\n",
       "6307     https://www.instagram.com/_vaiisshali_/\n",
       "Length: 6308, dtype: object"
      ]
     },
     "execution_count": 18,
     "metadata": {},
     "output_type": "execute_result"
    }
   ],
   "source": [
    "import pandas as pd\n",
    "df=pd.Series(data=list_names)\n",
    "df"
   ]
  },
  {
   "cell_type": "code",
   "execution_count": 19,
   "id": "0798f530",
   "metadata": {},
   "outputs": [],
   "source": [
    "df.to_excel('usernames_1.xlsx', index=False, header=False)"
   ]
  },
  {
   "cell_type": "code",
   "execution_count": null,
   "id": "88923323",
   "metadata": {},
   "outputs": [],
   "source": []
  }
 ],
 "metadata": {
  "kernelspec": {
   "display_name": "Python 3",
   "language": "python",
   "name": "python3"
  },
  "language_info": {
   "codemirror_mode": {
    "name": "ipython",
    "version": 3
   },
   "file_extension": ".py",
   "mimetype": "text/x-python",
   "name": "python",
   "nbconvert_exporter": "python",
   "pygments_lexer": "ipython3",
   "version": "3.8.8"
  }
 },
 "nbformat": 4,
 "nbformat_minor": 5
}
