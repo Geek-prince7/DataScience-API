{
 "cells": [
  {
   "cell_type": "code",
   "execution_count": 1,
   "id": "221622e6",
   "metadata": {},
   "outputs": [],
   "source": [
    "#coding linear regression for only 1 feauture in x\n",
    "import statistics"
   ]
  },
  {
   "cell_type": "code",
   "execution_count": 2,
   "id": "4d07d149",
   "metadata": {},
   "outputs": [],
   "source": [
    "def fit(x,y):\n",
    "    num=(x*y).mean()-x.mean()*y.mean()\n",
    "    den=(x**2).mean()-(x.mean())**2\n",
    "    m=num/den\n",
    "    c=y.mean()-m*x.mean()\n",
    "    return m,c\n",
    "    "
   ]
  },
  {
   "cell_type": "code",
   "execution_count": 3,
   "id": "b346c784",
   "metadata": {},
   "outputs": [],
   "source": [
    "def predict(x,m,c):\n",
    "    y=m*x+c\n",
    "    return y"
   ]
  },
  {
   "cell_type": "code",
   "execution_count": 4,
   "id": "6c719962",
   "metadata": {},
   "outputs": [],
   "source": [
    "def score(y_pred,y_true):\n",
    "    u=((y_true-y_pred)**2).sum()\n",
    "    v=((y_true-y_true.mean())**2).sum()\n",
    "    return 1-u/v"
   ]
  },
  {
   "cell_type": "code",
   "execution_count": 8,
   "id": "eba721e4",
   "metadata": {},
   "outputs": [],
   "source": [
    "def cost(x,y,m,c):\n",
    "    cost=((y-m*x-c)**2).sum()\n",
    "    return cost\n",
    "#we can also divide cost with n to get average cost \n",
    "#cost.mean()"
   ]
  },
  {
   "cell_type": "code",
   "execution_count": null,
   "id": "e33f9a37",
   "metadata": {},
   "outputs": [],
   "source": []
  }
 ],
 "metadata": {
  "kernelspec": {
   "display_name": "Python 3 (ipykernel)",
   "language": "python",
   "name": "python3"
  },
  "language_info": {
   "codemirror_mode": {
    "name": "ipython",
    "version": 3
   },
   "file_extension": ".py",
   "mimetype": "text/x-python",
   "name": "python",
   "nbconvert_exporter": "python",
   "pygments_lexer": "ipython3",
   "version": "3.9.7"
  }
 },
 "nbformat": 4,
 "nbformat_minor": 5
}
